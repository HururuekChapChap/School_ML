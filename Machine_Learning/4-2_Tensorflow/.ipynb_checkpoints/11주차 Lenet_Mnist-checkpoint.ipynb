{
 "cells": [
  {
   "cell_type": "code",
   "execution_count": 1,
   "metadata": {},
   "outputs": [],
   "source": [
    "from sklearn.preprocessing import LabelBinarizer\n",
    "from sklearn.metrics import classification_report\n",
    "from Lenet import LeNet #from 파일명 import 클래스 이름\n",
    "from tensorflow.keras.optimizers import SGD\n",
    "from tensorflow.keras.datasets import mnist\n",
    "from tensorflow.keras import backend as K\n",
    "import tensorflow as tf\n",
    "import matplotlib.pyplot as plt\n",
    "import numpy as np"
   ]
  },
  {
   "cell_type": "code",
   "execution_count": 2,
   "metadata": {},
   "outputs": [
    {
     "name": "stdout",
     "output_type": "stream",
     "text": [
      "[INFO] accessing MNIST...\n",
      "(60000, 28, 28)\n"
     ]
    }
   ],
   "source": [
    "print(\"[INFO] accessing MNIST...\")\n",
    "((trainData, trainLabels), (testData, testLabels)) = mnist.load_data()\n",
    "print(trainData.shape)\n",
    "trainData = trainData.reshape((trainData.shape[0],28,28,1)) #0번째에 트레인데이터 갯수가 들어가 있다.\n",
    "testData = testData.reshape((testData.shape[0],28,28,1))\n",
    "\n",
    "#scale data to the range of [0,1]\n",
    "trainData = trainData.astype(\"float32\") / 255.0\n",
    "testData = testData.astype(\"float32\") / 255.0\n",
    "\n",
    "#convert the labels from integers to vectors\n",
    "#le = LabelBinarizer()\n",
    "#trainLabels = le.fit_transform(trainLabels) #=> 자동으로 정수로 변환 워나코딩으로 자동 변화\n",
    "#testLabels = le.transform(testLabels)\n",
    "\n",
    "numclass = 10\n",
    "trainLabels = tf.keras.utils.to_categorical(trainLabels, num_classes = numclass)\n",
    "testLabels = tf.keras.utils.to_categorical(testLabels, num_classes = numclass)"
   ]
  },
  {
   "cell_type": "code",
   "execution_count": 3,
   "metadata": {},
   "outputs": [
    {
     "name": "stdout",
     "output_type": "stream",
     "text": [
      "[INFO] compiling model...\n"
     ]
    }
   ],
   "source": [
    "#initialize the optimizer and model\n",
    "print(\"[INFO] compiling model...\")\n",
    "opt = SGD(lr=0.01)\n",
    "model = LeNet.build(width=28, height=28, depth=1, classes=numclass)"
   ]
  },
  {
   "cell_type": "code",
   "execution_count": 5,
   "metadata": {},
   "outputs": [
    {
     "name": "stdout",
     "output_type": "stream",
     "text": [
      "[INFO] training network\n",
      "Epoch 1/20\n",
      "469/469 [==============================] - 42s 90ms/step - loss: 1.0961 - accuracy: 0.7121 - val_loss: 0.3341 - val_accuracy: 0.9055\n",
      "Epoch 2/20\n",
      "469/469 [==============================] - 42s 90ms/step - loss: 0.2612 - accuracy: 0.9226 - val_loss: 0.2224 - val_accuracy: 0.9306\n",
      "Epoch 3/20\n",
      "469/469 [==============================] - 42s 90ms/step - loss: 0.1828 - accuracy: 0.9459 - val_loss: 0.1430 - val_accuracy: 0.9576\n",
      "Epoch 4/20\n",
      "469/469 [==============================] - 42s 89ms/step - loss: 0.1418 - accuracy: 0.9585 - val_loss: 0.1149 - val_accuracy: 0.9656\n",
      "Epoch 5/20\n",
      "469/469 [==============================] - 42s 89ms/step - loss: 0.1165 - accuracy: 0.9657 - val_loss: 0.0940 - val_accuracy: 0.9705\n",
      "Epoch 6/20\n",
      "469/469 [==============================] - 42s 90ms/step - loss: 0.0984 - accuracy: 0.9716 - val_loss: 0.0822 - val_accuracy: 0.9767\n",
      "Epoch 7/20\n",
      "469/469 [==============================] - 41s 88ms/step - loss: 0.0868 - accuracy: 0.9740 - val_loss: 0.0784 - val_accuracy: 0.9761\n",
      "Epoch 8/20\n",
      "469/469 [==============================] - 41s 88ms/step - loss: 0.0778 - accuracy: 0.9768 - val_loss: 0.0700 - val_accuracy: 0.9772\n",
      "Epoch 9/20\n",
      "469/469 [==============================] - 42s 89ms/step - loss: 0.0707 - accuracy: 0.9789 - val_loss: 0.0629 - val_accuracy: 0.9809\n",
      "Epoch 10/20\n",
      "469/469 [==============================] - 42s 89ms/step - loss: 0.0651 - accuracy: 0.9806 - val_loss: 0.0568 - val_accuracy: 0.9821\n",
      "Epoch 11/20\n",
      "469/469 [==============================] - 42s 89ms/step - loss: 0.0603 - accuracy: 0.9816 - val_loss: 0.0561 - val_accuracy: 0.9824\n",
      "Epoch 12/20\n",
      "469/469 [==============================] - 42s 89ms/step - loss: 0.0561 - accuracy: 0.9829 - val_loss: 0.0546 - val_accuracy: 0.9823\n",
      "Epoch 13/20\n",
      "469/469 [==============================] - 42s 89ms/step - loss: 0.0533 - accuracy: 0.9837 - val_loss: 0.0485 - val_accuracy: 0.9846\n",
      "Epoch 14/20\n",
      "469/469 [==============================] - 42s 89ms/step - loss: 0.0500 - accuracy: 0.9848 - val_loss: 0.0531 - val_accuracy: 0.9823\n",
      "Epoch 15/20\n",
      "469/469 [==============================] - 42s 89ms/step - loss: 0.0474 - accuracy: 0.9859 - val_loss: 0.0465 - val_accuracy: 0.9846\n",
      "Epoch 16/20\n",
      "469/469 [==============================] - 40s 85ms/step - loss: 0.0451 - accuracy: 0.9864 - val_loss: 0.0443 - val_accuracy: 0.9845\n",
      "Epoch 17/20\n",
      "469/469 [==============================] - 40s 86ms/step - loss: 0.0432 - accuracy: 0.9869 - val_loss: 0.0429 - val_accuracy: 0.9864\n",
      "Epoch 18/20\n",
      "469/469 [==============================] - 40s 85ms/step - loss: 0.0412 - accuracy: 0.9879 - val_loss: 0.0415 - val_accuracy: 0.9861\n",
      "Epoch 19/20\n",
      "469/469 [==============================] - 41s 87ms/step - loss: 0.0391 - accuracy: 0.9883 - val_loss: 0.0449 - val_accuracy: 0.9854\n",
      "Epoch 20/20\n",
      "469/469 [==============================] - 41s 87ms/step - loss: 0.0374 - accuracy: 0.9888 - val_loss: 0.0435 - val_accuracy: 0.9859\n"
     ]
    }
   ],
   "source": [
    "model.compile(loss=\"categorical_crossentropy\", optimizer=opt, metrics=[\"accuracy\"])\n",
    "#train the network\n",
    "print(\"[INFO] training network\")\n",
    "H = model.fit(trainData, trainLabels, validation_data=(testData, testLabels), batch_size=128, epochs=20, verbose=1)"
   ]
  },
  {
   "cell_type": "code",
   "execution_count": 6,
   "metadata": {},
   "outputs": [
    {
     "data": {
      "text/plain": [
       "[0.043469179421663284, 0.9858999848365784]"
      ]
     },
     "execution_count": 6,
     "metadata": {},
     "output_type": "execute_result"
    }
   ],
   "source": [
    "#evaluate the network\n",
    "\n",
    "#강의 11주차 38분 - 테스트 결과를 잘 보여주는 방법에 대한 코드\n",
    "\n",
    "model.evaluate(testData, testLabels,verbose= 0)"
   ]
  },
  {
   "cell_type": "code",
   "execution_count": null,
   "metadata": {},
   "outputs": [],
   "source": []
  }
 ],
 "metadata": {
  "kernelspec": {
   "display_name": "Python 3",
   "language": "python",
   "name": "python3"
  },
  "language_info": {
   "codemirror_mode": {
    "name": "ipython",
    "version": 3
   },
   "file_extension": ".py",
   "mimetype": "text/x-python",
   "name": "python",
   "nbconvert_exporter": "python",
   "pygments_lexer": "ipython3",
   "version": "3.7.9"
  }
 },
 "nbformat": 4,
 "nbformat_minor": 4
}
