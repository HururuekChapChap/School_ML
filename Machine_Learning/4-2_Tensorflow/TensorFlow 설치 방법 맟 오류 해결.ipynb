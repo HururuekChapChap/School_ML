{
 "cells": [
  {
   "cell_type": "markdown",
   "metadata": {},
   "source": [
    "# Conda 환경으로 Tensorflow 설치 방법\n",
    "https://boysboy3.tistory.com/144\n",
    "\n",
    "# 설치 후에도 오류 해결 방법 - 모든게 새롭게 설치\n",
    "https://copycoding.tistory.com/79\n",
    "\n",
    "# Jupyter NoteBook 경로 설정 - 1\n",
    "https://agiantmind.tistory.com/194\n",
    "\n",
    "# Jupyter NoteBook 경로 설정 - 2\n",
    "https://machine-geon.tistory.com/43\n",
    "\n",
    "# Jupyter NoteBook (tensorflow) 설치 방법 \n",
    "https://stackoverflow.com/a/52083402\n"
   ]
  },
  {
   "cell_type": "code",
   "execution_count": 1,
   "metadata": {},
   "outputs": [
    {
     "name": "stdout",
     "output_type": "stream",
     "text": [
      "E:\\Python\\envs\\tensorflow\\python.exe\n"
     ]
    }
   ],
   "source": [
    "import sys\n",
    "print(sys.executable)"
   ]
  },
  {
   "cell_type": "code",
   "execution_count": null,
   "metadata": {},
   "outputs": [],
   "source": []
  }
 ],
 "metadata": {
  "kernelspec": {
   "display_name": "Python 3",
   "language": "python",
   "name": "python3"
  },
  "language_info": {
   "codemirror_mode": {
    "name": "ipython",
    "version": 3
   },
   "file_extension": ".py",
   "mimetype": "text/x-python",
   "name": "python",
   "nbconvert_exporter": "python",
   "pygments_lexer": "ipython3",
   "version": "3.7.9"
  }
 },
 "nbformat": 4,
 "nbformat_minor": 4
}
