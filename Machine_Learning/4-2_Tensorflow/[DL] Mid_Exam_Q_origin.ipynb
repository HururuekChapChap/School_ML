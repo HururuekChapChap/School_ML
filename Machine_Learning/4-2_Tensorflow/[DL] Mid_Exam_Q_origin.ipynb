{
 "cells": [
  {
   "cell_type": "markdown",
   "metadata": {},
   "source": [
    "### Pima Indian Diabetes Dataset\n",
    "#### Binary classification problem\n",
    "##### # of feature : 8\n",
    "###### feature 0: 과거 임신횟수\n",
    "###### feature 1: 포도당 부하 검사 2시간 후 공복 혈당 농도\n",
    "###### feature 2: 확장기 혈압\n",
    "###### feature 3: 삼두근 피부 주름 두계\n",
    "###### feature 4: 혈청 인슐린\n",
    "###### feature 5: 체질량 지수\n",
    "###### feature 6: 당뇨병 가족력\n",
    "###### feature 7: 나이\n",
    "###### output: 0(당뇨아님), 1(당뇨)"
   ]
  },
  {
   "cell_type": "code",
   "execution_count": null,
   "metadata": {},
   "outputs": [],
   "source": [
    "import tensorflow as tf\n",
    "import numpy as np\n",
    "import matplotlib.pyplot as plt\n",
    "import pandas as pd\n",
    "from sklearn.model_selection import train_test_split\n",
    "\n",
    "print(tf.__version__)"
   ]
  },
  {
   "cell_type": "markdown",
   "metadata": {},
   "source": [
    "#### feature names = [\"pregnant\", \"plasma\", \"pressure\", \"thickness\", \"insulin\", \"BMI\", \"pedigree\", \"age\", \"class\"])"
   ]
  },
  {
   "cell_type": "code",
   "execution_count": null,
   "metadata": {},
   "outputs": [],
   "source": [
    "input_file = 'https://raw.githubusercontent.com/jbrownlee/Datasets/master/pima-indians-diabetes.data.csv'\n",
    "data = np.loadtxt(input_file, delimiter=',')\n",
    "x, y = data[:, :-1], data[:, -1]\n",
    "print(data.shape)\n",
    "train_X, test_X, train_Y, test_Y = train_test_split(x, y, random_state=0)\n",
    "print(train_X.shape)\n",
    "print(train_Y.shape)\n",
    "print(test_X.shape)\n",
    "print(test_Y.shape)"
   ]
  },
  {
   "cell_type": "code",
   "execution_count": null,
   "metadata": {
    "scrolled": false
   },
   "outputs": [],
   "source": [
    "# TODO: 코드 구현 \n",
    "model = tf.keras.Sequential([\n",
    "   ..........\n",
    "])"
   ]
  },
  {
   "cell_type": "code",
   "execution_count": null,
   "metadata": {
    "scrolled": false
   },
   "outputs": [],
   "source": [
    "print(\"훈련 세트 정확도\")\n",
    "print(model.evaluate(train_X, train_Y, verbose=0))\n",
    "print(\"테스트 세트 정확도\")\n",
    "print(model.evaluate(test_X, test_Y, verbose=0))"
   ]
  },
  {
   "cell_type": "code",
   "execution_count": null,
   "metadata": {},
   "outputs": [],
   "source": []
  }
 ],
 "metadata": {
  "kernelspec": {
   "display_name": "Python 3",
   "language": "python",
   "name": "python3"
  },
  "language_info": {
   "codemirror_mode": {
    "name": "ipython",
    "version": 3
   },
   "file_extension": ".py",
   "mimetype": "text/x-python",
   "name": "python",
   "nbconvert_exporter": "python",
   "pygments_lexer": "ipython3",
   "version": "3.7.9"
  }
 },
 "nbformat": 4,
 "nbformat_minor": 4
}
