{
 "cells": [
  {
   "cell_type": "code",
   "execution_count": 4,
   "metadata": {},
   "outputs": [],
   "source": [
    "try :\n",
    "    %tensorflow_version 2.x\n",
    "except Exception:\n",
    "    pass\n",
    "\n",
    "import tensorflow as tf\n",
    "import matplotlib.pyplot as plt\n",
    "import numpy as np\n",
    "from tensorflow.keras.preprocessing.image import ImageDataGenerator\n",
    "import os"
   ]
  },
  {
   "cell_type": "code",
   "execution_count": 7,
   "metadata": {},
   "outputs": [],
   "source": [
    "train_dir = \"./cats_and_dogs_small/train\"\n",
    "train_cats_dir = os.path.join(train_dir, \"cats\")\n",
    "train_dogs_dir = os.path.join(train_dir, \"dogs\")\n",
    "\n",
    "test_dir = \"./cats_and_dogs_small/test\"\n",
    "test_cats_dir = os.path.join(test_dir, \"cats\")\n",
    "test_dogs_dir = os.path.join(test_dir, \"dogs\")\n",
    "\n",
    "val_dir = \"./cats_and_dogs_small/val\"\n",
    "val_cats_dir = os.path.join(val_dir, \"cats\")\n",
    "val_dogs_dir = os.path.join(val_dir, \"dogs\")"
   ]
  },
  {
   "cell_type": "code",
   "execution_count": 8,
   "metadata": {},
   "outputs": [
    {
     "name": "stdout",
     "output_type": "stream",
     "text": [
      "Found 1689 images belonging to 2 classes.\n",
      "Found 1000 images belonging to 2 classes.\n",
      "Found 1000 images belonging to 2 classes.\n"
     ]
    }
   ],
   "source": [
    "#데이터 전처리\n",
    "# 1/255 스케일\n",
    "train_datagen = ImageDataGenerator(rescale=1./255,\n",
    "                                  shear_range=0.2,\n",
    "                                  zoom_range=0.2,\n",
    "                                  horizontal_flip=True)\n",
    "\n",
    "#테스트는 크기만 변환해주고 변환을 해주지 않는다. 테스트니깐\n",
    "test_datagen = ImageDataGenerator(rescale=1./255)\n",
    "\n",
    "#이미지를 디렉토리로 부터 가져오는 함수\n",
    "#가져온 다음에 train_datagen을 통해서 생성해줌\n",
    "#target size\n",
    "train_generator = train_datagen.flow_from_directory(train_dir,\n",
    "                                                   target_size=(150,150),\n",
    "                                                   batch_size=20,\n",
    "                                                   class_mode = \"binary\")\n",
    "\n",
    "validation_generator = test_datagen.flow_from_directory(\n",
    "val_dir,\n",
    "target_size=(150,150),\n",
    "batch_size=20,\n",
    "class_mode=\"binary\")\n",
    "\n",
    "test_generator = test_datagen.flow_from_directory(\n",
    "test_dir,\n",
    "target_size=(150,150),\n",
    "batch_size=20,\n",
    "class_mode=\"binary\")"
   ]
  },
  {
   "cell_type": "code",
   "execution_count": 4,
   "metadata": {},
   "outputs": [
    {
     "name": "stdout",
     "output_type": "stream",
     "text": [
      "배치 데이터 크기:  (20, 150, 150, 3)\n",
      "배치 레이블 크기:  (20,)\n"
     ]
    }
   ],
   "source": [
    "for d , l in train_generator:\n",
    "    print(\"배치 데이터 크기: \", d.shape)\n",
    "    print(\"배치 레이블 크기: \", l.shape)\n",
    "    break"
   ]
  },
  {
   "cell_type": "code",
   "execution_count": 5,
   "metadata": {},
   "outputs": [
    {
     "name": "stdout",
     "output_type": "stream",
     "text": [
      "Model: \"sequential\"\n",
      "_________________________________________________________________\n",
      "Layer (type)                 Output Shape              Param #   \n",
      "=================================================================\n",
      "conv2d (Conv2D)              (None, 148, 148, 32)      896       \n",
      "_________________________________________________________________\n",
      "max_pooling2d (MaxPooling2D) (None, 74, 74, 32)        0         \n",
      "_________________________________________________________________\n",
      "conv2d_1 (Conv2D)            (None, 72, 72, 64)        18496     \n",
      "_________________________________________________________________\n",
      "max_pooling2d_1 (MaxPooling2 (None, 36, 36, 64)        0         \n",
      "_________________________________________________________________\n",
      "conv2d_2 (Conv2D)            (None, 34, 34, 128)       73856     \n",
      "_________________________________________________________________\n",
      "flatten (Flatten)            (None, 147968)            0         \n",
      "_________________________________________________________________\n",
      "dense (Dense)                (None, 128)               18940032  \n",
      "_________________________________________________________________\n",
      "dropout (Dropout)            (None, 128)               0         \n",
      "_________________________________________________________________\n",
      "dense_1 (Dense)              (None, 1)                 129       \n",
      "=================================================================\n",
      "Total params: 19,033,409\n",
      "Trainable params: 19,033,409\n",
      "Non-trainable params: 0\n",
      "_________________________________________________________________\n",
      "Epoch 1/10\n",
      "100/100 [==============================] - 47s 470ms/step - loss: 5.9605e-08 - accuracy: 0.5000 - val_loss: 5.9605e-08 - val_accuracy: 0.5000\n",
      "Epoch 2/10\n",
      "100/100 [==============================] - 52s 516ms/step - loss: 5.9605e-08 - accuracy: 0.4995 - val_loss: 5.9605e-08 - val_accuracy: 0.5000\n",
      "Epoch 3/10\n",
      "100/100 [==============================] - 50s 497ms/step - loss: 5.9605e-08 - accuracy: 0.5000 - val_loss: 5.9605e-08 - val_accuracy: 0.5000\n",
      "Epoch 4/10\n",
      "100/100 [==============================] - 48s 479ms/step - loss: 5.9605e-08 - accuracy: 0.4985 - val_loss: 5.9605e-08 - val_accuracy: 0.5000\n",
      "Epoch 5/10\n",
      "100/100 [==============================] - 50s 499ms/step - loss: 5.9605e-08 - accuracy: 0.4975 - val_loss: 5.9605e-08 - val_accuracy: 0.5000\n",
      "Epoch 6/10\n",
      "100/100 [==============================] - 47s 468ms/step - loss: 5.9605e-08 - accuracy: 0.4985 - val_loss: 5.9605e-08 - val_accuracy: 0.5000\n",
      "Epoch 7/10\n",
      "100/100 [==============================] - 47s 473ms/step - loss: 5.9605e-08 - accuracy: 0.5005 - val_loss: 5.9605e-08 - val_accuracy: 0.5000\n",
      "Epoch 8/10\n",
      "100/100 [==============================] - 47s 470ms/step - loss: 5.9605e-08 - accuracy: 0.5005 - val_loss: 5.9605e-08 - val_accuracy: 0.5000\n",
      "Epoch 9/10\n",
      "100/100 [==============================] - 49s 490ms/step - loss: 5.9605e-08 - accuracy: 0.5005 - val_loss: 5.9605e-08 - val_accuracy: 0.5000\n",
      "Epoch 10/10\n",
      "100/100 [==============================] - 49s 491ms/step - loss: 5.9605e-08 - accuracy: 0.4995 - val_loss: 5.9605e-08 - val_accuracy: 0.5000\n"
     ]
    }
   ],
   "source": [
    "model = tf.keras.Sequential(\n",
    "[\n",
    "    tf.keras.layers.Conv2D(input_shape=(150,150,3), kernel_size=(3,3),filters=32),\n",
    "    \n",
    "    tf.keras.layers.MaxPool2D(strides=(2,2)),\n",
    "                        \n",
    "    tf.keras.layers.Conv2D(kernel_size=(3,3),filters=64),\n",
    "                              \n",
    "    tf.keras.layers.MaxPool2D(strides=(2,2)),\n",
    "                              \n",
    "    tf.keras.layers.Conv2D(kernel_size=(3,3),filters=128),                          \n",
    "                              \n",
    "    tf.keras.layers.Flatten(),\n",
    "                              \n",
    "    tf.keras.layers.Dense(units=128,activation=\"relu\"),\n",
    "                              \n",
    "    tf.keras.layers.Dropout(rate=0.3),\n",
    "    tf.keras.layers.Dense(units=1,activation=\"sigmoid\")]\n",
    ")\n",
    "\n",
    "model.compile(optimizer=tf.keras.optimizers.Adam(), loss=\"categorical_crossentropy\", metrics=[\"accuracy\"])\n",
    "model.summary()\n",
    "#20개씩 100번 하는 것\n",
    "history = model.fit(train_generator, steps_per_epoch=100, epochs=10, validation_data=validation_generator, validation_steps=50)"
   ]
  },
  {
   "cell_type": "code",
   "execution_count": 6,
   "metadata": {},
   "outputs": [
    {
     "data": {
      "text/plain": [
       "[5.960464477539063e-08, 0.5]"
      ]
     },
     "execution_count": 6,
     "metadata": {},
     "output_type": "execute_result"
    }
   ],
   "source": [
    "model.evaluate(test_generator,verbose=0)"
   ]
  },
  {
   "cell_type": "code",
   "execution_count": null,
   "metadata": {},
   "outputs": [],
   "source": []
  }
 ],
 "metadata": {
  "kernelspec": {
   "display_name": "Python 3",
   "language": "python",
   "name": "python3"
  },
  "language_info": {
   "codemirror_mode": {
    "name": "ipython",
    "version": 3
   },
   "file_extension": ".py",
   "mimetype": "text/x-python",
   "name": "python",
   "nbconvert_exporter": "python",
   "pygments_lexer": "ipython3",
   "version": "3.7.9"
  }
 },
 "nbformat": 4,
 "nbformat_minor": 4
}
