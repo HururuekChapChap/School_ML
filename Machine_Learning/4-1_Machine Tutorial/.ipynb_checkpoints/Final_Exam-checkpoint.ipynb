{
 "cells": [
  {
   "cell_type": "markdown",
   "metadata": {},
   "source": [
    "### Pima Indian Diabetes Dataset\n",
    "#### Binary classification problem\n",
    "##### # of feature : 8\n",
    "###### feature 0: 과거 임신횟수\n",
    "###### feature 1: 포도당 부하 검사 2시간 후 공복 혈당 농도\n",
    "###### feature 2: 확장기 혈압\n",
    "###### feature 3: 삼두근 피부 주름 두계\n",
    "###### feature 4: 혈청 인슐린\n",
    "###### feature 5: 체질량 지수\n",
    "###### feature 6: 당뇨병 가족력\n",
    "###### feature 7: 나이\n",
    "###### output: 0(당뇨아님), 1(당뇨)"
   ]
  },
  {
   "cell_type": "code",
   "execution_count": 1,
   "metadata": {},
   "outputs": [],
   "source": [
    "import numpy as np\n",
    "import matplotlib.pyplot as plt\n",
    "from sklearn.model_selection import train_test_split"
   ]
  },
  {
   "cell_type": "markdown",
   "metadata": {},
   "source": [
    "#### feature names = [\"pregnant\", \"plasma\", \"pressure\", \"thickness\", \"insulin\", \"BMI\", \"pedigree\", \"age\", \"class\"])"
   ]
  },
  {
   "cell_type": "code",
   "execution_count": 2,
   "metadata": {},
   "outputs": [
    {
     "name": "stdout",
     "output_type": "stream",
     "text": [
      "(768, 9)\n",
      "[[6.000e+00 1.480e+02 7.200e+01 3.500e+01 0.000e+00 3.360e+01 6.270e-01\n",
      "  5.000e+01]\n",
      " [1.000e+00 8.500e+01 6.600e+01 2.900e+01 0.000e+00 2.660e+01 3.510e-01\n",
      "  3.100e+01]\n",
      " [8.000e+00 1.830e+02 6.400e+01 0.000e+00 0.000e+00 2.330e+01 6.720e-01\n",
      "  3.200e+01]\n",
      " [1.000e+00 8.900e+01 6.600e+01 2.300e+01 9.400e+01 2.810e+01 1.670e-01\n",
      "  2.100e+01]\n",
      " [0.000e+00 1.370e+02 4.000e+01 3.500e+01 1.680e+02 4.310e+01 2.288e+00\n",
      "  3.300e+01]]\n",
      "[1. 0. 1. 0. 1.]\n",
      "(576, 8)\n",
      "(576,)\n",
      "(192, 8)\n",
      "(192,)\n"
     ]
    }
   ],
   "source": [
    "input_file = './data/pima-indians-diabetes.data.csv'\n",
    "data = np.loadtxt(input_file, delimiter=',')\n",
    "x, y = data[:, :-1], data[:, -1]\n",
    "print(data.shape)\n",
    "print(x[0:5])\n",
    "print(y[0:5])\n",
    "x_train, x_test, y_train, y_test = train_test_split(x, y, random_state=0)\n",
    "print(x_train.shape)\n",
    "print(y_train.shape)\n",
    "print(x_test.shape)\n",
    "print(y_test.shape)"
   ]
  },
  {
   "cell_type": "code",
   "execution_count": 3,
   "metadata": {},
   "outputs": [
    {
     "name": "stdout",
     "output_type": "stream",
     "text": [
      "스케일 조정 전 특성별 최소값: \n",
      " [ 0.     0.     0.     0.     0.     0.     0.078 21.   ]\n",
      "스케일 조정 전 특성별 최대값: \n",
      " [ 17.   198.   122.    99.   846.    67.1    2.42  81.  ]\n",
      "변환 된 후 크기 (576, 8)\n",
      "스케일 조정 후 특성별 최소값: \n",
      " [0. 0. 0. 0. 0. 0. 0. 0.]\n",
      "스케일 조정 후 특성별 최대값: \n",
      " [1. 1. 1. 1. 1. 1. 1. 1.]\n",
      "X와 Y 30 45\n",
      "훈련과 테스트 점수 81.94444444444444 80.20833333333334\n",
      "=========================================\n"
     ]
    },
    {
     "name": "stderr",
     "output_type": "stream",
     "text": [
      "E:\\Python\\lib\\site-packages\\sklearn\\neural_network\\_multilayer_perceptron.py:571: ConvergenceWarning: Stochastic Optimizer: Maximum iterations (1000) reached and the optimization hasn't converged yet.\n",
      "  % self.max_iter, ConvergenceWarning)\n"
     ]
    },
    {
     "name": "stdout",
     "output_type": "stream",
     "text": [
      "X와 Y 32 35\n",
      "훈련과 테스트 점수 82.29166666666666 80.72916666666666\n",
      "=========================================\n",
      "X와 Y 33 47\n",
      "훈련과 테스트 점수 83.68055555555556 81.77083333333334\n",
      "=========================================\n"
     ]
    },
    {
     "name": "stderr",
     "output_type": "stream",
     "text": [
      "E:\\Python\\lib\\site-packages\\sklearn\\neural_network\\_multilayer_perceptron.py:571: ConvergenceWarning: Stochastic Optimizer: Maximum iterations (1000) reached and the optimization hasn't converged yet.\n",
      "  % self.max_iter, ConvergenceWarning)\n"
     ]
    },
    {
     "name": "stdout",
     "output_type": "stream",
     "text": [
      "Search End\n"
     ]
    }
   ],
   "source": [
    "# TODO: 여기에 필요한 package를 import 한다. \n",
    "from sklearn import svm\n",
    "from sklearn.preprocessing import MinMaxScaler\n",
    "from sklearn.neural_network import MLPClassifier\n",
    "# TODO: 코드 구현 \n",
    "\n",
    "scaler = MinMaxScaler()\n",
    "\n",
    "print(\"스케일 조정 전 특성별 최소값: \\n\", x_train.min(axis=0))\n",
    "print(\"스케일 조정 전 특성별 최대값: \\n\", x_train.max(axis=0))\n",
    "x_train = scaler.fit_transform(x_train)\n",
    "print(\"변환 된 후 크기\", x_train.shape)\n",
    "print(\"스케일 조정 후 특성별 최소값: \\n\", x_train.min(axis=0))\n",
    "print(\"스케일 조정 후 특성별 최대값: \\n\", x_train.max(axis=0))\n",
    "x_test = scaler.transform(x_test)\n",
    "\n",
    "result_train = 80\n",
    "result_test = 80\n",
    "result_X = 0\n",
    "result_Y = 0\n",
    "flag = False\n",
    "\n",
    "for X in range(30,51):\n",
    "    for Y in range(30,51):\n",
    "        \n",
    "        classifier = MLPClassifier(max_iter=1000,alpha = 0.1,random_state=0, hidden_layer_sizes=[X,Y])\n",
    "        classifier.fit(x_train, y_train)\n",
    "        tmp_train = classifier.score(x_train, y_train) * 100\n",
    "        tmp_test = classifier.score(x_test, y_test) * 100\n",
    "        \n",
    "        if(tmp_train > result_train and tmp_test > result_test):\n",
    "            if(abs(tmp_test - tmp_train) >= 0 and abs(tmp_test - tmp_train) <= 3):\n",
    "                print(\"X와 Y\", X, Y)\n",
    "                print(\"훈련과 테스트 점수\", tmp_train , tmp_test)\n",
    "                print(\"=========================================\")\n",
    "                flag = True\n",
    "                result_train = tmp_train\n",
    "                result_test = tmp_test\n",
    "                result_X = X\n",
    "                result_Y = Y\n",
    "\n",
    "\n",
    "print(\"Search End\")\n",
    "\n",
    "if(flag == True):\n",
    "     classifier = MLPClassifier(max_iter=1000,alpha = 0.1,random_state=0, hidden_layer_sizes=[result_X,result_Y]).fit(x_train, y_train)\n",
    "else:\n",
    "    classifier = svm.SVC(gamma=1, C=1.0).fit(x_train, y_train)\n"
   ]
  },
  {
   "cell_type": "code",
   "execution_count": 4,
   "metadata": {},
   "outputs": [
    {
     "name": "stdout",
     "output_type": "stream",
     "text": [
      "훈련 세트 정확도: 83.68%\n",
      "테스트 세트 정확도: 81.77%\n"
     ]
    }
   ],
   "source": [
    "print(\"훈련 세트 정확도: {:.2f}%\".format(classifier.score(x_train, y_train) * 100))\n",
    "print(\"테스트 세트 정확도: {:.2f}%\".format(classifier.score(x_test, y_test) * 100))"
   ]
  },
  {
   "cell_type": "code",
   "execution_count": null,
   "metadata": {},
   "outputs": [],
   "source": []
  }
 ],
 "metadata": {
  "kernelspec": {
   "display_name": "Python 3",
   "language": "python",
   "name": "python3"
  },
  "language_info": {
   "codemirror_mode": {
    "name": "ipython",
    "version": 3
   },
   "file_extension": ".py",
   "mimetype": "text/x-python",
   "name": "python",
   "nbconvert_exporter": "python",
   "pygments_lexer": "ipython3",
   "version": "3.7.6"
  }
 },
 "nbformat": 4,
 "nbformat_minor": 4
}
