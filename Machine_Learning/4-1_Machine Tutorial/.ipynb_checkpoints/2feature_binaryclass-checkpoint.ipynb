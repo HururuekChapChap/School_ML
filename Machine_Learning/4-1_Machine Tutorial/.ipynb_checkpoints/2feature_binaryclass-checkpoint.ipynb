{
 "cells": [
  {
   "cell_type": "code",
   "execution_count": 7,
   "metadata": {},
   "outputs": [],
   "source": [
    "#리셋\n",
    "\n",
    "import numpy as np\n",
    "import matplotlib.pyplot as plt\n",
    "from scipy.optimize import minimize\n",
    "\n",
    "# 사이파이는 미분 최적화에 관련된 함수가 있고 그 중에서 미니마이즈를 이용한다.\n",
    "%matplotlib inline"
   ]
  },
  {
   "cell_type": "code",
   "execution_count": 8,
   "metadata": {},
   "outputs": [
    {
     "name": "stdout",
     "output_type": "stream",
     "text": [
      "[[0 0]\n",
      " [0 0]\n",
      " [0 0]\n",
      " [0 0]\n",
      " [0 0]\n",
      " [0 0]\n",
      " [0 0]\n",
      " [0 0]\n",
      " [0 0]\n",
      " [0 0]\n",
      " [0 0]\n",
      " [0 0]\n",
      " [0 0]\n",
      " [0 0]\n",
      " [0 0]\n",
      " [0 0]\n",
      " [0 0]\n",
      " [0 0]\n",
      " [0 0]\n",
      " [0 0]\n",
      " [0 0]\n",
      " [0 0]\n",
      " [0 0]\n",
      " [0 0]\n",
      " [0 0]\n",
      " [0 0]\n",
      " [0 0]\n",
      " [0 0]\n",
      " [0 0]\n",
      " [0 0]\n",
      " [0 0]\n",
      " [0 0]\n",
      " [0 0]\n",
      " [0 0]\n",
      " [0 0]\n",
      " [0 0]\n",
      " [0 0]\n",
      " [0 0]\n",
      " [0 0]\n",
      " [0 0]\n",
      " [0 0]\n",
      " [0 0]\n",
      " [0 0]\n",
      " [0 0]\n",
      " [0 0]\n",
      " [0 0]\n",
      " [0 0]\n",
      " [0 0]\n",
      " [0 0]\n",
      " [0 0]]\n",
      "(50, 2)\n"
     ]
    }
   ],
   "source": [
    "#초기화 단계\n",
    "np.random.seed(seed=1) # 난수고정 실행 할때 마다 난수가 일정하다.\n",
    "w = np.array([3./4. , 1.0 , -4./5.]) # 교제에 있는 식이다.\n",
    "n = 50\n",
    "dim = 2 # 이차원 \n",
    "\n",
    "# 회귀에서는 특징이 x0으로 1차원이였어요. \n",
    "# 그런데 여기서는 x0 x1로 특징이 두개에요.\n",
    "# 그래서 이차원이다.\n",
    "\n",
    "k = 2\n",
    "\n",
    "# 클래스는 k 클래스가 두개이니 2이다. X와 O로 드게\n",
    "\n",
    "scale = 1 #랜덤수에 곱하는 수\n",
    "\n",
    "t = np.zeros((n,k), dtype=np.uint8) \n",
    "\n",
    "# t는 목표값을 가진다. 즉 X 아니면 O 로 두개로 나눠준다.\n",
    "# 즉 T 행렬을 만든다. 그리고 X 가 배열 위치 0 이고\n",
    "# O가 배열위치 1라고 한다면 결과값에 따라서 그 위치에 값을 넣어준다\n",
    "\n",
    "print(t)\n",
    "\n",
    "x = scale*np.random.rand(n,dim)\n",
    "\n",
    "# 랜덤의 점들을 쭉 생성을 한다.\n",
    "\n",
    "print(x.shape)"
   ]
  },
  {
   "cell_type": "code",
   "execution_count": 9,
   "metadata": {},
   "outputs": [
    {
     "name": "stdout",
     "output_type": "stream",
     "text": [
      "[[4.17022005e-01 7.20324493e-01]\n",
      " [1.14374817e-04 3.02332573e-01]\n",
      " [1.46755891e-01 9.23385948e-02]\n",
      " [1.86260211e-01 3.45560727e-01]\n",
      " [3.96767474e-01 5.38816734e-01]]\n",
      "[[0 1]\n",
      " [1 0]\n",
      " [1 0]\n",
      " [1 0]\n",
      " [0 1]]\n"
     ]
    }
   ],
   "source": [
    "#랜덤 데이터에 0이냐 1이냐를 설정해주는 부분\n",
    "\n",
    "# 위에서 t는 모두 0이 나왔기 때문에 t 값을 설정해주는 것이다\n",
    "\n",
    "for i in range(n):\n",
    "    for j in range(k):\n",
    "        if w[0] * x[i,0] + w[1] * x[i,1] + w[2] > 0:\n",
    "            t[i, 1] = 1 # 0보다 크면 1 클래스\n",
    "        else :\n",
    "            t[i, 0] = 1 # 0보다 작으면 0 클래스\n",
    "\n",
    "print(x[:5, :]) # x0 값과 x1 의 값 각각의 셈플\n",
    "print(t[:5, :]) # 각각의 셈플에 대한 결과"
   ]
  },
  {
   "cell_type": "code",
   "execution_count": 10,
   "metadata": {},
   "outputs": [
    {
     "data": {
      "image/png": "[encoded data removed]",
      "text/plain": [
       "<Figure size 216x216 with 1 Axes>"
      ]
     },
     "metadata": {
      "needs_background": "light"
     },
     "output_type": "display_data"
    }
   ],
   "source": [
    "def show_data(x,t):\n",
    "    c = [[0,0,0], [1,0,0]] # 검정과 빨강색으로 클래스를 구분해서 나타내라\n",
    "    for i in range(k):\n",
    "        plt.plot(x[t[:,i] == 1, 0], x[t[:,i] == 1, 1], linestyle='none',marker='o', color=c[i])\n",
    "       \n",
    "          #c는 색깔\n",
    "#         k는 2차원이라서 i 값은 0과 1의 값을 가진다.\n",
    "#         따라서 0 일때와 1일때 나눠서 뿌려라 이말이다.\n",
    "        plt.grid(True)\n",
    "        \n",
    "plt.figure(figsize=(3,3))\n",
    "show_data(x,t)"
   ]
  },
  {
   "cell_type": "code",
   "execution_count": 11,
   "metadata": {},
   "outputs": [],
   "source": [
    " #시그모이드 함수 설정하기\n",
    "    \n",
    "def logistic2(x0,x1,w):\n",
    "    y = 1 / (1 + np.exp(-(w[0] * x0 + w[1] * x1 + w[2] ))) # 시그모이드 함수\n",
    "    \n",
    "    # 직선의 식이 = (w[0] * x0 + w[1] * x1 + w[2] )\n",
    "    \n",
    "    return y"
   ]
  },
  {
   "cell_type": "code",
   "execution_count": 13,
   "metadata": {},
   "outputs": [
    {
     "data": {
      "text/plain": [
       "0.7170005111218646"
      ]
     },
     "execution_count": 13,
     "metadata": {},
     "output_type": "execute_result"
    }
   ],
   "source": [
    "#크로스 entropy 함수\n",
    "\n",
    "def cee_logistic2(w,x,t):\n",
    "    x_n = x.shape[0] #샘플의 객수\n",
    "    y = logistic2(x[:,0], x[:,1], w)\n",
    "    cee = 0\n",
    "    for i in range(len(y)):\n",
    "        cee = cee - (t[i,0] * np.log(y[i]) + (1 - t[i,0]) * np.log(1 - y[i]))\n",
    "    cee = cee / x_n #마지막에 50으로 나눠준다.\n",
    "    return cee\n",
    "\n",
    "    # - (t[n,0] * np.log(y[n]) + (1 - t[n,0]) * np.log(1 - y[n])) 이것이 크로스 entropy\n",
    "    \n",
    "# test\n",
    "_W = [-1. , -1. , -1.]\n",
    "cee_logistic2(_W,x,t)\n",
    "\n",
    "#46분 52초"
   ]
  },
  {
   "cell_type": "code",
   "execution_count": null,
   "metadata": {},
   "outputs": [],
   "source": []
  }
 ],
 "metadata": {
  "kernelspec": {
   "display_name": "Python 3",
   "language": "python",
   "name": "python3"
  },
  "language_info": {
   "codemirror_mode": {
    "name": "ipython",
    "version": 3
   },
   "file_extension": ".py",
   "mimetype": "text/x-python",
   "name": "python",
   "nbconvert_exporter": "python",
   "pygments_lexer": "ipython3",
   "version": "3.7.6"
  }
 },
 "nbformat": 4,
 "nbformat_minor": 4
}
