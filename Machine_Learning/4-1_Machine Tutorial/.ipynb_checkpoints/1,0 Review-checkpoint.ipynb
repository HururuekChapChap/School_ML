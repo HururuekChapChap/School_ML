{
 "cells": [
  {
   "cell_type": "code",
   "execution_count": 22,
   "metadata": {},
   "outputs": [],
   "source": [
    "import numpy as np\n",
    "import matplotlib.pyplot as plt\n",
    "import pandas as pd\n",
    "import mglearn"
   ]
  },
  {
   "cell_type": "code",
   "execution_count": 8,
   "metadata": {},
   "outputs": [
    {
     "name": "stdout",
     "output_type": "stream",
     "text": [
      "x : \n",
      " [[1 2 3]\n",
      " [4 5 6]]\n",
      "(2, 3)\n"
     ]
    }
   ],
   "source": [
    "# Numpy\n",
    "\n",
    "x = np.array( [ [1,2,3], [4,5,6] ] )\n",
    "print(\"x : \\n\",x)\n",
    "print(x.shape)"
   ]
  },
  {
   "cell_type": "code",
   "execution_count": 21,
   "metadata": {},
   "outputs": [
    {
     "name": "stdout",
     "output_type": "stream",
     "text": [
      "NumPy 배열 : \n",
      " [[1. 0. 0. 0.]\n",
      " [0. 1. 0. 0.]\n",
      " [0. 0. 1. 0.]\n",
      " [0. 0. 0. 1.]]\n",
      "NumPy 배열을 CSR 포맷\n",
      "  (0, 0)\t1.0\n",
      "  (1, 1)\t1.0\n",
      "  (2, 2)\t1.0\n",
      "  (3, 3)\t1.0\n"
     ]
    }
   ],
   "source": [
    "#SciPy  수학관련 내용을 담겨져 있음\n",
    "#sparse는 희소행렬이라고 합니다.\n",
    "#희소행렬이란, 행렬의 대부분의 원소가 0을 의미한다.\n",
    "from scipy import sparse\n",
    "\n",
    "eye = np.eye(4) #np.eye는 단위행렬을 반환해준다. 대각선이 1이고 나머지는 0\n",
    "print(\"NumPy 배열 : \\n\", eye)\n",
    "\n",
    "#NumPy 배열을 CSR 포맷의 SciPy 희소행렬로 변환\n",
    "sparse_matrix = sparse.csr_matrix(eye)\n",
    "print(\"NumPy 배열을 CSR 포맷\")\n",
    "print(sparse_matrix)\n",
    "#CSR은 0이 아닌 요소만 뽑아서 보여준다. "
   ]
  },
  {
   "cell_type": "code",
   "execution_count": 13,
   "metadata": {},
   "outputs": [
    {
     "name": "stdout",
     "output_type": "stream",
     "text": [
      "[1. 1. 1. 1.]\n",
      "COO  표현\n",
      "  (0, 0)\t1.0\n",
      "  (1, 1)\t1.0\n",
      "  (2, 2)\t1.0\n",
      "  (3, 3)\t1.0\n"
     ]
    }
   ],
   "source": [
    "data = np.ones(4) #원소가 1인 요소를 구해라 길이가 4이고 원소가 모두 1인 배열을 만들라\n",
    "print(data)\n",
    "\n",
    "row_indices = np.arange(4) #arange는 연속된 데이터를 보여준다. 0-3까지 보여준다.\n",
    "col_indices = np.arange(4)\n",
    "eye_coo = sparse.coo_matrix((data, (row_indices, col_indices)))\n",
    "\n",
    "\"\"\"\n",
    " 0 1 2 3 \n",
    " 0 1 2 3\n",
    " \n",
    " 배열에 1 1 1 1 data를 넣어라!\n",
    "\n",
    "\"\"\"\n",
    "\n",
    "print(\"COO  표현\")\n",
    "print(eye_coo)"
   ]
  },
  {
   "cell_type": "code",
   "execution_count": 16,
   "metadata": {},
   "outputs": [
    {
     "name": "stdout",
     "output_type": "stream",
     "text": [
      "[-10.          -9.7979798   -9.5959596   -9.39393939  -9.19191919\n",
      "  -8.98989899  -8.78787879  -8.58585859  -8.38383838  -8.18181818\n",
      "  -7.97979798  -7.77777778  -7.57575758  -7.37373737  -7.17171717\n",
      "  -6.96969697  -6.76767677  -6.56565657  -6.36363636  -6.16161616\n",
      "  -5.95959596  -5.75757576  -5.55555556  -5.35353535  -5.15151515\n",
      "  -4.94949495  -4.74747475  -4.54545455  -4.34343434  -4.14141414\n",
      "  -3.93939394  -3.73737374  -3.53535354  -3.33333333  -3.13131313\n",
      "  -2.92929293  -2.72727273  -2.52525253  -2.32323232  -2.12121212\n",
      "  -1.91919192  -1.71717172  -1.51515152  -1.31313131  -1.11111111\n",
      "  -0.90909091  -0.70707071  -0.50505051  -0.3030303   -0.1010101\n",
      "   0.1010101    0.3030303    0.50505051   0.70707071   0.90909091\n",
      "   1.11111111   1.31313131   1.51515152   1.71717172   1.91919192\n",
      "   2.12121212   2.32323232   2.52525253   2.72727273   2.92929293\n",
      "   3.13131313   3.33333333   3.53535354   3.73737374   3.93939394\n",
      "   4.14141414   4.34343434   4.54545455   4.74747475   4.94949495\n",
      "   5.15151515   5.35353535   5.55555556   5.75757576   5.95959596\n",
      "   6.16161616   6.36363636   6.56565657   6.76767677   6.96969697\n",
      "   7.17171717   7.37373737   7.57575758   7.77777778   7.97979798\n",
      "   8.18181818   8.38383838   8.58585859   8.78787879   8.98989899\n",
      "   9.19191919   9.39393939   9.5959596    9.7979798   10.        ]\n",
      "[-0.83907153 -0.93116473 -0.98538417 -0.99952453 -0.97301068 -0.90692104\n",
      " -0.8039437  -0.66826712 -0.50540974 -0.32199555 -0.12548467  0.07613012\n",
      "  0.27464844  0.46199582  0.63055219  0.77346177  0.88491192  0.96036956\n",
      "  0.99676556  0.99261957  0.94810022  0.86501827  0.74675295  0.59811455\n",
      "  0.4251487   0.23489055  0.03507857 -0.16616018 -0.36064061 -0.54045251\n",
      " -0.69828229 -0.82771044 -0.92347268 -0.981674   -0.99994717 -0.97754893\n",
      " -0.91539031 -0.81599952 -0.68341913 -0.52304166 -0.34139023 -0.14585325\n",
      "  0.0556161   0.25482335  0.44366602  0.61446323  0.76026803  0.87515004\n",
      "  0.95443659  0.99490282  0.99490282  0.95443659  0.87515004  0.76026803\n",
      "  0.61446323  0.44366602  0.25482335  0.0556161  -0.14585325 -0.34139023\n",
      " -0.52304166 -0.68341913 -0.81599952 -0.91539031 -0.97754893 -0.99994717\n",
      " -0.981674   -0.92347268 -0.82771044 -0.69828229 -0.54045251 -0.36064061\n",
      " -0.16616018  0.03507857  0.23489055  0.4251487   0.59811455  0.74675295\n",
      "  0.86501827  0.94810022  0.99261957  0.99676556  0.96036956  0.88491192\n",
      "  0.77346177  0.63055219  0.46199582  0.27464844  0.07613012 -0.12548467\n",
      " -0.32199555 -0.50540974 -0.66826712 -0.8039437  -0.90692104 -0.97301068\n",
      " -0.99952453 -0.98538417 -0.93116473 -0.83907153]\n"
     ]
    },
    {
     "data": {
      "text/plain": [
       "[<matplotlib.lines.Line2D at 0x20fdf044f08>]"
      ]
     },
     "execution_count": 16,
     "metadata": {},
     "output_type": "execute_result"
    },
    {
     "data": {
      "image/png": "[encoded data removed]",
      "text/plain": [
       "<Figure size 432x288 with 1 Axes>"
      ]
     },
     "metadata": {
      "needs_background": "light"
     },
     "output_type": "display_data"
    }
   ],
   "source": [
    "#matplotlib\n",
    "%matplotlib inline\n",
    "\n",
    "#-10 부터 10까지 동일한 간격으로100개를 생성해라\n",
    "x = np.linspace(-10,10, 100)\n",
    "print(x)\n",
    "\n",
    "# 사인 함수를 사용하여 y 배열을 생성해라\n",
    "y = np.sin(x)\n",
    "print(y)\n",
    "\n",
    "# plot 함수는 한배열의 값을 다른 배열에 대응 해서 보여준다.\n",
    "\n",
    "plt.plot(x,y,marker=\"x\")\n",
    "\n",
    "#21 min 22 sec"
   ]
  },
  {
   "cell_type": "code",
   "execution_count": 15,
   "metadata": {},
   "outputs": [
    {
     "name": "stdout",
     "output_type": "stream",
     "text": [
      "1.0.1\n"
     ]
    },
    {
     "data": {
      "text/html": [
       "<div>\n",
       "<style scoped>\n",
       "    .dataframe tbody tr th:only-of-type {\n",
       "        vertical-align: middle;\n",
       "    }\n",
       "\n",
       "    .dataframe tbody tr th {\n",
       "        vertical-align: top;\n",
       "    }\n",
       "\n",
       "    .dataframe thead th {\n",
       "        text-align: right;\n",
       "    }\n",
       "</style>\n",
       "<table border=\"1\" class=\"dataframe\">\n",
       "  <thead>\n",
       "    <tr style=\"text-align: right;\">\n",
       "      <th></th>\n",
       "      <th>Name</th>\n",
       "      <th>Location</th>\n",
       "      <th>Age</th>\n",
       "    </tr>\n",
       "  </thead>\n",
       "  <tbody>\n",
       "    <tr>\n",
       "      <th>0</th>\n",
       "      <td>Hok</td>\n",
       "      <td>NewYork</td>\n",
       "      <td>24</td>\n",
       "    </tr>\n",
       "    <tr>\n",
       "      <th>1</th>\n",
       "      <td>Annan</td>\n",
       "      <td>Paris</td>\n",
       "      <td>13</td>\n",
       "    </tr>\n",
       "    <tr>\n",
       "      <th>2</th>\n",
       "      <td>Peter</td>\n",
       "      <td>Berline</td>\n",
       "      <td>53</td>\n",
       "    </tr>\n",
       "    <tr>\n",
       "      <th>3</th>\n",
       "      <td>Linda</td>\n",
       "      <td>London</td>\n",
       "      <td>33</td>\n",
       "    </tr>\n",
       "  </tbody>\n",
       "</table>\n",
       "</div>"
      ],
      "text/plain": [
       "     Name Location  Age\n",
       "0     Hok  NewYork   24\n",
       "1   Annan    Paris   13\n",
       "2   Peter  Berline   53\n",
       "3   Linda   London   33"
      ]
     },
     "metadata": {},
     "output_type": "display_data"
    },
    {
     "data": {
      "text/html": [
       "<div>\n",
       "<style scoped>\n",
       "    .dataframe tbody tr th:only-of-type {\n",
       "        vertical-align: middle;\n",
       "    }\n",
       "\n",
       "    .dataframe tbody tr th {\n",
       "        vertical-align: top;\n",
       "    }\n",
       "\n",
       "    .dataframe thead th {\n",
       "        text-align: right;\n",
       "    }\n",
       "</style>\n",
       "<table border=\"1\" class=\"dataframe\">\n",
       "  <thead>\n",
       "    <tr style=\"text-align: right;\">\n",
       "      <th></th>\n",
       "      <th>Name</th>\n",
       "      <th>Location</th>\n",
       "      <th>Age</th>\n",
       "    </tr>\n",
       "  </thead>\n",
       "  <tbody>\n",
       "    <tr>\n",
       "      <th>2</th>\n",
       "      <td>Peter</td>\n",
       "      <td>Berline</td>\n",
       "      <td>53</td>\n",
       "    </tr>\n",
       "    <tr>\n",
       "      <th>3</th>\n",
       "      <td>Linda</td>\n",
       "      <td>London</td>\n",
       "      <td>33</td>\n",
       "    </tr>\n",
       "  </tbody>\n",
       "</table>\n",
       "</div>"
      ],
      "text/plain": [
       "    Name Location  Age\n",
       "2  Peter  Berline   53\n",
       "3  Linda   London   33"
      ]
     },
     "metadata": {},
     "output_type": "display_data"
    }
   ],
   "source": [
    "import pandas as pd\n",
    "from IPython.display import display\n",
    "\n",
    "#회원 정보가 들어간 간단한 데이터셋을 생성합니다\n",
    "data = {\n",
    "    \"Name\" : [\"Hok\", \" Annan\", \"Peter\", \"Linda\"],\n",
    "    \"Location\" : [\"NewYork\", \"Paris\", \"Berline\", \"London\"],\n",
    "    \"Age\" : [24, 13, 53, 33]\n",
    "}\n",
    "\n",
    "data_pandas = pd.DataFrame(data)\n",
    "#표로 이렇게 출력이 된다.\n",
    "display(data_pandas)\n",
    "\n",
    "#Age 열의 값이 30 이상인 모든 행을 선택합니다. 판다스는 머신러닝 뿐만 아니라 많은 분야에서도 사용한다.\n",
    "display(data_pandas[data_pandas.Age > 30])"
   ]
  },
  {
   "cell_type": "code",
   "execution_count": 28,
   "metadata": {},
   "outputs": [
    {
     "name": "stdout",
     "output_type": "stream",
     "text": [
      "Python 버젼 :  3.7.6 (default, Jan  8 2020, 20:23:39) [MSC v.1916 64 bit (AMD64)]\n",
      "Pandas version : 1.0.1\n",
      "matplotlib version :  3.1.3\n",
      "numpy version :  1.18.1\n",
      "scipy version :  1.4.1\n",
      "IPython version :  7.12.0\n",
      "scikit-leran version :  0.22.1\n"
     ]
    }
   ],
   "source": [
    "import sys\n",
    "import pandas as pd\n",
    "import matplotlib\n",
    "import numpy as np\n",
    "import scipy as sp\n",
    "import IPython\n",
    "import sklearn\n",
    "print(\"Python 버젼 : \", sys.version)\n",
    "print(\"Pandas version :\" , pd.__version__)\n",
    "print(\"matplotlib version : \", matplotlib.__version__)\n",
    "print(\"numpy version : \", np.__version__)\n",
    "print(\"scipy version : \", sp.__version__)\n",
    "print(\"IPython version : \", IPython.__version__)\n",
    "print(\"scikit-leran version : \", sklearn.__version__)"
   ]
  },
  {
   "cell_type": "code",
   "execution_count": null,
   "metadata": {},
   "outputs": [],
   "source": []
  },
  {
   "cell_type": "code",
   "execution_count": null,
   "metadata": {},
   "outputs": [],
   "source": []
  }
 ],
 "metadata": {
  "kernelspec": {
   "display_name": "Python 3",
   "language": "python",
   "name": "python3"
  },
  "language_info": {
   "codemirror_mode": {
    "name": "ipython",
    "version": 3
   },
   "file_extension": ".py",
   "mimetype": "text/x-python",
   "name": "python",
   "nbconvert_exporter": "python",
   "pygments_lexer": "ipython3",
   "version": "3.7.6"
  }
 },
 "nbformat": 4,
 "nbformat_minor": 4
}
