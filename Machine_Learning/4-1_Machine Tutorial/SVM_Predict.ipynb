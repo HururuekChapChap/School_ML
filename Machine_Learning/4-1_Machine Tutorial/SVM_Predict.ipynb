{
 "cells": [
  {
   "cell_type": "code",
   "execution_count": 15,
   "metadata": {},
   "outputs": [],
   "source": [
    "import numpy as np\n",
    "import matplotlib.pyplot as plt\n",
    "from sklearn.model_selection import train_test_split"
   ]
  },
  {
   "cell_type": "code",
   "execution_count": 47,
   "metadata": {},
   "outputs": [
    {
     "name": "stdout",
     "output_type": "stream",
     "text": [
      "(768, 9)\n",
      "[[6.000e+00 1.480e+02 7.200e+01 3.500e+01 0.000e+00 3.360e+01 6.270e-01\n",
      "  5.000e+01]\n",
      " [1.000e+00 8.500e+01 6.600e+01 2.900e+01 0.000e+00 2.660e+01 3.510e-01\n",
      "  3.100e+01]\n",
      " [8.000e+00 1.830e+02 6.400e+01 0.000e+00 0.000e+00 2.330e+01 6.720e-01\n",
      "  3.200e+01]\n",
      " [1.000e+00 8.900e+01 6.600e+01 2.300e+01 9.400e+01 2.810e+01 1.670e-01\n",
      "  2.100e+01]\n",
      " [0.000e+00 1.370e+02 4.000e+01 3.500e+01 1.680e+02 4.310e+01 2.288e+00\n",
      "  3.300e+01]]\n",
      "[1. 0. 1. 0. 1.]\n",
      "(576, 8)\n",
      "(576,)\n",
      "(192, 8)\n",
      "(192,)\n"
     ]
    }
   ],
   "source": [
    "input_file = './data/pima-indians-diabetes.data.csv'\n",
    "data = np.loadtxt(input_file, delimiter=',')\n",
    "x, y = data[:, :-1], data[:, -1]\n",
    "print(data.shape)\n",
    "print(x[0:5])\n",
    "print(y[0:5])\n",
    "x_train, x_test, y_train, y_test = train_test_split(x, y, random_state=0)\n",
    "print(x_train.shape)\n",
    "print(y_train.shape)\n",
    "print(x_test.shape)\n",
    "print(y_test.shape)"
   ]
  },
  {
   "cell_type": "code",
   "execution_count": 48,
   "metadata": {},
   "outputs": [
    {
     "name": "stdout",
     "output_type": "stream",
     "text": [
      "[[0.05882353 1.00505051 0.62295082 ... 0.63934426 0.56191289 0.01666667]\n",
      " [0.11764706 0.54040404 0.60655738 ... 0.50074516 0.13919727 0.03333333]\n",
      " [0.23529412 0.38383838 0.50819672 ... 0.50670641 0.13364646 0.06666667]\n",
      " ...\n",
      " [0.05882353 0.55050505 0.49180328 ... 0.37853949 0.37105038 0.        ]\n",
      " [0.17647059 0.64646465 0.63934426 ... 0.31445604 0.08112724 0.56666667]\n",
      " [0.29411765 0.44444444 0.63934426 ... 0.41132638 0.07685739 0.26666667]]\n",
      "[1. 0. 0. 1. 0. 0. 1. 1. 0. 0. 1. 1. 0. 0. 0. 0. 1. 0. 0. 0. 1. 0. 0. 0.\n",
      " 0. 0. 0. 1. 0. 0. 0. 0. 0. 0. 0. 1. 0. 0. 0. 1. 0. 0. 0. 1. 1. 0. 0. 0.\n",
      " 0. 0. 0. 0. 1. 0. 0. 0. 0. 0. 0. 0. 1. 0. 0. 1. 1. 1. 1. 0. 0. 0. 0. 0.\n",
      " 0. 1. 1. 0. 0. 1. 0. 0. 0. 0. 0. 0. 0. 0. 0. 0. 1. 0. 0. 0. 0. 0. 1. 0.\n",
      " 0. 1. 1. 0. 0. 0. 0. 0. 1. 0. 0. 0. 0. 1. 0. 0. 1. 0. 1. 1. 0. 1. 0. 1.\n",
      " 0. 0. 0. 0. 0. 0. 0. 0. 0. 0. 0. 0. 0. 1. 0. 0. 0. 0. 1. 0. 0. 1. 0. 0.\n",
      " 0. 0. 0. 0. 0. 0. 0. 1. 0. 0. 1. 0. 1. 0. 0. 1. 1. 1. 0. 0. 1. 0. 0. 0.\n",
      " 0. 0. 0. 0. 0. 0. 0. 0. 0. 0. 0. 0. 0. 1. 0. 1. 0. 0. 1. 0. 0. 0. 0. 0.]\n",
      "[0.]\n",
      "훈련 세트 정확도: 78.30%\n",
      "테스트 세트 정확도: 80.21%\n"
     ]
    }
   ],
   "source": [
    "from sklearn import svm\n",
    "from sklearn.preprocessing import MinMaxScaler\n",
    "\n",
    "scaler = MinMaxScaler()\n",
    "x_train = scaler.fit_transform(x_train)\n",
    "x_test = scaler.transform(x_test)\n",
    "\n",
    "\n",
    "newData = [[1,103,30,38,83,43.3,0.183,3]]\n",
    "newData = scaler.transform(newData)\n",
    "print(x_test)\n",
    "\n",
    "classifier = svm.SVC(gamma=1, C=1.0).fit(x_train, y_train)\n",
    "print(classifier.predict(x_test))\n",
    "print(classifier.predict(newData))\n",
    "\n",
    "print(\"훈련 세트 정확도: {:.2f}%\".format(classifier.score(x_train, y_train) * 100))\n",
    "print(\"테스트 세트 정확도: {:.2f}%\".format(classifier.score(x_test, y_test) * 100))"
   ]
  },
  {
   "cell_type": "code",
   "execution_count": null,
   "metadata": {},
   "outputs": [],
   "source": []
  }
 ],
 "metadata": {
  "kernelspec": {
   "display_name": "Python 3",
   "language": "python",
   "name": "python3"
  },
  "language_info": {
   "codemirror_mode": {
    "name": "ipython",
    "version": 3
   },
   "file_extension": ".py",
   "mimetype": "text/x-python",
   "name": "python",
   "nbconvert_exporter": "python",
   "pygments_lexer": "ipython3",
   "version": "3.7.6"
  }
 },
 "nbformat": 4,
 "nbformat_minor": 4
}
