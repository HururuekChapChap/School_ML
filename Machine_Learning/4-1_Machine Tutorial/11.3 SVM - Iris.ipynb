{
 "cells": [
  {
   "cell_type": "code",
   "execution_count": 3,
   "metadata": {},
   "outputs": [],
   "source": [
    "from sklearn.datasets import load_iris\n",
    "from sklearn.model_selection import train_test_split\n",
    "from sklearn.preprocessing import StandardScaler\n",
    "from sklearn import svm"
   ]
  },
  {
   "cell_type": "code",
   "execution_count": 8,
   "metadata": {},
   "outputs": [],
   "source": [
    "iris = load_iris()\n",
    "x = iris.data\n",
    "y = iris.target\n",
    "xtrain, xtest, ytrain, ytest = train_test_split(x, y , random_state=0)\n",
    "\n",
    "#스케일러를 하면 정확도가 더 올라 갈 수 있다.\n",
    "# sc = StandardScaler()\n",
    "# sc.fit(xtrain)\n",
    "# xtrain = sc.transform(xtrain)\n",
    "# xtest = sc.transform(xtest)\n",
    "\n",
    "xtrain_std = xtrain\n",
    "xtest_std = xtest\n",
    "\n",
    "model1 = svm.SVC(kernel=\"linear\").fit(xtrain_std, ytrain)\n",
    "model2 = svm.SVC(kernel=\"poly\", random_state=0, gamma=10, C=1.0).fit(xtrain_std, ytrain)\n",
    "model3 = svm.SVC(kernel=\"rbf\", random_state=0, gamma=1, C=1.0).fit(xtrain_std, ytrain)"
   ]
  },
  {
   "cell_type": "code",
   "execution_count": 9,
   "metadata": {},
   "outputs": [
    {
     "name": "stdout",
     "output_type": "stream",
     "text": [
      "==Mdoel1: Linear == \n",
      "훈련 세트 점수: 0.98\n",
      "TEST 세트 점수: 0.97\n",
      "==Mdoel2: Polynomial == \n",
      "훈련 세트 점수: 1.00\n",
      "TEST 세트 점수: 0.97\n",
      "==Mdoel3: RBF == \n",
      "훈련 세트 점수: 0.97\n",
      "TEST 세트 점수: 0.97\n"
     ]
    }
   ],
   "source": [
    "print(\"==Mdoel1: Linear == \")\n",
    "print(\"훈련 세트 점수: {:.2f}\".format(model1.score(xtrain_std, ytrain)))\n",
    "print(\"TEST 세트 점수: {:.2f}\".format(model1.score(xtest_std, ytest)))\n",
    "print(\"==Mdoel2: Polynomial == \")\n",
    "print(\"훈련 세트 점수: {:.2f}\".format(model2.score(xtrain_std, ytrain)))\n",
    "print(\"TEST 세트 점수: {:.2f}\".format(model2.score(xtest_std, ytest)))\n",
    "print(\"==Mdoel3: RBF == \")\n",
    "print(\"훈련 세트 점수: {:.2f}\".format(model3.score(xtrain_std, ytrain)))\n",
    "print(\"TEST 세트 점수: {:.2f}\".format(model3.score(xtest_std, ytest)))"
   ]
  },
  {
   "cell_type": "code",
   "execution_count": null,
   "metadata": {},
   "outputs": [],
   "source": []
  }
 ],
 "metadata": {
  "kernelspec": {
   "display_name": "Python 3",
   "language": "python",
   "name": "python3"
  },
  "language_info": {
   "codemirror_mode": {
    "name": "ipython",
    "version": 3
   },
   "file_extension": ".py",
   "mimetype": "text/x-python",
   "name": "python",
   "nbconvert_exporter": "python",
   "pygments_lexer": "ipython3",
   "version": "3.7.6"
  }
 },
 "nbformat": 4,
 "nbformat_minor": 4
}
