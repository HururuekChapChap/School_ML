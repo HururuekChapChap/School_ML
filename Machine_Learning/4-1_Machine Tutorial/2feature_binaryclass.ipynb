{
 "cells": [
  {
   "cell_type": "code",
   "execution_count": 1,
   "metadata": {},
   "outputs": [],
   "source": [
    "#리셋\n",
    "\n",
    "import numpy as np\n",
    "import matplotlib.pyplot as plt\n",
    "from scipy.optimize import minimize\n",
    "\n",
    "# 사이파이는 미분 최적화에 관련된 함수가 있고 그 중에서 미니마이즈를 이용한다.\n",
    "%matplotlib inline"
   ]
  },
  {
   "cell_type": "code",
   "execution_count": 2,
   "metadata": {},
   "outputs": [
    {
     "name": "stdout",
     "output_type": "stream",
     "text": [
      "[[0 0]\n",
      " [0 0]\n",
      " [0 0]\n",
      " [0 0]\n",
      " [0 0]\n",
      " [0 0]\n",
      " [0 0]\n",
      " [0 0]\n",
      " [0 0]\n",
      " [0 0]\n",
      " [0 0]\n",
      " [0 0]\n",
      " [0 0]\n",
      " [0 0]\n",
      " [0 0]\n",
      " [0 0]\n",
      " [0 0]\n",
      " [0 0]\n",
      " [0 0]\n",
      " [0 0]\n",
      " [0 0]\n",
      " [0 0]\n",
      " [0 0]\n",
      " [0 0]\n",
      " [0 0]\n",
      " [0 0]\n",
      " [0 0]\n",
      " [0 0]\n",
      " [0 0]\n",
      " [0 0]\n",
      " [0 0]\n",
      " [0 0]\n",
      " [0 0]\n",
      " [0 0]\n",
      " [0 0]\n",
      " [0 0]\n",
      " [0 0]\n",
      " [0 0]\n",
      " [0 0]\n",
      " [0 0]\n",
      " [0 0]\n",
      " [0 0]\n",
      " [0 0]\n",
      " [0 0]\n",
      " [0 0]\n",
      " [0 0]\n",
      " [0 0]\n",
      " [0 0]\n",
      " [0 0]\n",
      " [0 0]]\n",
      "[[4.17022005e-01 7.20324493e-01]\n",
      " [1.14374817e-04 3.02332573e-01]\n",
      " [1.46755891e-01 9.23385948e-02]\n",
      " [1.86260211e-01 3.45560727e-01]\n",
      " [3.96767474e-01 5.38816734e-01]\n",
      " [4.19194514e-01 6.85219500e-01]\n",
      " [2.04452250e-01 8.78117436e-01]\n",
      " [2.73875932e-02 6.70467510e-01]\n",
      " [4.17304802e-01 5.58689828e-01]\n",
      " [1.40386939e-01 1.98101489e-01]\n",
      " [8.00744569e-01 9.68261576e-01]\n",
      " [3.13424178e-01 6.92322616e-01]\n",
      " [8.76389152e-01 8.94606664e-01]\n",
      " [8.50442114e-02 3.90547832e-02]\n",
      " [1.69830420e-01 8.78142503e-01]\n",
      " [9.83468338e-02 4.21107625e-01]\n",
      " [9.57889530e-01 5.33165285e-01]\n",
      " [6.91877114e-01 3.15515631e-01]\n",
      " [6.86500928e-01 8.34625672e-01]\n",
      " [1.82882773e-02 7.50144315e-01]\n",
      " [9.88861089e-01 7.48165654e-01]\n",
      " [2.80443992e-01 7.89279328e-01]\n",
      " [1.03226007e-01 4.47893526e-01]\n",
      " [9.08595503e-01 2.93614148e-01]\n",
      " [2.87775339e-01 1.30028572e-01]\n",
      " [1.93669579e-02 6.78835533e-01]\n",
      " [2.11628116e-01 2.65546659e-01]\n",
      " [4.91573159e-01 5.33625451e-02]\n",
      " [5.74117605e-01 1.46728575e-01]\n",
      " [5.89305537e-01 6.99758360e-01]\n",
      " [1.02334429e-01 4.14055988e-01]\n",
      " [6.94400158e-01 4.14179270e-01]\n",
      " [4.99534589e-02 5.35896406e-01]\n",
      " [6.63794645e-01 5.14889112e-01]\n",
      " [9.44594756e-01 5.86555041e-01]\n",
      " [9.03401915e-01 1.37474704e-01]\n",
      " [1.39276347e-01 8.07391289e-01]\n",
      " [3.97676837e-01 1.65354197e-01]\n",
      " [9.27508580e-01 3.47765860e-01]\n",
      " [7.50812103e-01 7.25997985e-01]\n",
      " [8.83306091e-01 6.23672207e-01]\n",
      " [7.50942434e-01 3.48898342e-01]\n",
      " [2.69927892e-01 8.95886218e-01]\n",
      " [4.28091190e-01 9.64840047e-01]\n",
      " [6.63441498e-01 6.21695720e-01]\n",
      " [1.14745973e-01 9.49489259e-01]\n",
      " [4.49912133e-01 5.78389614e-01]\n",
      " [4.08136803e-01 2.37026980e-01]\n",
      " [9.03379521e-01 5.73679487e-01]\n",
      " [2.87032703e-03 6.17144914e-01]]\n"
     ]
    }
   ],
   "source": [
    "#초기화 단계\n",
    "np.random.seed(seed=1) # 난수고정 실행 할때 마다 난수가 일정하다.\n",
    "w = np.array([3./4. , 1.0 , -4./5.]) # 교제에 있는 식이다.\n",
    "n = 50\n",
    "dim = 2 # 이차원 \n",
    "\n",
    "# 회귀에서는 특징이 x0으로 1차원이였어요. \n",
    "# 그런데 여기서는 x0 x1로 특징이 두개에요.\n",
    "# 그래서 이차원이다.\n",
    "\n",
    "k = 2\n",
    "\n",
    "# 클래스는 k 클래스가 두개이니 2이다. X와 O로 드게\n",
    "\n",
    "scale = 1 #랜덤수에 곱하는 수\n",
    "\n",
    "t = np.zeros((n,k), dtype=np.uint8) \n",
    "\n",
    "# t는 목표값을 가진다. 즉 X 아니면 O 로 두개로 나눠준다.\n",
    "# 즉 T 행렬을 만든다. 그리고 X 가 배열 위치 0 이고\n",
    "# O가 배열위치 1라고 한다면 결과값에 따라서 그 위치에 값을 넣어준다\n",
    "\n",
    "print(t)\n",
    "\n",
    "x = scale*np.random.rand(n,dim)\n",
    "\n",
    "# 랜덤의 점들을 쭉 생성을 한다.\n",
    "\n",
    "print(x)"
   ]
  },
  {
   "cell_type": "code",
   "execution_count": 3,
   "metadata": {},
   "outputs": [
    {
     "name": "stdout",
     "output_type": "stream",
     "text": [
      "[[4.17022005e-01 7.20324493e-01]\n",
      " [1.14374817e-04 3.02332573e-01]\n",
      " [1.46755891e-01 9.23385948e-02]\n",
      " [1.86260211e-01 3.45560727e-01]\n",
      " [3.96767474e-01 5.38816734e-01]]\n",
      "[[0 1]\n",
      " [1 0]\n",
      " [1 0]\n",
      " [1 0]\n",
      " [0 1]]\n"
     ]
    }
   ],
   "source": [
    "#랜덤 데이터에 0이냐 1이냐를 설정해주는 부분\n",
    "\n",
    "# 위에서 t는 모두 0이 나왔기 때문에 t 값을 설정해주는 것이다\n",
    "\n",
    "for i in range(n):\n",
    "    for j in range(k):\n",
    "        if w[0] * x[i,0] + w[1] * x[i,1] + w[2] > 0:\n",
    "            t[i, 1] = 1 # 0보다 크면 1 클래스\n",
    "        else :\n",
    "            t[i, 0] = 1 # 0보다 작으면 0 클래스\n",
    "\n",
    "print(x[:5, :]) # x0 값과 x1 의 값 각각의 셈플\n",
    "print(t[:5, :]) # 각각의 셈플에 대한 결과"
   ]
  },
  {
   "cell_type": "code",
   "execution_count": 4,
   "metadata": {},
   "outputs": [
    {
     "data": {
      "image/png": "[encoded data removed]",
      "text/plain": [
       "<Figure size 216x216 with 1 Axes>"
      ]
     },
     "metadata": {
      "needs_background": "light"
     },
     "output_type": "display_data"
    }
   ],
   "source": [
    "def show_data(x,t):\n",
    "    c = [[0,0,0], [1,0,0]] # 검정과 빨강색으로 클래스를 구분해서 나타내라\n",
    "    for i in range(k):\n",
    "        plt.plot(x[t[:,i] == 1, 0], x[t[:,i] == 1, 1], linestyle='none',marker='o', color=c[i])\n",
    "       \n",
    "          #c는 색깔\n",
    "#         k는 2차원이라서 i 값은 0과 1의 값을 가진다.\n",
    "#         따라서 0 일때와 1일때 나눠서 뿌려라 이말이다.\n",
    "        plt.grid(True)\n",
    "        \n",
    "plt.figure(figsize=(3,3))\n",
    "show_data(x,t)"
   ]
  },
  {
   "cell_type": "code",
   "execution_count": 5,
   "metadata": {},
   "outputs": [],
   "source": [
    " #시그모이드 함수 설정하기\n",
    "    \n",
    "def logistic2(x0,x1,w):\n",
    "    y = 1 / (1 + np.exp(-(w[0] * x0 + w[1] * x1 + w[2] ))) # 시그모이드 함수\n",
    "    \n",
    "    # 직선의 식이 = (w[0] * x0 + w[1] * x1 + w[2] )\n",
    "    \n",
    "    return y"
   ]
  },
  {
   "cell_type": "code",
   "execution_count": 6,
   "metadata": {},
   "outputs": [
    {
     "name": "stdout",
     "output_type": "stream",
     "text": [
      "0.11151226423831138\n",
      "1.6544441185911853\n",
      "3.1479066595424703\n",
      "4.8754109273292725\n",
      "5.010238908684662\n",
      "5.125277822640312\n",
      "5.242713769524307\n",
      "7.108686514892112\n",
      "7.238506472663484\n",
      "8.809884220231096\n",
      "8.870719937585733\n",
      "8.996964645224622\n",
      "9.057683037690879\n",
      "10.463153066572932\n",
      "10.584481918446745\n",
      "12.301828773442484\n",
      "12.381399885005827\n",
      "12.507449522958776\n",
      "12.584752183543754\n",
      "14.510701366970395\n",
      "14.573453246266178\n",
      "14.692320759932386\n",
      "16.435720833950256\n",
      "16.54058395900287\n",
      "18.175308438978565\n",
      "20.041574822992043\n",
      "21.724365819800905\n",
      "23.46266653255337\n",
      "25.348106973734694\n",
      "25.444653935757117\n",
      "27.15948756435407\n",
      "27.27407466838863\n",
      "29.046216272746783\n",
      "29.153446416388093\n",
      "29.230006896995253\n",
      "29.352149106636244\n",
      "29.485585844770647\n",
      "31.238824017502804\n",
      "31.33664803560997\n",
      "31.417315888385268\n",
      "31.49567796521597\n",
      "31.611214860459526\n",
      "31.719761194199567\n",
      "31.80718718331043\n",
      "31.904096173271217\n",
      "32.02358026289424\n",
      "32.147176371167944\n",
      "33.968795331699546\n",
      "34.04944389549817\n",
      "35.85002555609323\n"
     ]
    },
    {
     "data": {
      "text/plain": [
       "0.7170005111218646"
      ]
     },
     "execution_count": 6,
     "metadata": {},
     "output_type": "execute_result"
    }
   ],
   "source": [
    "#크로스 entropy 함수\n",
    "\n",
    "def cee_logistic2(w,x,t):\n",
    "    x_n = x.shape[0] #샘플의 객수\n",
    "    y = logistic2(x[:,0], x[:,1], w)\n",
    "    cee = 0\n",
    "    for i in range(len(y)):\n",
    "        cee = cee - (t[i,0] * np.log(y[i]) + (1 - t[i,0]) * np.log(1 - y[i]))\n",
    "        print(cee)\n",
    "    cee = cee / x_n #마지막에 50으로 나눠준다.\n",
    "    return cee\n",
    "\n",
    "    # - (t[n,0] * np.log(y[n]) + (1 - t[n,0]) * np.log(1 - y[n])) 이것이 크로스 entropy\n",
    "    \n",
    "# test\n",
    "_W = [-1. , -1. , -1.]\n",
    "cee_logistic2(_W,x,t)\n",
    "\n",
    "#46분 52초"
   ]
  },
  {
   "cell_type": "code",
   "execution_count": 8,
   "metadata": {},
   "outputs": [
    {
     "data": {
      "image/png": "[encoded data removed]",
      "text/plain": [
       "<Figure size 216x216 with 1 Axes>"
      ]
     },
     "metadata": {
      "needs_background": "light"
     },
     "output_type": "display_data"
    }
   ],
   "source": [
    "def show_line(w):\n",
    "    xn = 50 #파라미터의 분할 수\n",
    "    xrange0 = [-2,2] #X0 범위 표시 용\n",
    "    x0 = np.linspace(xrange0[0], xrange0[1], xn) #범위를 만들어준다.\n",
    "    x1 = -(w[0]/w[1])*x0 - w[2]/w[1]\n",
    "    plt.plot(x0,x1,'--k')\n",
    "    \n",
    "#test\n",
    "\n",
    "plt.figure(figsize=(3,3))\n",
    "w=[-1, -1, -1]\n",
    "show_line(w)"
   ]
  },
  {
   "cell_type": "code",
   "execution_count": 9,
   "metadata": {},
   "outputs": [],
   "source": [
    "def fit_logistic(init, x, t):\n",
    "    res = minimize(cee_logistic2, init, args=(x,t), method=\"CG\")\n",
    "    #cee_logistic2의 loss function을 넣어준다,\n",
    "    #feature와 target을 X,y 값에 넣어준다.\n",
    "    \n",
    "    return res.x"
   ]
  },
  {
   "cell_type": "code",
   "execution_count": 11,
   "metadata": {},
   "outputs": [
    {
     "name": "stderr",
     "output_type": "stream",
     "text": [
      "E:\\Python\\lib\\site-packages\\ipykernel_launcher.py:8: RuntimeWarning: divide by zero encountered in log\n",
      "  \n",
      "E:\\Python\\lib\\site-packages\\ipykernel_launcher.py:8: RuntimeWarning: invalid value encountered in multiply\n",
      "  \n",
      "E:\\Python\\lib\\site-packages\\ipykernel_launcher.py:4: RuntimeWarning: overflow encountered in exp\n",
      "  after removing the cwd from sys.path.\n",
      "E:\\Python\\lib\\site-packages\\ipykernel_launcher.py:8: RuntimeWarning: divide by zero encountered in log\n",
      "  \n",
      "E:\\Python\\lib\\site-packages\\ipykernel_launcher.py:8: RuntimeWarning: invalid value encountered in multiply\n",
      "  \n",
      "E:\\Python\\lib\\site-packages\\ipykernel_launcher.py:4: RuntimeWarning: overflow encountered in exp\n",
      "  after removing the cwd from sys.path.\n",
      "E:\\Python\\lib\\site-packages\\ipykernel_launcher.py:8: RuntimeWarning: divide by zero encountered in log\n",
      "  \n",
      "E:\\Python\\lib\\site-packages\\ipykernel_launcher.py:8: RuntimeWarning: invalid value encountered in multiply\n",
      "  \n",
      "E:\\Python\\lib\\site-packages\\ipykernel_launcher.py:4: RuntimeWarning: overflow encountered in exp\n",
      "  after removing the cwd from sys.path.\n",
      "E:\\Python\\lib\\site-packages\\ipykernel_launcher.py:8: RuntimeWarning: divide by zero encountered in log\n",
      "  \n",
      "E:\\Python\\lib\\site-packages\\ipykernel_launcher.py:8: RuntimeWarning: invalid value encountered in multiply\n",
      "  \n",
      "E:\\Python\\lib\\site-packages\\ipykernel_launcher.py:4: RuntimeWarning: overflow encountered in exp\n",
      "  after removing the cwd from sys.path.\n",
      "E:\\Python\\lib\\site-packages\\ipykernel_launcher.py:8: RuntimeWarning: divide by zero encountered in log\n",
      "  \n",
      "E:\\Python\\lib\\site-packages\\ipykernel_launcher.py:8: RuntimeWarning: invalid value encountered in multiply\n",
      "  \n",
      "E:\\Python\\lib\\site-packages\\ipykernel_launcher.py:4: RuntimeWarning: overflow encountered in exp\n",
      "  after removing the cwd from sys.path.\n",
      "E:\\Python\\lib\\site-packages\\ipykernel_launcher.py:8: RuntimeWarning: divide by zero encountered in log\n",
      "  \n",
      "E:\\Python\\lib\\site-packages\\ipykernel_launcher.py:8: RuntimeWarning: invalid value encountered in multiply\n",
      "  \n",
      "E:\\Python\\lib\\site-packages\\ipykernel_launcher.py:4: RuntimeWarning: overflow encountered in exp\n",
      "  after removing the cwd from sys.path.\n",
      "E:\\Python\\lib\\site-packages\\ipykernel_launcher.py:8: RuntimeWarning: divide by zero encountered in log\n",
      "  \n",
      "E:\\Python\\lib\\site-packages\\ipykernel_launcher.py:8: RuntimeWarning: invalid value encountered in multiply\n",
      "  \n",
      "E:\\Python\\lib\\site-packages\\ipykernel_launcher.py:4: RuntimeWarning: overflow encountered in exp\n",
      "  after removing the cwd from sys.path.\n",
      "E:\\Python\\lib\\site-packages\\ipykernel_launcher.py:8: RuntimeWarning: divide by zero encountered in log\n",
      "  \n",
      "E:\\Python\\lib\\site-packages\\ipykernel_launcher.py:8: RuntimeWarning: invalid value encountered in multiply\n",
      "  \n",
      "E:\\Python\\lib\\site-packages\\ipykernel_launcher.py:4: RuntimeWarning: overflow encountered in exp\n",
      "  after removing the cwd from sys.path.\n",
      "E:\\Python\\lib\\site-packages\\ipykernel_launcher.py:8: RuntimeWarning: divide by zero encountered in log\n",
      "  \n",
      "E:\\Python\\lib\\site-packages\\ipykernel_launcher.py:8: RuntimeWarning: invalid value encountered in multiply\n",
      "  \n",
      "E:\\Python\\lib\\site-packages\\ipykernel_launcher.py:4: RuntimeWarning: overflow encountered in exp\n",
      "  after removing the cwd from sys.path.\n",
      "E:\\Python\\lib\\site-packages\\ipykernel_launcher.py:8: RuntimeWarning: divide by zero encountered in log\n",
      "  \n",
      "E:\\Python\\lib\\site-packages\\ipykernel_launcher.py:8: RuntimeWarning: invalid value encountered in multiply\n",
      "  \n",
      "E:\\Python\\lib\\site-packages\\ipykernel_launcher.py:4: RuntimeWarning: overflow encountered in exp\n",
      "  after removing the cwd from sys.path.\n"
     ]
    },
    {
     "name": "stdout",
     "output_type": "stream",
     "text": [
      "w0 = -54.00, w1 = -50.15, w2 = 43.29\n"
     ]
    },
    {
     "name": "stderr",
     "output_type": "stream",
     "text": [
      "E:\\Python\\lib\\site-packages\\ipykernel_launcher.py:8: RuntimeWarning: divide by zero encountered in log\n",
      "  \n",
      "E:\\Python\\lib\\site-packages\\ipykernel_launcher.py:8: RuntimeWarning: invalid value encountered in multiply\n",
      "  \n",
      "E:\\Python\\lib\\site-packages\\ipykernel_launcher.py:4: RuntimeWarning: overflow encountered in exp\n",
      "  after removing the cwd from sys.path.\n",
      "E:\\Python\\lib\\site-packages\\ipykernel_launcher.py:8: RuntimeWarning: divide by zero encountered in log\n",
      "  \n",
      "E:\\Python\\lib\\site-packages\\ipykernel_launcher.py:8: RuntimeWarning: invalid value encountered in multiply\n",
      "  \n",
      "E:\\Python\\lib\\site-packages\\ipykernel_launcher.py:8: RuntimeWarning: divide by zero encountered in log\n",
      "  \n",
      "E:\\Python\\lib\\site-packages\\ipykernel_launcher.py:8: RuntimeWarning: invalid value encountered in multiply\n",
      "  \n"
     ]
    },
    {
     "data": {
      "image/png": "[encoded data removed]",
      "text/plain": [
       "<Figure size 360x360 with 1 Axes>"
      ]
     },
     "metadata": {
      "needs_background": "light"
     },
     "output_type": "display_data"
    }
   ],
   "source": [
    "plt.figure(1, figsize=(5,5))\n",
    "init = [1,1,-1]\n",
    "w = fit_logistic(init, x, t)\n",
    "print(\"w0 = {0:.2f}, w1 = {1:.2f}, w2 = {2:.2f}\".format(w[0], w[1],w[2]))\n",
    "\n",
    "show_data(x,t)\n",
    "show_line(w)\n",
    "plt.xlim(-.2, 1.2)\n",
    "plt.ylim(-.2, 1.2)\n",
    "plt.show()"
   ]
  },
  {
   "cell_type": "code",
   "execution_count": null,
   "metadata": {},
   "outputs": [],
   "source": []
  }
 ],
 "metadata": {
  "kernelspec": {
   "display_name": "Python 3",
   "language": "python",
   "name": "python3"
  },
  "language_info": {
   "codemirror_mode": {
    "name": "ipython",
    "version": 3
   },
   "file_extension": ".py",
   "mimetype": "text/x-python",
   "name": "python",
   "nbconvert_exporter": "python",
   "pygments_lexer": "ipython3",
   "version": "3.7.6"
  }
 },
 "nbformat": 4,
 "nbformat_minor": 4
}
