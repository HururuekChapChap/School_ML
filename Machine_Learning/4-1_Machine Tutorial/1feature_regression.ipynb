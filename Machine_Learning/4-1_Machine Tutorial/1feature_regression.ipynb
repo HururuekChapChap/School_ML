{
 "cells": [
  {
   "cell_type": "code",
   "execution_count": 2,
   "metadata": {},
   "outputs": [],
   "source": [
    "import numpy as np\n",
    "import matplotlib.pylab as plt\n",
    "%matplotlib inline"
   ]
  },
  {
   "cell_type": "code",
   "execution_count": 3,
   "metadata": {},
   "outputs": [],
   "source": [
    "def targetfunc(x):\n",
    "    return 3*x + 5\n",
    "\n",
    "# \"\"\"\n",
    "# 아까 만들었던 직선 우리가 기준으로 정하는 직선\n",
    "# 이 라인을 기준으로 랜덤 데이터를 만들것이다.\n",
    "# \"\"\""
   ]
  },
  {
   "cell_type": "code",
   "execution_count": 4,
   "metadata": {},
   "outputs": [
    {
     "data": {
      "image/png": "[encoded data removed]",
      "text/plain": [
       "<Figure size 432x288 with 1 Axes>"
      ]
     },
     "metadata": {
      "needs_background": "light"
     },
     "output_type": "display_data"
    }
   ],
   "source": [
    "x = np.linspace(-20, 50, 50)\n",
    "#-20 에서 50까지 50개를 생성해라\n",
    "fx = targetfunc(x)\n",
    "#이 x에 대한 fx 값을 구해라\n",
    "#print(x)\n",
    "plt.plot(x,fx)\n",
    "#x 와 fx가 다 들어가 있다. 우리는 이 fx에 랜덤 값을 넣을 것이다.\n",
    "plt.grid()\n",
    "plt.show()"
   ]
  },
  {
   "cell_type": "code",
   "execution_count": 9,
   "metadata": {},
   "outputs": [
    {
     "name": "stdout",
     "output_type": "stream",
     "text": [
      "[0.01936696 0.67883553 0.21162812 0.26554666 0.49157316 0.05336255\n",
      " 0.57411761 0.14672857 0.58930554 0.69975836 0.10233443 0.41405599\n",
      " 0.69440016 0.41417927 0.04995346 0.53589641 0.66379465 0.51488911\n",
      " 0.94459476 0.58655504 0.90340192 0.1374747  0.13927635 0.80739129\n",
      " 0.39767684 0.1653542  0.92750858 0.34776586 0.7508121  0.72599799\n",
      " 0.88330609 0.62367221 0.75094243 0.34889834 0.26992789 0.89588622\n",
      " 0.42809119 0.96484005 0.6634415  0.62169572 0.11474597 0.94948926\n",
      " 0.44991213 0.57838961 0.4081368  0.23702698 0.90337952 0.57367949\n",
      " 0.00287033 0.61714491]\n"
     ]
    },
    {
     "data": {
      "image/png": "[encoded data removed]",
      "text/plain": [
       "<Figure size 432x288 with 1 Axes>"
      ]
     },
     "metadata": {
      "needs_background": "light"
     },
     "output_type": "display_data"
    }
   ],
   "source": [
    "np.random.seed(1) # random 값이 일정하게 나오기 위해서 시드를 고정 시켜준것이다.\n",
    "t = fx + 50 * np.random.rand(len(x)) # 랜덤 y   값 => len은 x의 객수 만큼 random 하게 만들어준다는 것이다.\n",
    "\n",
    "print(np.random.rand(len(x)))\n",
    "plt.plot(x,t,\"o\")\n",
    "plt.grid()\n",
    "plt.show()"
   ]
  },
  {
   "cell_type": "code",
   "execution_count": 19,
   "metadata": {},
   "outputs": [],
   "source": [
    "# loss function, gradient function , gradient_descent function 구현\n",
    "\n",
    "def grad_loss(x, t, w0, w1):\n",
    "    y = w0 * x + w1\n",
    "    grad_w0 = 2 * np.mean((y-t)*x)\n",
    "    grad_w1 = 2 * np.mean(y - t)\n",
    "    return grad_w0, grad_w1\n",
    "\n",
    "# \"\"\"\n",
    "# x는 위에서 구한 x 값 \n",
    "# t는 위에서 구한 참값 동그라미 점\n",
    "# w0, w1는 우리가 구해야하는 값 \n",
    "# 이 함수는 gradient J 를 구해주는 함수이다.\n",
    "# \"\"\"\n",
    "\n",
    "def grad_descent(x, t, w0, w1, lr, itr):\n",
    "    _w0 = w0\n",
    "    _w1 = w1\n",
    "    eps = 0.1\n",
    "    for i in range(1, itr):\n",
    "        grad_w = grad_loss(x,t,_w0, _w1)\n",
    "        _w0 = _w0 - lr*grad_w[0]\n",
    "        _w1 = _w1 - lr*grad_w[1]\n",
    "        if (max(np.absolute(grad_w)) < eps):\n",
    "            break\n",
    "    return _w0, _w1\n",
    "\n",
    "# \"\"\"\n",
    "#  이것은 그레디언트 값 이용해서 최소값을 찾아가는 것\n",
    " \n",
    "#  lr은 우리가 이전 시간에 봤던 alpha. 즉 런닝메이트\n",
    "#  이것을 크게 하면 크게 할 수록 이동하는 양이 많다. \n",
    " \n",
    "#  itr은 우리가 반복하는 횟수를 의미하고 최저값에 가까우면 끝나게 된다.\n",
    "# \"\"\"\n",
    "\n",
    "def show_line(x,t,w0,w1):\n",
    "    #true - dot\n",
    "    plt.plot(x,t, \"o\") # 참 값은 0 으로 표시하고\n",
    "    #model - line\n",
    "    y = w0*x + w1 # 우리가 구한 값은 선을 그린다.\n",
    "    plt.plot(x,y, color=\"red\", linewidth = 4)"
   ]
  },
  {
   "cell_type": "code",
   "execution_count": 20,
   "metadata": {},
   "outputs": [
    {
     "name": "stdout",
     "output_type": "stream",
     "text": [
      "W = 3.285,  19.581\n"
     ]
    },
    {
     "data": {
      "image/png": "[encoded data removed]",
      "text/plain": [
       "<Figure size 432x288 with 1 Axes>"
      ]
     },
     "metadata": {
      "needs_background": "light"
     },
     "output_type": "display_data"
    }
   ],
   "source": [
    "w0 = 1.0\n",
    "w1 = 1.0\n",
    "\n",
    "lr = 0.001\n",
    "itr = 1000\n",
    "# \"\"\"\n",
    "# 이 윗 것이 초기화 이니 런닝 메이트로 내려간다. 몇번? 천번\n",
    "# \"\"\"\n",
    "w0_opt, w1_opt = grad_descent(x,t,w0,w1, lr, itr)\n",
    "print(\"W = {0:.3f}, {1: 0.3f}\".format(w0_opt, w1_opt))\n",
    "show_line(x,t,w0_opt, w1_opt)\n",
    "\n",
    "# \"\"\"\n",
    "# 이것이 있으면 우리가 x 값을 주면 y 값을 예측 할 수 있게 됩니다.\n",
    "# => 선형 회귀 라 한다.\n",
    "# \"\"\""
   ]
  },
  {
   "cell_type": "code",
   "execution_count": null,
   "metadata": {},
   "outputs": [],
   "source": []
  }
 ],
 "metadata": {
  "kernelspec": {
   "display_name": "Python 3",
   "language": "python",
   "name": "python3"
  },
  "language_info": {
   "codemirror_mode": {
    "name": "ipython",
    "version": 3
   },
   "file_extension": ".py",
   "mimetype": "text/x-python",
   "name": "python",
   "nbconvert_exporter": "python",
   "pygments_lexer": "ipython3",
   "version": "3.7.6"
  }
 },
 "nbformat": 4,
 "nbformat_minor": 4
}
