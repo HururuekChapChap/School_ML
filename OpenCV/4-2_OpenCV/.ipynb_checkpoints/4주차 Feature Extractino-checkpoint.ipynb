{
 "cells": [
  {
   "cell_type": "code",
   "execution_count": 10,
   "metadata": {},
   "outputs": [],
   "source": [
    "import cv2\n",
    "import numpy as np\n",
    "\n",
    "# localMaxima 를 찾는 함수 \n",
    "def findLocalMaxima(src):\n",
    "    #구성요소를 사각형 모델로 만들어서 \n",
    "    kernel = cv2.getStructuringElement(shape = cv2.MORPH_RECT, ksize=(11,11))\n",
    "    #팽창을 적용하면 우리가 분할한 이진 영상 255영역이 커진다\n",
    "\n",
    "    dilate = cv2.dilate(src, kernel)\n",
    "    # src 랑 dilate랑 같니???\n",
    "    #픽셀값 하나하나를 서로 확인한다. \n",
    "    #그래서 각 필셀에 Bool 값이 들어간다.\n",
    "    localMax = (src == dilate)\n",
    "    \n",
    "    #일반적인 데이터에 대해서 erode를 하면 커널 안의 가장 \n",
    "    #작은 값이 저장이 된다.\n",
    "    erode = cv2.erode(src, kernel)\n",
    "    #소스랑 erode랑 비교해서 소스가 큰 값이 남게 된다.\n",
    "    #그래서 local minium만 지우게 된다.\n",
    "    localMax2 = (src > erode)\n",
    "    #그래서 두개를 and 연산을 하면 localMax만 남는다.\n",
    "    localMax &= localMax2\n",
    "    #로컬 맥스에 트루값이 들어가는 위치(X, Y)!\n",
    "    points = np.argwhere(localMax == True)\n",
    "    #행렬은 (Y,X)로 데이터가 저장되기 때문에 X , Y로 바꿔준다.\n",
    "    points[:,[0,1]] = points[:,[1,0]] # switch x , y\n",
    "    return points"
   ]
  },
  {
   "cell_type": "code",
   "execution_count": 11,
   "metadata": {},
   "outputs": [
    {
     "name": "stdout",
     "output_type": "stream",
     "text": [
      "8\n"
     ]
    }
   ],
   "source": [
    "src = cv2.imread(\"./data/CornerTest.jpg\")\n",
    "gray = cv2.cvtColor(src, cv2.COLOR_BGR2GRAY)\n",
    "res = cv2.preCornerDetect(gray, ksize = 3)\n",
    "ret, res2 = cv2.threshold(np.abs(res), 0.1 , 0 , cv2.THRESH_TOZERO)\n",
    "corners = findLocalMaxima(res2)\n",
    "print(len(corners))\n",
    "\n",
    "dst = src.copy()\n",
    "for x , y in corners:\n",
    "    cv2.circle(dst , (x, y), 5 , (0,0,255),2)\n",
    "\n",
    "cv2.imshow(\"src\", src)\n",
    "cv2.imshow(\"dst\", dst)\n",
    "cv2.waitKey()\n",
    "cv2.destroyAllWindows()"
   ]
  },
  {
   "cell_type": "code",
   "execution_count": 15,
   "metadata": {},
   "outputs": [
    {
     "name": "stdout",
     "output_type": "stream",
     "text": [
      "eigen.shape =  (512, 512)\n",
      "len(corners) = 8\n"
     ]
    }
   ],
   "source": [
    "#cornerMinEigenValsAndVecs\n",
    "\n",
    "src = cv2.imread(\"./data/CornerTest.jpg\")\n",
    "gray = cv2.cvtColor(src, cv2.COLOR_BGR2GRAY)\n",
    "#MinEigenVal은 코너 값을 바로 가져올 수 있다.\n",
    "eigen = cv2.cornerMinEigenVal(gray, blockSize = 5)\n",
    "print(\"eigen.shape = \", eigen.shape)\n",
    "\n",
    "T = 0.2 #쓰레숄드를 0.2로 지정 argwhre로 Threshold 사용\n",
    "corners = np.argwhere(eigen > T)\n",
    "corners[:,[0,1]] = corners[:,[1,0]]\n",
    "print(\"len(corners) =\", len(corners))\n",
    "dst = src.copy()\n",
    "for x , y in corners:\n",
    "    cv2.circle(dst, (x, y), 3 , (0,0,255), 2)\n",
    "    \n",
    "cv2.imshow(\"dst\", dst)\n",
    "cv2.waitKey()\n",
    "cv2.destroyAllWindows()"
   ]
  },
  {
   "cell_type": "code",
   "execution_count": 22,
   "metadata": {},
   "outputs": [
    {
     "name": "stdout",
     "output_type": "stream",
     "text": [
      "corners= [[109 127]\n",
      " [264 127]\n",
      " [267 167]\n",
      " [386 170]\n",
      " [109 268]\n",
      " [167 271]\n",
      " [170 374]\n",
      " [386 374]]\n"
     ]
    }
   ],
   "source": [
    "#CornerHaarris\n",
    "\n",
    "src = cv2.imread(\"./data/CornerTest.jpg\")\n",
    "gray = cv2.cvtColor(src, cv2.COLOR_BGR2GRAY)\n",
    "\n",
    "res = cv2.cornerHarris(gray, blockSize = 5, ksize = 3, k = 0.01)\n",
    "ret,res = cv2.threshold(np.abs(res), 0.02, 0, cv2.THRESH_TOZERO)\n",
    "corners = findLocalMaxima(res)\n",
    "print(\"corners=\", corners)\n",
    "\n",
    "dst = src.copy()\n",
    "\n",
    "for x , y in corners:\n",
    "    cv2.circle(dst, (x, y), 3, (0,0,255), 2)\n",
    "\n",
    "cv2.imshow(\"dst\", dst)\n",
    "cv2.waitKey()\n",
    "cv2.destroyAllWindows()"
   ]
  },
  {
   "cell_type": "code",
   "execution_count": 26,
   "metadata": {},
   "outputs": [],
   "source": [
    "#fast -- 확실한 코너가 아니라면 효과가 별로 좋지 않다.\n",
    "\n",
    "src = cv2.imread(\"./data/CornerTest.jpg\")\n",
    "gray = cv2.cvtColor(src, cv2.COLOR_BGR2GRAY)\n",
    "\n",
    "fast = cv2.FastFeatureDetector_create(30)\n",
    "#0으로 했다는 것은 maxSuppression을 쓰지 않는다.\n",
    "fast.setNonmaxSuppression(0)\n",
    "kp = fast.detect(src, None)\n",
    "dst = src.copy()\n",
    "#결과를 쉽게 그릴 수 있따.\n",
    "cv2.drawKeypoints(src, kp, dst, (0,0,255))\n",
    "\n",
    "cv2.imshow(\"dst\", dst)\n",
    "cv2.waitKey()\n",
    "cv2.destroyAllWindows()"
   ]
  },
  {
   "cell_type": "code",
   "execution_count": 28,
   "metadata": {},
   "outputs": [
    {
     "name": "stdout",
     "output_type": "stream",
     "text": [
      "centers.shape= (24, 1, 2)\n"
     ]
    }
   ],
   "source": [
    "#Circles Grid\n",
    "\n",
    "src = cv2.imread(\"./data/circleGrid.jpg\")\n",
    "gray = cv2.cvtColor(src, cv2.COLOR_BGR2GRAY)\n",
    "patternSize = (6,4)\n",
    "found, centers = cv2.findCirclesGrid(src, patternSize)\n",
    "print(\"centers.shape=\", centers.shape)\n",
    "\n",
    "dst = src.copy()\n",
    "cv2.drawChessboardCorners(dst,patternSize, centers, found)\n",
    "\n",
    "cv2.imshow(\"dst\", dst)\n",
    "cv2.waitKey()\n",
    "cv2.destroyAllWindows()"
   ]
  },
  {
   "cell_type": "code",
   "execution_count": null,
   "metadata": {},
   "outputs": [],
   "source": []
  }
 ],
 "metadata": {
  "kernelspec": {
   "display_name": "Python 3",
   "language": "python",
   "name": "python3"
  },
  "language_info": {
   "codemirror_mode": {
    "name": "ipython",
    "version": 3
   },
   "file_extension": ".py",
   "mimetype": "text/x-python",
   "name": "python",
   "nbconvert_exporter": "python",
   "pygments_lexer": "ipython3",
   "version": "3.7.6"
  }
 },
 "nbformat": 4,
 "nbformat_minor": 4
}
