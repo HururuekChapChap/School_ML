{
 "cells": [
  {
   "cell_type": "code",
   "execution_count": 3,
   "metadata": {},
   "outputs": [],
   "source": [
    "import cv2"
   ]
  },
  {
   "cell_type": "code",
   "execution_count": 2,
   "metadata": {},
   "outputs": [],
   "source": [
    "#Image Stitches\n",
    "\n",
    "src1 = cv2.imread(\"./data/stitch/stitch_image1.jpg\")\n",
    "src2 = cv2.imread(\"./data/stitch/stitch_image2.jpg\")\n",
    "src3 = cv2.imread(\"./data/stitch/stitch_image3.jpg\")\n",
    "src4 = cv2.imread(\"./data/stitch/stitch_image4.jpg\")\n",
    "stitche = cv2.Stitcher.create(cv2.Stitcher_PANORAMA)\n",
    "\n",
    "status , dst2 = stitche.stitch((src1,src2))\n",
    "status , dst3 = stitche.stitch((dst2,src3))\n",
    "status , dst4 = stitche.stitch((dst3,src4))\n",
    "\n",
    "cv2.imshow(\"src1\", src1)\n",
    "cv2.imshow(\"src2\", src2)\n",
    "cv2.imshow(\"src3\", src3)\n",
    "cv2.imshow(\"src4\", src4)\n",
    "cv2.imshow(\"dst4\", dst4)\n",
    "\n",
    "cv2.waitKey()\n",
    "cv2.destroyAllWindows()"
   ]
  },
  {
   "cell_type": "code",
   "execution_count": 8,
   "metadata": {},
   "outputs": [
    {
     "name": "stdout",
     "output_type": "stream",
     "text": [
      "len(images)= 11\n"
     ]
    }
   ],
   "source": [
    "#Video Stitching\n",
    "\n",
    "cap = cv2.VideoCapture(\"./data/stitch/stitch_videoInput.mp4\")\n",
    "t= 0\n",
    "images = []\n",
    "STEP = 20\n",
    "\n",
    "while True:\n",
    "    t += 1\n",
    "    retval, frame = cap.read()\n",
    "    if not retval:\n",
    "        break\n",
    "    img = cv2.resize(frame, dsize = (640,480))\n",
    "    img = cv2.rotate(img,cv2.ROTATE_90_CLOCKWISE)\n",
    "    #90도로 돌아간 상태로 입력이 들어와서 90도로 돌려줬다.\n",
    "    \n",
    "    if t % STEP == 0: #20개 중 하나식 넣어라\n",
    "        images.append(img)\n",
    "        \n",
    "#     cv2.imshow(\"img\", img)\n",
    "    key = cv2.waitKey(25)\n",
    "    if key == 27: #ESC\n",
    "        break\n",
    "\n",
    "#\n",
    "print(\"len(images)=\", len(images))\n",
    "stitcher = cv2.Stitcher.create(cv2.Stitcher_PANORAMA)\n",
    "status, dst = stitcher.stitch(images)# 모든 사진을 그냥 스티칭 해준다.\n",
    "\n",
    "if status == cv2.STITCHER_OK:\n",
    "    cv2.imshow(\"dst\",dst)\n",
    "    cv2.waitKey()\n",
    "    \n",
    "if cap.isOpened():\n",
    "    cap.release()\n",
    "cv2.destroyAllWindows()"
   ]
  },
  {
   "cell_type": "code",
   "execution_count": null,
   "metadata": {},
   "outputs": [],
   "source": []
  }
 ],
 "metadata": {
  "kernelspec": {
   "display_name": "Python 3",
   "language": "python",
   "name": "python3"
  },
  "language_info": {
   "codemirror_mode": {
    "name": "ipython",
    "version": 3
   },
   "file_extension": ".py",
   "mimetype": "text/x-python",
   "name": "python",
   "nbconvert_exporter": "python",
   "pygments_lexer": "ipython3",
   "version": "3.7.6"
  }
 },
 "nbformat": 4,
 "nbformat_minor": 4
}
