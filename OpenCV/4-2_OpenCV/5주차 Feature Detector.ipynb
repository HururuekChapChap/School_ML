{
 "cells": [
  {
   "cell_type": "code",
   "execution_count": 6,
   "metadata": {},
   "outputs": [
    {
     "name": "stdout",
     "output_type": "stream",
     "text": [
      "len(k[]=) 167\n"
     ]
    }
   ],
   "source": [
    "# FastFetureDetector\n",
    "\n",
    "import cv2\n",
    "import numpy as np\n",
    "\n",
    "src = cv2.imread(\"./data/chessBoard.jpg\")\n",
    "gray = cv2.cvtColor(src, cv2.COLOR_BGR2GRAY)\n",
    "\n",
    "#1\n",
    "fastF = cv2.FastFeatureDetector_create() #객체생성\n",
    "kp = fastF.detect(gray) #특징점 검출\n",
    "dst = cv2.drawKeypoints(gray, kp, None, color = (0,0,255)) #dst에 KeyPoint 추출한 결과가 출력이 된다.\n",
    "print(\"len(k[]=)\", len(kp))\n",
    "cv2.imshow(\"dst\", dst)\n",
    "cv2.waitKey()\n",
    "cv2.destroyAllWindows()\n",
    "\n",
    "#KeyPoint 가 중첮이 되서 너무 많이 출력이 된다.\n",
    "#그리고 쓸대 없는 부분 까지 KeyPoint가 된다."
   ]
  },
  {
   "cell_type": "code",
   "execution_count": 11,
   "metadata": {},
   "outputs": [
    {
     "name": "stdout",
     "output_type": "stream",
     "text": [
      "len(k[]=) 202\n"
     ]
    }
   ],
   "source": [
    "#MSER\n",
    "\n",
    "import cv2\n",
    "import numpy as np\n",
    "\n",
    "src = cv2.imread(\"./data/chessBoard.jpg\")\n",
    "gray = cv2.cvtColor(src, cv2.COLOR_BGR2GRAY)\n",
    "\n",
    "#파라미터가 10 들어 갔는데, 임계치에 따라 값이 달라지는데\n",
    "#값이 크면 클 수록 추출되는 값이 작아진다.\n",
    "mserF = cv2.MSER_create(10)\n",
    "kp = mserF.detect(gray)\n",
    "dst = cv2.drawKeypoints(gray, kp, None, color=(0,0,255))\n",
    "print(\"len(k[]=)\", len(kp))\n",
    "cv2.imshow(\"dst\", dst)\n",
    "cv2.waitKey()\n",
    "cv2.destroyAllWindows()\n",
    "\n",
    "#하나 처럼 보이지만 여러개가 중첩이 되서 202개나 됐다\n",
    "#따라서 후처리 해주는 것이 필요하다."
   ]
  },
  {
   "cell_type": "code",
   "execution_count": 12,
   "metadata": {},
   "outputs": [
    {
     "name": "stdout",
     "output_type": "stream",
     "text": [
      "len(k[]=) 14\n"
     ]
    }
   ],
   "source": [
    "#SimpleBlobDetector\n",
    "\n",
    "import cv2\n",
    "import numpy as np\n",
    "\n",
    "src = cv2.imread(\"./data/chessBoard.jpg\")\n",
    "gray = cv2.cvtColor(src, cv2.COLOR_BGR2GRAY)\n",
    "\n",
    "params = cv2.SimpleBlobDetector_Params()\n",
    "params.blobColor = 0 # 디폴트가 0 이다 0 : 어두움 1: 밝음\n",
    "\n",
    "blobF = cv2.SimpleBlobDetector_create(params)\n",
    "kp = blobF.detect(gray)\n",
    "dst = cv2.drawKeypoints(gray, kp, None, color=(0,0,255))\n",
    "print(\"len(k[]=)\", len(kp))\n",
    "cv2.imshow(\"dst\", dst)\n",
    "cv2.waitKey()\n",
    "cv2.destroyAllWindows()\n",
    "\n",
    "# SimpleBlob은 찾을 때 어두운 것만 나오는데\n",
    "#SimpleBlob_dector_param 이 있는데, 거기에 1을 넣었는데,\n",
    "#찾지 못한 것이다. 찾기 위해서는 파라미터를 추가해줘야한다.\n",
    "#결과는 중복되지 않고 검정색 블락 14개를 잘 찾았다."
   ]
  },
  {
   "cell_type": "code",
   "execution_count": 13,
   "metadata": {},
   "outputs": [
    {
     "name": "stdout",
     "output_type": "stream",
     "text": [
      "len(k[]=) 8\n"
     ]
    }
   ],
   "source": [
    "#GFTTDetector\n",
    "\n",
    "import cv2\n",
    "import numpy as np\n",
    "\n",
    "src = cv2.imread(\"./data/CornerTest.jpg\")\n",
    "gray = cv2.cvtColor(src, cv2.COLOR_BGR2GRAY)\n",
    "\n",
    "\n",
    "goodF = cv2.GFTTDetector_create()\n",
    "kp = goodF.detect(gray)\n",
    "dst = cv2.drawKeypoints(gray, kp, None, color=(0,0,255))\n",
    "print(\"len(k[]=)\", len(kp))\n",
    "cv2.imshow(\"dst\", dst)\n",
    "cv2.waitKey()\n",
    "cv2.destroyAllWindows()"
   ]
  },
  {
   "cell_type": "code",
   "execution_count": 16,
   "metadata": {},
   "outputs": [
    {
     "name": "stdout",
     "output_type": "stream",
     "text": [
      "len(k[]=) 63\n"
     ]
    }
   ],
   "source": [
    "#ORB\n",
    "\n",
    "import cv2\n",
    "import numpy as np\n",
    "\n",
    "src = cv2.imread(\"./data/CornerTest.jpg\")\n",
    "gray = cv2.cvtColor(src, cv2.COLOR_BGR2GRAY)\n",
    "gray = cv2.GaussianBlur(gray, (5,5), 0.0) #노이즈가 심하면 잡음 제거를 위해서 블러를 사용한다.\n",
    "\n",
    "#orbF = cv2.ORB_create()  #Harris_Score - 디폴트\n",
    "orbF = cv2.ORB_create(scoreType = 1) #FAST_SCORE - 1이라고 적으면\n",
    "kp = orbF.detect(gray)\n",
    "\n",
    "dst = cv2.drawKeypoints(gray, kp, None, color=(0,0,255))\n",
    "print(\"len(k[]=)\", len(kp))\n",
    "cv2.imshow(\"dst\", dst)\n",
    "cv2.waitKey()\n",
    "cv2.destroyAllWindows()\n",
    "\n",
    "#중복된 값이 검출된다."
   ]
  },
  {
   "cell_type": "code",
   "execution_count": 17,
   "metadata": {},
   "outputs": [
    {
     "name": "stdout",
     "output_type": "stream",
     "text": [
      "len(k[]=) 27\n"
     ]
    }
   ],
   "source": [
    "#BRISK\n",
    "\n",
    "import cv2\n",
    "import numpy as np\n",
    "\n",
    "src = cv2.imread(\"./data/CornerTest.jpg\")\n",
    "gray = cv2.cvtColor(src, cv2.COLOR_BGR2GRAY)\n",
    "gray = cv2.GaussianBlur(gray, (5,5), 0.0) #노이즈가 심하면 잡음 제거를 위해서 블러를 사용한다.\n",
    "\n",
    "briskF = cv2.BRISK_create()\n",
    "kp = briskF.detect(gray)\n",
    "\n",
    "dst = cv2.drawKeypoints(gray, kp, None, color=(0,0,255))\n",
    "print(\"len(k[]=)\", len(kp))\n",
    "cv2.imshow(\"dst\", dst)\n",
    "cv2.waitKey()\n",
    "cv2.destroyAllWindows()"
   ]
  },
  {
   "cell_type": "code",
   "execution_count": 18,
   "metadata": {},
   "outputs": [
    {
     "name": "stdout",
     "output_type": "stream",
     "text": [
      "len(k[]=) 24\n"
     ]
    }
   ],
   "source": [
    "#KAZE\n",
    "\n",
    "import cv2\n",
    "import numpy as np\n",
    "\n",
    "src = cv2.imread(\"./data/CornerTest.jpg\")\n",
    "gray = cv2.cvtColor(src, cv2.COLOR_BGR2GRAY)\n",
    "\n",
    "kazeF = cv2.KAZE_create()\n",
    "kp = kazeF.detect(gray)\n",
    "\n",
    "dst = cv2.drawKeypoints(gray, kp, None, color=(0,0,255))\n",
    "print(\"len(k[]=)\", len(kp))\n",
    "cv2.imshow(\"dst\", dst)\n",
    "cv2.waitKey()\n",
    "cv2.destroyAllWindows()"
   ]
  },
  {
   "cell_type": "code",
   "execution_count": null,
   "metadata": {},
   "outputs": [],
   "source": []
  }
 ],
 "metadata": {
  "kernelspec": {
   "display_name": "Python 3",
   "language": "python",
   "name": "python3"
  },
  "language_info": {
   "codemirror_mode": {
    "name": "ipython",
    "version": 3
   },
   "file_extension": ".py",
   "mimetype": "text/x-python",
   "name": "python",
   "nbconvert_exporter": "python",
   "pygments_lexer": "ipython3",
   "version": "3.7.6"
  }
 },
 "nbformat": 4,
 "nbformat_minor": 4
}
