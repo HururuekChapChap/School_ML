{
 "cells": [
  {
   "cell_type": "code",
   "execution_count": 2,
   "metadata": {},
   "outputs": [],
   "source": [
    "import cv2\n",
    "import numpy as np\n",
    "import matplotlib.pyplot as plt\n",
    "import webbrowser"
   ]
  },
  {
   "cell_type": "code",
   "execution_count": 4,
   "metadata": {},
   "outputs": [
    {
     "name": "stdout",
     "output_type": "stream",
     "text": [
      "decoded Data : https://www.catholic.ac.kr\n"
     ]
    }
   ],
   "source": [
    "inputImage = cv2.imread(\"./data/QRCode.png\")\n",
    "qrDecoder = cv2.QRCodeDetector()\n",
    "\n",
    "#QR코드를 찾고 디코드 해줍니다\n",
    "data , bbox, _ = qrDecoder.detectAndDecode(inputImage)\n",
    "\n",
    "if len(data) > 0:\n",
    "    print(\"decoded Data : {}\".format(data))\n",
    "    \n",
    "    decodedText, points, _ = qrDecoder.detectAndDecode(inputImage)\n",
    "    \n",
    "    if points is not None :\n",
    "        nrOfPoints = len(points)\n",
    "        \n",
    "        for i in range(nrOfPoints):\n",
    "            nextpointIndex = (i+1) % nrOfPoints\n",
    "            cv2.line(inputImage, tuple(points[i][0]), tuple(points[nextpointIndex][0]),(0,0,255),3)\n",
    "            \n",
    "    #display\n",
    "    cv2.imshow(\"QR Code\", inputImage)\n",
    "    cv2.waitKey()\n",
    "    cv2.destroyAllWindows()\n",
    "    \n",
    "    #web Browser\n",
    "    webbrowser.open(data)\n",
    "    \n",
    "else:\n",
    "    \n",
    "    print(\"QR Code not detected\")\n",
    "    "
   ]
  },
  {
   "cell_type": "code",
   "execution_count": null,
   "metadata": {},
   "outputs": [],
   "source": []
  }
 ],
 "metadata": {
  "kernelspec": {
   "display_name": "Python 3",
   "language": "python",
   "name": "python3"
  },
  "language_info": {
   "codemirror_mode": {
    "name": "ipython",
    "version": 3
   },
   "file_extension": ".py",
   "mimetype": "text/x-python",
   "name": "python",
   "nbconvert_exporter": "python",
   "pygments_lexer": "ipython3",
   "version": "3.7.6"
  }
 },
 "nbformat": 4,
 "nbformat_minor": 4
}
