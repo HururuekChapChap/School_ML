{
 "cells": [
  {
   "cell_type": "code",
   "execution_count": 1,
   "metadata": {},
   "outputs": [],
   "source": [
    "import cv2\n",
    "import numpy as np"
   ]
  },
  {
   "cell_type": "code",
   "execution_count": 3,
   "metadata": {},
   "outputs": [
    {
     "name": "stdout",
     "output_type": "stream",
     "text": [
      "512 512\n",
      "256 256\n"
     ]
    }
   ],
   "source": [
    "img =cv2.imread(\"./data/Lenna.png\", cv2.IMREAD_GRAYSCALE)\n",
    "\n",
    "(h,w) = img.shape #이미지의 크기를 가져온다.\n",
    "print(h,w)\n",
    "\n",
    "cy, cx = h//2, w//2 #이미지의 절반을 가져온다.\n",
    "print(cy,cx)\n",
    "\n",
    "roi = img[0:cy, 0:cx]\n",
    "\n",
    "cv2.imshow(\"ROI\", roi)\n",
    "cv2.waitKey()\n",
    "cv2.destroyAllWindows()"
   ]
  },
  {
   "cell_type": "code",
   "execution_count": 2,
   "metadata": {},
   "outputs": [
    {
     "name": "stdout",
     "output_type": "stream",
     "text": [
      "(134.8477783203125, 0.0, 0.0, 0.0)\n",
      "(146.747802734375, 0.0, 0.0, 0.0)\n",
      "(152.968994140625, 0.0, 0.0, 0.0)\n",
      "(123.6239013671875, 0.0, 0.0, 0.0)\n",
      "(130.52777099609375, 0.0, 0.0, 0.0)\n",
      "(126.67645263671875, 0.0, 0.0, 0.0)\n",
      "(164.22821044921875, 0.0, 0.0, 0.0)\n",
      "(134.36572265625, 0.0, 0.0, 0.0)\n",
      "(118.12847900390625, 0.0, 0.0, 0.0)\n",
      "(103.7271728515625, 0.0, 0.0, 0.0)\n",
      "(126.73822021484375, 0.0, 0.0, 0.0)\n",
      "(164.34765625, 0.0, 0.0, 0.0)\n",
      "(106.5555419921875, 0.0, 0.0, 0.0)\n",
      "(97.04498291015625, 0.0, 0.0, 0.0)\n",
      "(159.75433349609375, 0.0, 0.0, 0.0)\n",
      "(128.5537109375, 0.0, 0.0, 0.0)\n"
     ]
    }
   ],
   "source": [
    "src = cv2.imread(\"./data/Lenna.png\",cv2.IMREAD_GRAYSCALE)\n",
    "dst = np.zeros(src.shape, dtype=src.dtype)\n",
    "\n",
    "# \"\"\"\n",
    "# dst라는 영상을 만드는데, src.shape 만큼 크기의 영상을 만들어라 그리고\n",
    "# 데이터 타입을 넣어주는데, 전체가 0이라서 검정색이 된다.\n",
    "# \"\"\"\n",
    "\n",
    "N = 4 \n",
    "# 평균영상을 구하는 것이다. 즉화면을 높이를 4줄로 가로를 4줄로 나눈다를 의미한다.\n",
    "height, width = src.shape\n",
    "h = height //N\n",
    "w = width // N\n",
    "\n",
    "for i in range(N):\n",
    "    for j in range(N):\n",
    "        y = i*h\n",
    "        x = j*w\n",
    "        roi = src[y:y+h, x:x+w]\n",
    "        val = cv2.mean(roi) #roi의 평균값을 넣어준다.\n",
    "        print(val)\n",
    "        dst[y:y+h, x:x+w] = val[0]\n",
    "#         \"\"\"\n",
    "#         이렇게 한다면 검정화면인 dst에 val값을 넣어준다.\n",
    "#         이 때 val이 [0]인 이유는 mean이 4차원이기 때문에\n",
    "#         그중에 0번 채널을 넣어주는 것이다.\n",
    "#         \"\"\"\n",
    "        \n",
    "cv2.imshow(\"dst\", dst)\n",
    "cv2.waitKey()\n",
    "cv2.destroyAllWindows()"
   ]
  },
  {
   "cell_type": "code",
   "execution_count": 6,
   "metadata": {},
   "outputs": [
    {
     "name": "stdout",
     "output_type": "stream",
     "text": [
      "roi = (71, 72, 318, 244)\n"
     ]
    }
   ],
   "source": [
    "src = cv2.imread(\"./data/Lenna.png\",cv2.IMREAD_GRAYSCALE)\n",
    "roi = cv2.selectROI(src) #마우스로 영역을 선택하는 것 -> 마우스로 선택하면 저장이 roi에 저장된다.\n",
    "print(\"roi =\", roi)\n",
    "\n",
    "#X, Y, width , height 값이 roi에 저장이 된다.\n",
    "\n",
    "image = src[roi[1]:roi[1] + roi[3], roi[0]:roi[0] + roi[2]]\n",
    "\n",
    "cv2.imshow(\"image\", image)\n",
    "cv2.waitKey()\n",
    "cv2.destroyAllWindows()"
   ]
  },
  {
   "cell_type": "code",
   "execution_count": 4,
   "metadata": {},
   "outputs": [
    {
     "name": "stdout",
     "output_type": "stream",
     "text": [
      "rects = [[276 138 217 198]\n",
      " [109 127 184 167]\n",
      " [189 195 239 160]\n",
      " [172 201 118 225]\n",
      " [251 119 149 141]\n",
      " [ 90 136 266 189]\n",
      " [ 90 136 266 189]\n",
      " [ 90 136 266 189]\n",
      " [ 90 136 266 189]\n",
      " [196 179 135 156]\n",
      " [196 179 135 156]\n",
      " [196 179 135 156]\n",
      " [196 179 135 156]\n",
      " [196 179 135 156]\n",
      " [196 179 135 156]\n",
      " [196 179 135 156]\n",
      " [196 179 135 156]]\n"
     ]
    },
    {
     "data": {
      "text/plain": [
       "'\\n이것은 roi를 여러개 선택할 수 있도록 한 것이다. \\n'"
      ]
     },
     "execution_count": 4,
     "metadata": {},
     "output_type": "execute_result"
    }
   ],
   "source": [
    "rects = cv2.selectROIs(\"src\", src, False, False) \n",
    "print(\"rects =\", rects)\n",
    "\n",
    "for r in rects:\n",
    "    cv2.rectangle(src, (r[0], r[1]), (r[0]+r[2], r[1]+r[3]), 255)\n",
    "\n",
    "cv2.imshow(\"src\", src)\n",
    "cv2.waitKey()\n",
    "cv2.destroyAllWindows()\n",
    "\n",
    "# \"\"\"\n",
    "# 이것은 roi를 여러개 선택할 수 있도록 한 것이다. \n",
    "\n",
    "# 사용 방법은 선택을 하고 스페이스바를 누르고 난뒤 ESC를 누르면 아래 처럼 나온다.\n",
    "# \"\"\""
   ]
  },
  {
   "cell_type": "code",
   "execution_count": null,
   "metadata": {},
   "outputs": [],
   "source": []
  }
 ],
 "metadata": {
  "kernelspec": {
   "display_name": "Python 3",
   "language": "python",
   "name": "python3"
  },
  "language_info": {
   "codemirror_mode": {
    "name": "ipython",
    "version": 3
   },
   "file_extension": ".py",
   "mimetype": "text/x-python",
   "name": "python",
   "nbconvert_exporter": "python",
   "pygments_lexer": "ipython3",
   "version": "3.7.6"
  }
 },
 "nbformat": 4,
 "nbformat_minor": 4
}
