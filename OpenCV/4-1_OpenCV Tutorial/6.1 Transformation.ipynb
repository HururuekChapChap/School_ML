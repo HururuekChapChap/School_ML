{
 "cells": [
  {
   "cell_type": "code",
   "execution_count": 5,
   "metadata": {},
   "outputs": [],
   "source": [
    "import cv2\n",
    "import numpy as np"
   ]
  },
  {
   "cell_type": "code",
   "execution_count": 2,
   "metadata": {},
   "outputs": [
    {
     "name": "stdout",
     "output_type": "stream",
     "text": [
      "(512, 512)\n"
     ]
    }
   ],
   "source": [
    "src = cv2.imread(\"./data/Lenna.png\", 0)\n",
    "\n",
    "print(src.shape)\n",
    " \n",
    "dst = cv2.resize(src, dsize=(320, 240))\n",
    "#resize는 영상의 크기를 바꾸는 함수\n",
    "dst2 = cv2.resize(src, dsize=(0,0), fx=1.5, fy=1.2)\n",
    "#영상을 주고 변경할 사이즈를 넣어주면 된다.\n",
    "#그런데 이렇게 내가 변경할 사이즈를 넣어줘도 되고\n",
    "#fx , fy는 배수로 증가한다고 보면 된다. fx = x * 1.5배\n",
    "# 를 의미하고 fy = y * 1.2를 의미한다.\n",
    "\n",
    "cv2.imshow(\"img\",dst)\n",
    "cv2.imshow(\"dst2\", dst2)\n",
    "cv2.waitKey()\n",
    "cv2.destroyAllWindows()"
   ]
  },
  {
   "cell_type": "code",
   "execution_count": 4,
   "metadata": {},
   "outputs": [],
   "source": [
    "dst1 = cv2.rotate(src, cv2.ROTATE_90_CLOCKWISE)\n",
    "\n",
    "# 시간 방향으로 90도 회전시켜라 \n",
    "dst2 = cv2.rotate(src, cv2.ROTATE_90_COUNTERCLOCKWISE)\n",
    "# 시게 반대 방향으로 90도 회전시켜라\n",
    "cv2.imshow(\"dst1\", dst1)\n",
    "cv2.imshow(\"dst2\", dst2)\n",
    "cv2.waitKey()\n",
    "cv2.destroyAllWindows()"
   ]
  },
  {
   "cell_type": "code",
   "execution_count": 5,
   "metadata": {},
   "outputs": [],
   "source": [
    "src = cv2.imread(\"./data/Lenna.png\")\n",
    "\n",
    "rows, cols, channels = src.shape\n",
    "\n",
    "m1 = cv2.getRotationMatrix2D( (rows/2, cols/2), 45, 0.5 )\n",
    "m2 = cv2.getRotationMatrix2D( (rows/2, cols/2), -45, 1.0 )\n",
    "\n",
    "# 임으로 회전시킬 때는 getRoattionMatrix2D를 사용한다.\n",
    "# 이 친구는 반환을 행렬을 반환해준다.\n",
    "# 앞 부분이 회전하고자 하는 영상의 중심 , 두번째는 45도 만큼 각도 회전, 마지막은 크기\n",
    "# 반대 방향으로 회전 하고자 할 경우 두번째 부분에 -를 붙여준다.\n",
    "\n",
    "dst1 = cv2.warpAffine( src, m1, (rows*2, cols*2))\n",
    "dst2 = cv2.warpAffine( src, m2, (rows, cols))\n",
    "\n",
    "# 그리고 행렬이 나온다면 이미지와 행렬을 넣어준다. 그리고 마지막 부분은 최종 영상의 크기\n",
    "# 보통은 입력 영상의 크기와 동일하게 해준다.\n",
    "\n",
    "cv2.imshow(\"dst1\", dst1)\n",
    "cv2.imshow(\"dst2\", dst2)\n",
    "cv2.waitKey()\n",
    "cv2.destroyAllWindows()"
   ]
  },
  {
   "cell_type": "code",
   "execution_count": 13,
   "metadata": {},
   "outputs": [],
   "source": [
    "import imutils"
   ]
  },
  {
   "cell_type": "code",
   "execution_count": 6,
   "metadata": {},
   "outputs": [],
   "source": [
    "src =cv2.imread(\"./data/Lenna.png\")\n",
    "\n",
    "rows, cols, channels = src.shape\n",
    "\n",
    "dst = imutils.translate(src, 10, 30)\n",
    "# #translate는 이동을 해주는 것이다.\n",
    "# 즉 소스를 x 쭉으로 10 y 축으로 30 옮기고 싶을 때 translate를 사용한다.\n",
    "dst2 = imutils.rotate(src, angle=10, center = (rows/2, cols/2))\n",
    "\n",
    "# 영상을 중심을 가지고 10도 만큼 회전시킨다.\n",
    "\n",
    "dst3 = imutils.resize(src, width=1000, height=1000)\n",
    "\n",
    "# 영상의 크기를 변경한다.\n",
    "\n",
    "cv2.imshow(\"dst\", dst)\n",
    "cv2.imshow(\"dst2\", dst2)\n",
    "cv2.imshow(\"dst3\", dst3)\n",
    "cv2.waitKey()\n",
    "cv2.destroyAllWindows()"
   ]
  },
  {
   "cell_type": "code",
   "execution_count": null,
   "metadata": {},
   "outputs": [],
   "source": []
  }
 ],
 "metadata": {
  "kernelspec": {
   "display_name": "Python 3",
   "language": "python",
   "name": "python3"
  },
  "language_info": {
   "codemirror_mode": {
    "name": "ipython",
    "version": 3
   },
   "file_extension": ".py",
   "mimetype": "text/x-python",
   "name": "python",
   "nbconvert_exporter": "python",
   "pygments_lexer": "ipython3",
   "version": "3.7.6"
  }
 },
 "nbformat": 4,
 "nbformat_minor": 4
}
