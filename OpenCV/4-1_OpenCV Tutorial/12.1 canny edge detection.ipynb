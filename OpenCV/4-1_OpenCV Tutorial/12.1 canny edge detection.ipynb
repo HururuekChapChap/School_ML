{
 "cells": [
  {
   "cell_type": "code",
   "execution_count": 1,
   "metadata": {},
   "outputs": [],
   "source": [
    "import cv2\n",
    "import numpy as np\n",
    "import imutils "
   ]
  },
  {
   "cell_type": "code",
   "execution_count": 2,
   "metadata": {},
   "outputs": [
    {
     "name": "stdout",
     "output_type": "stream",
     "text": [
      "mag: 0.0 672.8714599609375 (0, 0) (118, 274)\n"
     ]
    }
   ],
   "source": [
    "src = cv2.imread(\"./data/Lenna.png\", 0)\n",
    "\n",
    "#1\n",
    "gx = cv2.Sobel(src, cv2.CV_32F, 1, 0, ksize = 3) # x축방향\n",
    "gy = cv2.Sobel(src, cv2.CV_32F, 0, 1, ksize = 3) # y축 방향\n",
    "\n",
    "#2 X축으로 Sobel(미분) 을 적용\n",
    "dstX = cv2.sqrt(np.abs(gx)) \n",
    "dstX = cv2.normalize(dstX, None, 0, 255, cv2.NORM_MINMAX, dtype=cv2.CV_8U) \n",
    "#영상화 하기 위해서 gx를 sqrt 루트를 구하고 normalize를 통해 영상화 해준다.\n",
    "\n",
    "#3 Y축으로 Sobel(미분) 을 적용\n",
    "dstY = cv2.sqrt(np.abs(gy))\n",
    "dstY = cv2.normalize(dstY, None, 0, 255, cv2.NORM_MINMAX, dtype=cv2.CV_8U)\n",
    "\n",
    "#4\n",
    "mag = cv2.magnitude(gx, gy) #두개를 합친\n",
    "minVal, maxVal, minLoc, maxLoc = cv2.minMaxLoc(mag)\n",
    "print(\"mag:\", minVal, maxVal, minLoc, maxLoc)\n",
    "\n",
    "dstM = cv2.normalize(mag, None, 0, 255, cv2.NORM_MINMAX, dtype=cv2.CV_8U)\n",
    "cv2.imshow(\"dstM\", dstM)\n",
    "\n",
    "#=========================================================================\n",
    "\n",
    "edges1 = cv2.Canny(src,50,100)  #쓰레홀드를 두개로 지정해준것\n",
    "edges2 = cv2.Canny(src,50,200)\n",
    "cv2.imshow(\"src\", src)\n",
    "cv2.imshow(\"edges1\", edges1)\n",
    "cv2.imshow(\"edges2\", edges2) \n",
    "cv2.waitKey()\n",
    "cv2.destroyAllWindows()\n",
    "\n",
    "# 캐니 안에는 가오시안이 없기 때문에 밑에 부분에서 가오시안 블러를 하고 캐니를 했다."
   ]
  },
  {
   "cell_type": "code",
   "execution_count": 9,
   "metadata": {},
   "outputs": [],
   "source": [
    "gray = cv2.imread(\"./data/coins.png\", 0)\n",
    "blurred = cv2.GaussianBlur(gray,(5,5), 0)\n",
    "\n",
    "wide = cv2.Canny(blurred, 10 , 200) # 높은 것과 낮은 것의 간격의 차\n",
    "mid = cv2.Canny(blurred, 30 , 150)\n",
    "tight = cv2.Canny(blurred, 240 , 250)\n",
    "\n",
    "cv2.imshow(\"Original\", gray)\n",
    "cv2.imshow(\"Blurred\", blurred)\n",
    "cv2.imshow(\"Wide Edge Map\", wide)\n",
    "cv2.imshow(\"Mide Edge Map\", mid)\n",
    "cv2.imshow(\"Tight Edge Map\", tight)\n",
    "cv2.waitKey()\n",
    "cv2.destroyAllWindows()"
   ]
  },
  {
   "cell_type": "code",
   "execution_count": 3,
   "metadata": {},
   "outputs": [],
   "source": [
    "gray = cv2.imread(\"./data/teacup.jpg\", 0)\n",
    "blurred = cv2.GaussianBlur(gray,(3,3), 0)\n",
    "\n",
    "wide = cv2.Canny(blurred, 10 , 200) # 높은 것과 낮은 것의 간격의 차\n",
    "tight = cv2.Canny(blurred, 225 , 250)\n",
    "auto = imutils.auto_canny(blurred) # 쓰레숄드를 자동으로 계산해주는 함수\n",
    "\n",
    "cv2.imshow(\"Original\", gray)\n",
    "cv2.imshow(\"Blurred\", blurred)\n",
    "cv2.imshow(\"Wide Edge Map\", wide)\n",
    "cv2.imshow(\"Tight Edge Map\", tight)\n",
    "cv2.imshow(\"auto Edge Map\", auto)\n",
    "cv2.waitKey()\n",
    "cv2.destroyAllWindows()"
   ]
  },
  {
   "cell_type": "code",
   "execution_count": null,
   "metadata": {},
   "outputs": [],
   "source": []
  }
 ],
 "metadata": {
  "kernelspec": {
   "display_name": "Python 3",
   "language": "python",
   "name": "python3"
  },
  "language_info": {
   "codemirror_mode": {
    "name": "ipython",
    "version": 3
   },
   "file_extension": ".py",
   "mimetype": "text/x-python",
   "name": "python",
   "nbconvert_exporter": "python",
   "pygments_lexer": "ipython3",
   "version": "3.7.6"
  }
 },
 "nbformat": 4,
 "nbformat_minor": 4
}
