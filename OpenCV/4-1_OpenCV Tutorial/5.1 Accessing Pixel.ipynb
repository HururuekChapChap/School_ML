{
 "cells": [
  {
   "cell_type": "code",
   "execution_count": 2,
   "metadata": {},
   "outputs": [],
   "source": [
    "import cv2\n",
    "import numpy as np"
   ]
  },
  {
   "cell_type": "code",
   "execution_count": 3,
   "metadata": {},
   "outputs": [
    {
     "name": "stdout",
     "output_type": "stream",
     "text": [
      "img.ndim= 3\n",
      "img.shape= (512, 512, 3)\n",
      "img.dtype= uint8\n"
     ]
    }
   ],
   "source": [
    "img = cv2.imread(\"./data/Lenna.png\")\n",
    "\n",
    "print(\"img.ndim=\", img.ndim) \n",
    "print(\"img.shape=\", img.shape)\n",
    "print(\"img.dtype=\", img.dtype)\n",
    "\n",
    "# \"\"\"\n",
    "# ndim 은 차원\n",
    "# shape은 크기\n",
    "# dyep은 데이터 타입\n",
    "# \"\"\""
   ]
  },
  {
   "cell_type": "code",
   "execution_count": 4,
   "metadata": {},
   "outputs": [
    {
     "name": "stdout",
     "output_type": "stream",
     "text": [
      "img.dtype :  int32\n"
     ]
    }
   ],
   "source": [
    "img = img.astype(np.int32)\n",
    "print(\"img.dtype : \", img.dtype)\n",
    "\n",
    "# \"\"\"\n",
    "# 데이터 타입을 변형시키는 것\n",
    "# 변형 시킬 때 astype으로 변형이 가능하고 np.uint8 이렇게도 가능하다.\n",
    "# \"\"\""
   ]
  },
  {
   "cell_type": "code",
   "execution_count": 5,
   "metadata": {},
   "outputs": [
    {
     "name": "stdout",
     "output_type": "stream",
     "text": [
      "img.dtype :  uint8\n"
     ]
    }
   ],
   "source": [
    "img = np.uint8(img)\n",
    "print(\"img.dtype : \", img.dtype)"
   ]
  },
  {
   "cell_type": "code",
   "execution_count": 6,
   "metadata": {},
   "outputs": [
    {
     "name": "stdout",
     "output_type": "stream",
     "text": [
      "img.shape :  (512, 512)\n"
     ]
    }
   ],
   "source": [
    "img = cv2.imread(\"./data/Lenna.png\", cv2.IMREAD_GRAYSCALE)\n",
    "print(\"img.shape : \", img.shape)\n",
    "\n",
    "# \"\"\"\n",
    "# cv2.IMREAD_GRAYSCALE은 그레이 영상으로 읽어라는 것과 동일하다.\n",
    "# \"\"\""
   ]
  },
  {
   "cell_type": "code",
   "execution_count": 7,
   "metadata": {},
   "outputs": [
    {
     "name": "stdout",
     "output_type": "stream",
     "text": [
      "img.shape =  (262144,)\n"
     ]
    }
   ],
   "source": [
    "img = img.reshape(img.shape[0]*img.shape[1]) #img = img.flatten()\n",
    "print(\"img.shape = \", img.shape)\n",
    "\n",
    "# \"\"\"\n",
    "# reshape은 영상의 크기의 모양을 변형시키니다.\n",
    "# 이것은 2창원(512,512) 영상을 1차원 영상으로 변형시킨 것이다.\n",
    "# 즉 이말은 100 * 100 영상을\n",
    "# 1 * 10000 으로 변형시킨 것이다.\n",
    "\n",
    "# \"\"\""
   ]
  },
  {
   "cell_type": "code",
   "execution_count": 8,
   "metadata": {},
   "outputs": [
    {
     "name": "stdout",
     "output_type": "stream",
     "text": [
      "img.shape :  (512, 512)\n"
     ]
    }
   ],
   "source": [
    "img = img.reshape(512,512)\n",
    "print(\"img.shape : \", img.shape)"
   ]
  },
  {
   "cell_type": "code",
   "execution_count": 9,
   "metadata": {},
   "outputs": [],
   "source": [
    "cv2.imshow(\"img\", img)\n",
    "cv2.waitKey()\n",
    "cv2.destroyAllWindows()"
   ]
  },
  {
   "cell_type": "code",
   "execution_count": 10,
   "metadata": {},
   "outputs": [
    {
     "name": "stdout",
     "output_type": "stream",
     "text": [
      "[[  0 153 150 141 151 150 151 145 144 144]\n",
      " [146 144 151 155 148 149 146 148 145 145]\n",
      " [139 146 157 148 142 146 148 146 144 140]\n",
      " [145 153 146 135 139 147 149 148 140 138]\n",
      " [151 149 139 142 148 150 149 141 142 147]\n",
      " [151 144 143 151 152 150 139 138 145 144]\n",
      " [149 151 149 151 149 148 150 143 142 141]\n",
      " [159 149 145 146 150 151 152 144 132 137]\n",
      " [151 144 144 144 152 149 139 134 140 144]\n",
      " [142 142 151 151 143 142 133 143 146 136]]\n"
     ]
    }
   ],
   "source": [
    "img = cv2.imread(\"./data/Lenna.png\", cv2.IMREAD_GRAYSCALE)\n",
    "img[100,200] = 0\n",
    "# \"\"\"\n",
    "#  이것은 y = 100 이고 x = 200의 밝기값을 0으로 한다.\n",
    "#  만약에 칼라라면 (0,0,0) 이렇게 하여 밝기 값을 0으로 한다.\n",
    "# \"\"\"\n",
    "print(img[100:110, 200:210]) #R이 접근\n",
    "# \"\"\"\n",
    "# 이 부분이 슬라이싱\n",
    "# 이 영역의 값을 출력 해봐라\n",
    "# y 축은 100 에서 109 까지 출력하고\n",
    "# x 축은 200에서 209까지 출력해보라\n",
    "\n",
    "# 밝기값이 저장되어 있다.\n",
    "# \"\"\"\n",
    "\n",
    "img[100:400, 200:300] = 0\n",
    "\n",
    "# \"\"\"\n",
    "# 와이 축은 100에서 399까지 0으로\n",
    "# 엑스 축은 200에서 299까지 0으로 채워라\n",
    "# \"\"\"\n",
    "\n",
    "cv2.imshow(\"img\", img)\n",
    "cv2.waitKey()\n",
    "cv2.destroyAllWindows()"
   ]
  },
  {
   "cell_type": "code",
   "execution_count": 11,
   "metadata": {},
   "outputs": [
    {
     "name": "stdout",
     "output_type": "stream",
     "text": [
      "[[255   0   0]\n",
      " [109 117 213]\n",
      " [113 115 208]\n",
      " [114 101 199]\n",
      " [121 116 207]\n",
      " [105 114 209]\n",
      " [112 113 212]\n",
      " [107 109 204]\n",
      " [117 108 200]\n",
      " [110 109 202]]\n"
     ]
    }
   ],
   "source": [
    "img = cv2.imread(\"./data/Lenna.png\")\n",
    "img[100,200] = [255,0,0] #파랑색으로 해준다.\n",
    "print(img[100,200:210])\n",
    "\n",
    "img[100:400, 200:300] = [255,0,0] #(0,0,255)는 빨강색 (0,255,0)은 초록색 (255,0,0)은 파랑색 => BRG\n",
    "\n",
    "cv2.imshow(\"img\", img)\n",
    "cv2.waitKey()\n",
    "cv2.destroyAllWindows()"
   ]
  },
  {
   "cell_type": "code",
   "execution_count": 12,
   "metadata": {},
   "outputs": [],
   "source": [
    "img[100:400, 200:300, 0] = 255 #R-채널을 255로 변경\n",
    "img[100:400, 300:400, 1] = 255 #G-채널을 255로 변경\n",
    "img[100:400, 400:500, 2] = 255 #R-채널을 25로 변경\n",
    "\n",
    "# \"\"\"\n",
    "# 이 것은 칼라 영상이기 때문에 3차원이다.\n",
    "# 0은 파랑색\n",
    "# 1은 초록색\n",
    "# 2는 빨강색 \n",
    "# 채널을 의미하낟.\n",
    "\n",
    "# 그리고 숫자가 낮으면 낮을 수록 색의 농도가 찐해진다.\n",
    "# \"\"\"\n",
    "\n",
    "cv2.imshow(\"img\", img)\n",
    "cv2.waitKey()\n",
    "cv2.destroyAllWindows()"
   ]
  },
  {
   "cell_type": "code",
   "execution_count": null,
   "metadata": {},
   "outputs": [],
   "source": []
  }
 ],
 "metadata": {
  "kernelspec": {
   "display_name": "Python 3",
   "language": "python",
   "name": "python3"
  },
  "language_info": {
   "codemirror_mode": {
    "name": "ipython",
    "version": 3
   },
   "file_extension": ".py",
   "mimetype": "text/x-python",
   "name": "python",
   "nbconvert_exporter": "python",
   "pygments_lexer": "ipython3",
   "version": "3.7.6"
  }
 },
 "nbformat": 4,
 "nbformat_minor": 4
}
