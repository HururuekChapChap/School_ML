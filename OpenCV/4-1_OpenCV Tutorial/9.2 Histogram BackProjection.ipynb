{
 "cells": [
  {
   "cell_type": "code",
   "execution_count": 2,
   "metadata": {},
   "outputs": [],
   "source": [
    "import cv2\n",
    "import numpy as np"
   ]
  },
  {
   "cell_type": "code",
   "execution_count": 3,
   "metadata": {},
   "outputs": [
    {
     "name": "stdout",
     "output_type": "stream",
     "text": [
      "hist =  [[9.]\n",
      " [3.]\n",
      " [2.]\n",
      " [2.]]\n",
      "backP =  [[9 9 9 9]\n",
      " [9 9 3 2]\n",
      " [2 9 9 3]\n",
      " [2 3 9 2]]\n"
     ]
    }
   ],
   "source": [
    "src = np.array([\n",
    "    [0,0,0,0],\n",
    "    [1,1,3,5],\n",
    "    [6,1,1,3],\n",
    "    [4,3,1,7]\n",
    "], dtype=np.uint8\n",
    ")\n",
    "\n",
    "#이 소스의 히스토 그램을 계산한다. 빈 사이즈가 4 , ranges=0 - 8\n",
    "#range가 0 - 7 값을 가지는 영상이다\n",
    "# 따라서 2개 씩 묶이게 된다. 그래야 8이 4 * 2로\n",
    "# (0,1) (2,3) (4,5) (6,7) 이렇게 묶인다.\n",
    "hist = cv2.calcHist(images=[src], channels=[0], mask=None, \n",
    "                    histSize=[4], ranges=[0,8])\n",
    "print(\"hist = \", hist)\n",
    "\n",
    "#백 프로젝션을 계산한다. - 밝기 값이 들어가는게 아니라 히스토그램 값이 들어간다.\n",
    "\n",
    "# 따라서 백 프로젝션을 하기 위해서는\n",
    "# 소스 -> 히스토그램 -> 백프로젝션\n",
    "backP = cv2.calcBackProject([src], [0], hist, [0,8], scale=1)\n",
    "print(\"backP = \", backP)"
   ]
  },
  {
   "cell_type": "code",
   "execution_count": 5,
   "metadata": {},
   "outputs": [
    {
     "name": "stdout",
     "output_type": "stream",
     "text": [
      "roi =  (136, 157, 63, 61)\n",
      "T =  942.0\n"
     ]
    }
   ],
   "source": [
    "#1\n",
    "src = cv2.imread(\"./data/fruits.jpg\")\n",
    "hsv = cv2.cvtColor(src, cv2.COLOR_BGR2HSV)\n",
    "h, s ,v = cv2.split(hsv) #hsv로 나눠준다.\n",
    "\n",
    "#2\n",
    "roi = cv2.selectROI(src)\n",
    "print(\"roi = \", roi)\n",
    "roiH = h[roi[1]:roi[1]+roi[3], roi[0]:roi[0]+roi[2]]\n",
    "hist= cv2.calcHist([roiH],[0],None,[64],[0,256]) #히스토그램을 계산한다.\n",
    "backP= cv2.calcBackProject([h.astype(np.float32)], [0], hist, [0,256],scale=1.0)\n",
    "#roi로 선택한 h값을 백프로젝션으로 넣어준다. -> 그리고 이 전체 영역에서 찾아라\n",
    "#3\n",
    "hist = cv2.sort(hist, cv2.SORT_EVERY_COLUMN+cv2.SORT_DESCENDING)\n",
    "#히스토그램 값(빈도수)을 내림차순해주고 첫번째 위치 값을 쓰레숄드 기준값으로 해준다.\n",
    "#빡빡하게 하면 K 값을 작게, 조금 널널하게 할때는 K 값을 크게\n",
    "k = 1\n",
    "T = hist[k][0] - 1\n",
    "print(\"T = \", T)\n",
    "ret, dst = cv2.threshold(backP, T, 255, cv2.THRESH_BINARY)\n",
    "#쓰레숄드 값으로 그 값 보다 작으면 검정색으로 하고 크면 흰색으로 해준다.\n",
    "\n",
    "cv2.imshow(\"dst\", dst)\n",
    "cv2.waitKey()\n",
    "cv2.destroyAllWindows()"
   ]
  },
  {
   "cell_type": "code",
   "execution_count": null,
   "metadata": {},
   "outputs": [],
   "source": []
  }
 ],
 "metadata": {
  "kernelspec": {
   "display_name": "Python 3",
   "language": "python",
   "name": "python3"
  },
  "language_info": {
   "codemirror_mode": {
    "name": "ipython",
    "version": 3
   },
   "file_extension": ".py",
   "mimetype": "text/x-python",
   "name": "python",
   "nbconvert_exporter": "python",
   "pygments_lexer": "ipython3",
   "version": "3.7.6"
  }
 },
 "nbformat": 4,
 "nbformat_minor": 4
}
