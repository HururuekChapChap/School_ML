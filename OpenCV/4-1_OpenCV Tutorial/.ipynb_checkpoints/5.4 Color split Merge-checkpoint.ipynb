{
 "cells": [
  {
   "cell_type": "code",
   "execution_count": 3,
   "metadata": {},
   "outputs": [],
   "source": [
    "import cv2\n",
    "import numpy as np"
   ]
  },
  {
   "cell_type": "code",
   "execution_count": 7,
   "metadata": {},
   "outputs": [
    {
     "name": "stdout",
     "output_type": "stream",
     "text": [
      "<class 'list'>\n",
      "<class 'numpy.ndarray'>\n"
     ]
    },
    {
     "data": {
      "text/plain": [
       "'\\n이것이 의미하는 것은 이것을 RGB로 나눴을 때, 채널이 하나인 GRAY영상으로 나오는 것이다.\\n값이 높아지면 밝아진다. 그리고 어둡다면 성분이 상대적으로 적다는 것을 알 수 있다.\\n'"
      ]
     },
     "execution_count": 7,
     "metadata": {},
     "output_type": "execute_result"
    }
   ],
   "source": [
    "src = cv2.imread(\"./data/Lenna.png\")\n",
    "dst = cv2.split(src) # 소스를 split 하면 dst 에 BGR이 저장이 된다.\n",
    "\n",
    "print(type(dst))\n",
    "print(type(dst[0])) #type(dst[1]), #type(dst[2])\n",
    "\n",
    "\n",
    "cv2.imshow(\"Blue\", dst[0]) \n",
    "cv2.imshow(\"Green\", dst[1])\n",
    "cv2.imshow(\"RED\", dst[2])\n",
    "cv2.waitKey()\n",
    "cv2.destroyAllWindows()\n",
    "\n",
    "\"\"\"\n",
    "이것이 의미하는 것은 이것을 RGB로 나눴을 때, 채널이 하나인 GRAY영상으로 나오는 것이다.\n",
    "값이 높아지면 밝아진다. 그리고 어둡다면 성분이 상대적으로 적다는 것을 알 수 있다.\n",
    "\"\"\""
   ]
  },
  {
   "cell_type": "code",
   "execution_count": 9,
   "metadata": {},
   "outputs": [
    {
     "name": "stdout",
     "output_type": "stream",
     "text": [
      "<class 'numpy.ndarray'>\n",
      "(512, 512, 3)\n"
     ]
    }
   ],
   "source": [
    "src = cv2.imread(\"./data/Lenna.png\")\n",
    "dst = cv2.split(src) # 소스를 split 하면 dst 에 BGR이 저장이 된다.\n",
    "\n",
    "merge = cv2.merge(dst)\n",
    "\n",
    "print(type(merge))\n",
    "print(merge.shape)\n",
    "cv2.imshow(\"dst\", merge)\n",
    "cv2.waitKey()\n",
    "cv2.destroyAllWindows()"
   ]
  },
  {
   "cell_type": "code",
   "execution_count": 2,
   "metadata": {},
   "outputs": [],
   "source": [
    "src = cv2.imread(\"./data/Lenna.png\")\n",
    "\n",
    "gray = cv2.cvtColor(src, cv2.COLOR_BGR2GRAY) #BGR 영상을 회색으로 변경시킨다.\n",
    "yCrCv = cv2.cvtColor(src, cv2.COLOR_BGR2YCrCb)\n",
    "hsv = cv2.cvtColor(src, cv2.COLOR_BGR2HSV)\n",
    "\n",
    "cv2.imshow(\"gray\", gray)\n",
    "cv2.imshow(\"yCrCv\", yCrCv)\n",
    "cv2.imshow(\"hsv\", hsv)\n",
    "\n",
    "cv2.waitKey()\n",
    "cv2.destroyAllWindows()"
   ]
  },
  {
   "cell_type": "code",
   "execution_count": null,
   "metadata": {},
   "outputs": [],
   "source": []
  }
 ],
 "metadata": {
  "kernelspec": {
   "display_name": "Python 3",
   "language": "python",
   "name": "python3"
  },
  "language_info": {
   "codemirror_mode": {
    "name": "ipython",
    "version": 3
   },
   "file_extension": ".py",
   "mimetype": "text/x-python",
   "name": "python",
   "nbconvert_exporter": "python",
   "pygments_lexer": "ipython3",
   "version": "3.7.6"
  }
 },
 "nbformat": 4,
 "nbformat_minor": 4
}
