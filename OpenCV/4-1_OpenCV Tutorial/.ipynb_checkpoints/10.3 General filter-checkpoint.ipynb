{
 "cells": [
  {
   "cell_type": "code",
   "execution_count": 1,
   "metadata": {},
   "outputs": [],
   "source": [
    "import cv2\n",
    "import numpy as np"
   ]
  },
  {
   "cell_type": "code",
   "execution_count": 10,
   "metadata": {},
   "outputs": [
    {
     "name": "stdout",
     "output_type": "stream",
     "text": [
      "kx= [[-1.]\n",
      " [ 0.]\n",
      " [ 1.]]\n",
      "ky= [[1.]\n",
      " [2.]\n",
      " [1.]]\n",
      "sobelx= [[-1.  0.  1.]\n",
      " [-2.  0.  2.]\n",
      " [-1.  0.  1.]]\n",
      "kx= [[1.]\n",
      " [2.]\n",
      " [1.]]\n",
      "ky= [[-1.]\n",
      " [ 0.]\n",
      " [ 1.]]\n",
      "sobely= [[-1. -2. -1.]\n",
      " [ 0.  0.  0.]\n",
      " [ 1.  2.  1.]]\n"
     ]
    }
   ],
   "source": [
    "src = cv2.imread(\"./data/rect.jpg\", 0)\n",
    "\n",
    "#1\n",
    "kx, ky = cv2.getDerivKernels(1,0,ksize=3) #DerivKernel 1차 미분 커널을 구해라\n",
    "sobelx = ky.dot(kx.T) #소벨 마스크라한다.\n",
    "print(\"kx=\", kx)\n",
    "print(\"ky=\", ky)\n",
    "print(\"sobelx=\", sobelx)\n",
    "gx = cv2.filter2D(src, cv2.CV_32F, sobelx) #필터할 부분을 지정해주고 싶을 때 사용한다.\n",
    "\n",
    "#2\n",
    "kx, ky = cv2.getDerivKernels(0,1,ksize=3)\n",
    "sobely = ky.dot(kx.T)\n",
    "print(\"kx=\", kx)\n",
    "print(\"ky=\", ky)\n",
    "print(\"sobely=\", sobely)\n",
    "gy = cv2.filter2D(src, cv2.CV_32F, sobely) \n",
    "\n",
    "#3 \n",
    "# 일방적인 필터링을 적용하새 사용한다. 사실상 sobely 이부분을 바꾸만 모든 필터링을 사용할 수 잇다.\n",
    "# 하지만 소벨을 사용하고자 할때는 그냥 소벨을 사용하는게 낫다.\n",
    "mag = cv2.magnitude(gx,gy)\n",
    "ret, edge = cv2.threshold(mag, 100, 255, cv2.THRESH_BINARY)\n",
    "cv2.imshow(\"src\", src)\n",
    "cv2.imshow(\"edge\", edge)\n",
    "cv2.waitKey()\n",
    "cv2.destroyAllWindows()"
   ]
  },
  {
   "cell_type": "code",
   "execution_count": 16,
   "metadata": {},
   "outputs": [
    {
     "name": "stdout",
     "output_type": "stream",
     "text": [
      "sigma= 7.999999999999999\n",
      "[[3.9094530e-08 5.4824696e-08 7.5681790e-08 ... 7.5681790e-08\n",
      "  5.4824696e-08 3.9094530e-08]\n",
      " [5.4824696e-08 7.6723751e-08 1.0567979e-07 ... 1.0567979e-07\n",
      "  7.6723751e-08 5.4824696e-08]\n",
      " [7.5681790e-08 1.0567979e-07 1.4522716e-07 ... 1.4522716e-07\n",
      "  1.0567979e-07 7.5681790e-08]\n",
      " ...\n",
      " [7.5681790e-08 1.0567979e-07 1.4522716e-07 ... 1.4522716e-07\n",
      "  1.0567979e-07 7.5681790e-08]\n",
      " [5.4824696e-08 7.6723751e-08 1.0567979e-07 ... 1.0567979e-07\n",
      "  7.6723751e-08 5.4824696e-08]\n",
      " [3.9094530e-08 5.4824696e-08 7.5681790e-08 ... 7.5681790e-08\n",
      "  5.4824696e-08 3.9094530e-08]]\n"
     ]
    }
   ],
   "source": [
    "src = cv2.imread(\"./data/Lenna.png\", 0)\n",
    "\n",
    "#1 Log 필터를 만드는 과정\n",
    "def logFilter(ksize=7):\n",
    "    k2 = ksize//2 #커널의 반사이즈를 구하는 이유 3*3 이라고 했을 때 끝 부분이 남기 때문에 \n",
    "    sigma = 0.3 * (k2 - 1) + 0.8 #커널 사이즈의 절반을 넣으면 가장 적절한 수를 구해준다.\n",
    "    print(\"sigma=\", sigma)\n",
    "    LoG = np.zeros((ksize, ksize), dtype=np.float32)\n",
    "    for y in range(-k2, k2+1):\n",
    "        for x in range(-k2, k2+1):\n",
    "            g = -(x*x+y*y) / (2.0*sigma**2.0)\n",
    "            LoG[y+k2, x+k2] = -(1.0+g)*np.exp(g)/(np.pi*sigma**4.0)\n",
    "    return LoG\n",
    "\n",
    "#2\n",
    "kernel = logFilter(51) #7 , 15, 31, 51 - 커널값 값이 올라가면 블러셔가 커져서 엣지가 굵어진다.\n",
    "print(kernel)\n",
    "LoG = cv2.filter2D(src, cv2.CV_32F, kernel) #이 커널에 내가 넣고 싶은 값을 넣어주면 필터링이 된다.\n",
    "cv2.imshow(\"src\", src)\n",
    "cv2.imshow(\"LoG\", LoG)\n",
    "cv2.waitKey()\n",
    "cv2.destroyAllWindows()"
   ]
  },
  {
   "cell_type": "code",
   "execution_count": null,
   "metadata": {},
   "outputs": [],
   "source": []
  }
 ],
 "metadata": {
  "kernelspec": {
   "display_name": "Python 3",
   "language": "python",
   "name": "python3"
  },
  "language_info": {
   "codemirror_mode": {
    "name": "ipython",
    "version": 3
   },
   "file_extension": ".py",
   "mimetype": "text/x-python",
   "name": "python",
   "nbconvert_exporter": "python",
   "pygments_lexer": "ipython3",
   "version": "3.7.6"
  }
 },
 "nbformat": 4,
 "nbformat_minor": 4
}
