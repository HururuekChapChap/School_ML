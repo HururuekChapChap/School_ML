{
 "cells": [
  {
   "cell_type": "code",
   "execution_count": 8,
   "metadata": {},
   "outputs": [],
   "source": [
    "import numpy as np\n",
    "import cv2"
   ]
  },
  {
   "cell_type": "code",
   "execution_count": 9,
   "metadata": {},
   "outputs": [],
   "source": [
    "def onChnage(pos): #pos라는 변수를 통해서 넘어온다.\n",
    "    global img \n",
    "    \"\"\"\n",
    "    지역변수는 함수 안에 있는 변수 -> 함수 안에서만 사용됨\n",
    "    global은 전역변수로 사용되어 밑에 있는 img와 같은 것이다. \n",
    "    \"\"\"\n",
    "    r = cv2.getTrackbarPos(\"R\", \"img\")\n",
    "    g = cv2.getTrackbarPos(\"G\", \"img\")\n",
    "    b = cv2.getTrackbarPos(\"B\", \"img\")\n",
    "    img[:] = (b,g,r) #img값을 바꿔준다.\n",
    "    cv2.imshow(\"img\", img)"
   ]
  },
  {
   "cell_type": "code",
   "execution_count": 10,
   "metadata": {},
   "outputs": [],
   "source": [
    "img = np.zeros((512,512,3), np.uint8) #블랙 512, 512 크기의 블랙화면\n",
    "cv2.imshow(\"img\", img)"
   ]
  },
  {
   "cell_type": "code",
   "execution_count": 11,
   "metadata": {},
   "outputs": [],
   "source": [
    "#트랙바 생성\n",
    "cv2.createTrackbar(\"R\", \"img\", 0, 255, onChnage)\n",
    "#트랙바의 이름 \" R\"  / window의 이름\"img\" / 0은 시작 위치 / 0부터 255까지 / onchage는 트랙바 핸들러\n",
    "cv2.createTrackbar(\"G\", \"img\", 0, 255, onChnage)\n",
    "cv2.createTrackbar(\"B\", \"img\", 0, 255, onChnage)"
   ]
  },
  {
   "cell_type": "code",
   "execution_count": null,
   "metadata": {},
   "outputs": [],
   "source": [
    "#트랙바 위치 초기화\n",
    "cv2.setTrackbarPos(\"B\",\"img\",255) #트랙바의 위치를 초기화 -> 파랑색 윈도우가 나온다.\n",
    "\n",
    "cv2.waitKey()\n",
    "cv2.destroyAllWindows()"
   ]
  },
  {
   "cell_type": "code",
   "execution_count": null,
   "metadata": {},
   "outputs": [],
   "source": []
  }
 ],
 "metadata": {
  "kernelspec": {
   "display_name": "Python 3",
   "language": "python",
   "name": "python3"
  },
  "language_info": {
   "codemirror_mode": {
    "name": "ipython",
    "version": 3
   },
   "file_extension": ".py",
   "mimetype": "text/x-python",
   "name": "python",
   "nbconvert_exporter": "python",
   "pygments_lexer": "ipython3",
   "version": "3.7.6"
  }
 },
 "nbformat": 4,
 "nbformat_minor": 4
}
