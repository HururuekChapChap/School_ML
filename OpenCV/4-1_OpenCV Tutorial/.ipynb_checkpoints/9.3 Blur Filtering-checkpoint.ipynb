{
 "cells": [
  {
   "cell_type": "code",
   "execution_count": 1,
   "metadata": {},
   "outputs": [],
   "source": [
    "import cv2\n",
    "import numpy as np"
   ]
  },
  {
   "cell_type": "code",
   "execution_count": 8,
   "metadata": {},
   "outputs": [],
   "source": [
    "src = cv2.imread(\"./data/Lenna.png\", 0)\n",
    "\n",
    "# 커널사이즈(마스크의 넓이)를 11 * 11 과 21*21로 한것이다.\n",
    "dst1 = cv2.boxFilter(src, ddepth=-1, ksize=(11,11))\n",
    "dst2 = cv2.boxFilter(src, ddepth=-1, ksize=(21,21))\n",
    "dst3 = cv2.boxFilter(src, ddepth=-1, ksize=(3,3))\n",
    "\n",
    "cv2.imshow(\"src\", src)\n",
    "cv2.imshow(\"dst1\", dst1)\n",
    "cv2.imshow(\"dst2\", dst2)\n",
    "cv2.imshow(\"dst3\", dst3)\n",
    "\n",
    "cv2.waitKey()\n",
    "cv2.destroyAllWindows()"
   ]
  },
  {
   "cell_type": "code",
   "execution_count": 9,
   "metadata": {},
   "outputs": [],
   "source": [
    "src = cv2.imread(\"./data/Lenna.png\", 0)\n",
    "\n",
    "#경계선의 차이가 발생한다.\n",
    "medianBlur = cv2.medianBlur(s rc, ksize = 7)\n",
    "\n",
    "#등방향이기 때문에 전체적으로 뿌옇게 됐다.\n",
    "blur = cv2.blur(src, ksize=(7,7))\n",
    "\n",
    "# 스페이스 시그마X를 0으로 했다는 의미는 가오시안 필터의 값이 거의 없다\n",
    "# 뿌연현상을 10으로 했을 때 많이 했다는 것이다.\n",
    "\n",
    "GaussianBlur1 = cv2.GaussianBlur(src, ksize=(7,7), sigmaX=0.0)\n",
    "GaussianBlur2 = cv2.GaussianBlur(src, ksize=(7,7), sigmaX=10.0)\n",
    "\n",
    "cv2.imshow(\"src\", src)\n",
    "cv2.imshow(\"medianBlur\", medianBlur)\n",
    "cv2.imshow(\"blur\", blur)\n",
    "cv2.imshow(\"GaussianBlur1\", GaussianBlur1)\n",
    "cv2.imshow(\"GaussianBlur2\", GaussianBlur2)\n",
    "\n",
    "cv2.waitKey()\n",
    "cv2.destroyAllWindows()"
   ]
  },
  {
   "cell_type": "code",
   "execution_count": null,
   "metadata": {},
   "outputs": [],
   "source": [
    "src = cv2.imread(\"./data/Lenna.png\", 0)\n",
    "\n",
    "boxFilter1 = cv2.boxFilter(src, ddepth=-1, ksize=(11,11))\n",
    "boxFilter2 = cv2.boxFilter(src, ddepth=-1, ksize=(21,21))\n",
    "\n",
    "#엣지를 보존하면서 노이즈를 제거한다. 단점은 계산량이 늘어난다.\n",
    "bilateralFilter1= cv2.bilateralFilter(src, d=11, sigmaColor=10, sigmaSpace=10)\n",
    "bilateralFilter2 = cv2.bilateralFilter(src, d=-1, sigmaColor=10, sigmaSpace=10)\n",
    "\n",
    "cv2.imshow(\"src\", src)\n",
    "cv2.imshow(\"boxFilter1\", boxFilter1)\n",
    "cv2.imshow(\"boxFilter2\", boxFilter2)\n",
    "cv2.imshow(\"bilateralFilter1\", bilateralFilter1)\n",
    "cv2.imshow(\"bilateralFilter2\", bilateralFilter2)\n",
    "\n",
    "cv2.waitKey()\n",
    "cv2.destroyAllWindows()"
   ]
  },
  {
   "cell_type": "code",
   "execution_count": null,
   "metadata": {},
   "outputs": [],
   "source": [
    "src = cv2.imread(\"./data/Lenna.png\", 0)\n",
    "srcn = cv2.imread(\"./data/lena_gray_noise.jpg\", 0)\n",
    "\n",
    "blur = cv2.blur(srcn, ksize=(7,7))\n",
    "GaussianBlur = cv2.GaussianBlur(srcn, ksize=(7,7), sigmaX=3.0)\n",
    "bilateralFilter = cv2.bilateralFilter(src, d=-1, sigmaColor=5, sigmaSpace=5)\n",
    "medianBlur = cv2.medianBlur(s rc, ksize = 3)\n",
    "\n",
    "cv2.imshow(\"src\", src)\n",
    "cv2.imshow(\"blur\", blur)\n",
    "cv2.imshow(\"GaussianBlur1\", GaussianBlur1)\n",
    "cv2.imshow(\"bilateralFilter\", bilateralFilter)\n",
    "cv2.imshow(\"medianBlur\", medianBlur)\n",
    "\n",
    "cv2.waitKey()\n",
    "cv2.destroyAllWindows()"
   ]
  }
 ],
 "metadata": {
  "kernelspec": {
   "display_name": "Python 3",
   "language": "python",
   "name": "python3"
  },
  "language_info": {
   "codemirror_mode": {
    "name": "ipython",
    "version": 3
   },
   "file_extension": ".py",
   "mimetype": "text/x-python",
   "name": "python",
   "nbconvert_exporter": "python",
   "pygments_lexer": "ipython3",
   "version": "3.7.6"
  }
 },
 "nbformat": 4,
 "nbformat_minor": 4
}
