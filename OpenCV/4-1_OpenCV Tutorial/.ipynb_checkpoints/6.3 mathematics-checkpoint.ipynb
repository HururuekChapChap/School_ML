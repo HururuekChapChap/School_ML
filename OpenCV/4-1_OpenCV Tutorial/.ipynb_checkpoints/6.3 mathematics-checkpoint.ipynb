{
 "cells": [
  {
   "cell_type": "code",
   "execution_count": 2,
   "metadata": {},
   "outputs": [],
   "source": [
    "import cv2\n",
    "import numpy as np"
   ]
  },
  {
   "cell_type": "code",
   "execution_count": 3,
   "metadata": {},
   "outputs": [
    {
     "name": "stdout",
     "output_type": "stream",
     "text": [
      "src:  39.0 245.0 (510, 68) (117, 272)\n",
      "dst : 100.0 200.0 (510, 68) (117, 272)\n"
     ]
    }
   ],
   "source": [
    "src = cv2.imread(\"./data/Lenna.png\", 0)\n",
    "\n",
    "minVal, maxVal, minLoc, maxLoc = cv2.minMaxLoc(src)\n",
    "\n",
    "# minmax 값을 알고 싶을 때가 있어요\n",
    "# 밝기값을 알고 싶을 때가 있어요\n",
    "# 밝기 값의 최대 최소 값을 반환해줍니다.\n",
    "# 맨 처음이 최소 최대 최소좌표 최대좌표 값을 리턴해줍니다.\n",
    "\n",
    "print(\"src: \", minVal, maxVal, minLoc, maxLoc)\n",
    "\n",
    "dst = cv2.normalize(src, None, 100,200, cv2.NORM_MINMAX)\n",
    "\n",
    "# 소스를 정규해달라,None은 새영상에다가 보여잘라 \n",
    "# 100과 200을 100과 200사이로 노말라이즈 해라\n",
    "\n",
    "\n",
    "minVal, maxVal, minLoc, maxLoc = cv2.minMaxLoc(dst)\n",
    "print(\"dst :\", minVal, maxVal, minLoc, maxLoc)\n",
    "\n",
    "cv2.imshow(\"src\", src)\n",
    "cv2.imshow(\"dst\", dst)\n",
    "cv2.waitKey()\n",
    "cv2.destroyAllWindows()"
   ]
  },
  {
   "cell_type": "code",
   "execution_count": null,
   "metadata": {},
   "outputs": [],
   "source": [
    "import time\n"
   ]
  },
  {
   "cell_type": "code",
   "execution_count": null,
   "metadata": {},
   "outputs": [],
   "source": []
  }
 ],
 "metadata": {
  "kernelspec": {
   "display_name": "Python 3",
   "language": "python",
   "name": "python3"
  },
  "language_info": {
   "codemirror_mode": {
    "name": "ipython",
    "version": 3
   },
   "file_extension": ".py",
   "mimetype": "text/x-python",
   "name": "python",
   "nbconvert_exporter": "python",
   "pygments_lexer": "ipython3",
   "version": "3.7.6"
  }
 },
 "nbformat": 4,
 "nbformat_minor": 4
}
