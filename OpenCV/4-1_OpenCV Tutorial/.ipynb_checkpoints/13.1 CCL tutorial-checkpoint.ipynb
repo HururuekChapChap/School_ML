{
 "cells": [
  {
   "cell_type": "code",
   "execution_count": 27,
   "metadata": {},
   "outputs": [],
   "source": [
    "import cv2\n",
    "import numpy as np"
   ]
  },
  {
   "cell_type": "code",
   "execution_count": 17,
   "metadata": {},
   "outputs": [],
   "source": [
    "src = cv2.imread(\"./data/circles.jpg\")\n",
    "gray = cv2.cvtColor(src, cv2.COLOR_BGR2GRAY)\n",
    "ret , res = cv2.threshold(gray, 128, 255, cv2.THRESH_BINARY_INV)\n",
    "cv2.imshow(\"src\",src)\n",
    "cv2.imshow(\"res\", res)\n",
    "cv2.waitKey()\n",
    "cv2.destroyAllWindows()"
   ]
  },
  {
   "cell_type": "code",
   "execution_count": 18,
   "metadata": {},
   "outputs": [
    {
     "name": "stdout",
     "output_type": "stream",
     "text": [
      "ret=  4\n"
     ]
    }
   ],
   "source": [
    "ret, labels = cv2.connectedComponents(res)\n",
    "print(\"ret= \", ret)\n",
    "\n",
    "#ret가 4라고 나온것은 총 컴포넌트 갯수랑 배경의 합이 나온다.\n",
    "# 컴포턴트가 3개고 배경은 1나"
   ]
  },
  {
   "cell_type": "code",
   "execution_count": 21,
   "metadata": {},
   "outputs": [],
   "source": [
    "dst = np.zeros(src.shape , dtype = src.dtype)\n",
    "\n",
    "for i in range(1, ret):\n",
    "    r = np.random.randint(256)\n",
    "    g= np.random.randint(256)\n",
    "    b= np.random.randint(256)\n",
    "    dst[labels == i] = [b, g, r]\n",
    "    \n",
    "cv2.imshow(\"src\", src)\n",
    "cv2.imshow(\"res\", res)\n",
    "cv2.imshow(\"dst\", dst)\n",
    "cv2.waitKey()\n",
    "cv2.destroyAllWindows()"
   ]
  },
  {
   "cell_type": "code",
   "execution_count": 28,
   "metadata": {},
   "outputs": [
    {
     "name": "stdout",
     "output_type": "stream",
     "text": [
      "res =  4\n",
      "stats = [[     0      0    512    512 222719]\n",
      " [   308     86    125    125  12281]\n",
      " [   153    145    152    152  18152]\n",
      " [   292    338    107    107   8992]]\n",
      "centroids = [[247.77339607 258.80937863]\n",
      " [370.         148.        ]\n",
      " [228.5        220.50534376]\n",
      " [345.00077847 390.99477313]]\n"
     ]
    }
   ],
   "source": [
    "ret, labels, stats, centroids = cv2.connectedComponentsWithStats(res)\n",
    "\n",
    "print(\"res = \", ret)\n",
    "print(\"stats =\", stats)\n",
    "print(\"centroids =\", centroids)\n",
    "\n",
    "# [바 운 딩 박 스 AREA]\n",
    "# 이렇게 된다."
   ]
  },
  {
   "cell_type": "code",
   "execution_count": 29,
   "metadata": {},
   "outputs": [],
   "source": [
    "dst = np.zeros(src.shape , dtype = src.dtype)\n",
    "\n",
    "for i in range(1, ret):\n",
    "    r = np.random.randint(256)\n",
    "    g= np.random.randint(256)\n",
    "    b= np.random.randint(256)\n",
    "    dst[labels == i] = [b, g, r]"
   ]
  },
  {
   "cell_type": "code",
   "execution_count": 39,
   "metadata": {},
   "outputs": [],
   "source": [
    "for i in range(1, ret):\n",
    "    x, y, width, height, area = stats[i]\n",
    "    #바운딩 박스를 만들어준다.\n",
    "    cv2.rectangle(dst, (x,y), (x+width, y + height), (0,0,255), 2)\n",
    "    #첫번째 객체의 중심\n",
    "    cx, cy = centroids[i]\n",
    "    #중점을 원으로 찍어주고\n",
    "    cv2.circle(dst,(int(cx), int(cy)), 5, (255,0,0), -1)\n",
    "\n",
    "cv2.imshow(\"Src\", src)\n",
    "cv2.imshow(\"Dst\", dst)\n",
    "cv2.waitKey()\n",
    "cv2.destroyAllWindows()"
   ]
  },
  {
   "cell_type": "code",
   "execution_count": null,
   "metadata": {},
   "outputs": [],
   "source": []
  }
 ],
 "metadata": {
  "kernelspec": {
   "display_name": "Python 3",
   "language": "python",
   "name": "python3"
  },
  "language_info": {
   "codemirror_mode": {
    "name": "ipython",
    "version": 3
   },
   "file_extension": ".py",
   "mimetype": "text/x-python",
   "name": "python",
   "nbconvert_exporter": "python",
   "pygments_lexer": "ipython3",
   "version": "3.7.6"
  }
 },
 "nbformat": 4,
 "nbformat_minor": 4
}
