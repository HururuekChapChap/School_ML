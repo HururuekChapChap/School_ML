{
 "cells": [
  {
   "cell_type": "code",
   "execution_count": 10,
   "metadata": {},
   "outputs": [],
   "source": [
    "import cv2\n",
    "import numpy as np"
   ]
  },
  {
   "cell_type": "code",
   "execution_count": 11,
   "metadata": {},
   "outputs": [],
   "source": [
    "img1 = cv2.imread(\"./data/Lenna.png\")\n",
    "img2 = cv2.imread(\"./data/Baboon.png\")\n",
    "\n",
    "def onChange(pos):\n",
    "    n = cv2.getTrackbarPos(\"alpha\", \"image\")\n",
    "    alpha = n / 100\n",
    "    img3 = cv2.addWeighted(img1,1- alpha, img2,alpha, 0)\n",
    "    cv2.imshow(\"image\", img3)"
   ]
  },
  {
   "cell_type": "code",
   "execution_count": 12,
   "metadata": {},
   "outputs": [],
   "source": [
    "cv2.imshow(\"image\", img1) #처음에 이미지라는 윈도우를 만들고\n",
    "cv2.createTrackbar(\"alpha\", \"image\", 0, 100, onChange)\n",
    "#트랙바를 만들고 첫 값은 0 그리고 100 까지 \n",
    "\n",
    "cv2.waitKey()\n",
    "cv2.destroyAllWindows()"
   ]
  },
  {
   "cell_type": "code",
   "execution_count": null,
   "metadata": {},
   "outputs": [],
   "source": []
  }
 ],
 "metadata": {
  "kernelspec": {
   "display_name": "Python 3",
   "language": "python",
   "name": "python3"
  },
  "language_info": {
   "codemirror_mode": {
    "name": "ipython",
    "version": 3
   },
   "file_extension": ".py",
   "mimetype": "text/x-python",
   "name": "python",
   "nbconvert_exporter": "python",
   "pygments_lexer": "ipython3",
   "version": "3.7.6"
  }
 },
 "nbformat": 4,
 "nbformat_minor": 4
}
