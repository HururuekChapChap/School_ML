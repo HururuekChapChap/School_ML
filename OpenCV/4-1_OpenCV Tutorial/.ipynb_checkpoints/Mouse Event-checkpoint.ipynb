{
 "cells": [
  {
   "cell_type": "code",
   "execution_count": 1,
   "metadata": {},
   "outputs": [],
   "source": [
    "#콜백이 뭐였죠???\n",
    "\"\"\"\n",
    " 우리가 만든 함수를 시스템에서 사용할 필요가 있다고 가정한다면, 시스템단에서 우리가 만든 함수를 호출해야한다.\n",
    " 그래서 이걸 콜백이라고 부른다. 우리가 시스템에 있는 함수를 부르는게 아니라, 시스템에서 우리가 만든 함수를 \n",
    " 사용하기 때문에, 거꾸로 이기에 콜백이라고 한다.\n",
    " \n",
    "\"\"\"\n",
    "import numpy as np\n",
    "import cv2"
   ]
  },
  {
   "cell_type": "code",
   "execution_count": 10,
   "metadata": {},
   "outputs": [],
   "source": [
    "def onMouse(event, x, y, flags, param): # event ->마우스 이벤트 \n",
    "    ##global img\n",
    "    if event == cv2.EVENT_LBUTTONDOWN: \n",
    "        if flags & cv2.EVENT_FLAG_SHIFTKEY: # flag값은 내가 마우스를 움직이거나 어떤 키가 같이 눌려 졌을 때, 그리고 shift 키를 눌렀을 때\n",
    "            cv2.rectangle(param[0], (x-5,y-5),(x+5, y+5),(255,0,0)) #사각형을 그리시오.\n",
    "        else:\n",
    "            cv2.circle(param[0],(x,y),5,(255,0,0),3) #x,y는 좌표값이고 반지름은 5 발깐색이며 3차원 공간\n",
    "            \"\"\"\n",
    "             param은 setMouseCallback에 우리가 만든 이미지 파일을 함수로 보내준것이다. \n",
    "             따라서 이미지를 여러개 사용할 수 있다.\n",
    "            \"\"\"\n",
    "    elif event == cv2.EVENT_RBUTTONDOWN:\n",
    "        cv2.circle(param[0],(x,y),5,(0,0,255),3)\n",
    "    elif event == cv2.EVENT_LBUTTONDBLCLK:\n",
    "        param[0] = np.zeros(param[0].shape, np.uint8)+255\n",
    "        \n",
    "    cv2.imshow(\"img\",param[0])\n",
    "    cv2.imshow(\"img2\", param[1])"
   ]
  },
  {
   "cell_type": "code",
   "execution_count": 12,
   "metadata": {},
   "outputs": [],
   "source": [
    "img = np.zeros((512,512,3), np.uint8) + 255 #흰색이미지\n",
    "cv2.imshow(\"img\", img) \n",
    "cv2.setMouseCallback(\"img\", onMouse, [img, img]) #onmouse 함수를 넣은 것을 콜백이라고 한다.\n",
    "cv2.waitKey()\n",
    "cv2.destroyAllWindows()"
   ]
  },
  {
   "cell_type": "code",
   "execution_count": null,
   "metadata": {},
   "outputs": [],
   "source": []
  }
 ],
 "metadata": {
  "kernelspec": {
   "display_name": "Python 3",
   "language": "python",
   "name": "python3"
  },
  "language_info": {
   "codemirror_mode": {
    "name": "ipython",
    "version": 3
   },
   "file_extension": ".py",
   "mimetype": "text/x-python",
   "name": "python",
   "nbconvert_exporter": "python",
   "pygments_lexer": "ipython3",
   "version": "3.7.6"
  }
 },
 "nbformat": 4,
 "nbformat_minor": 4
}
