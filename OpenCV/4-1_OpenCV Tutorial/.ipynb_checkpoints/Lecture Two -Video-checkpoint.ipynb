{
 "cells": [
  {
   "cell_type": "code",
   "execution_count": 2,
   "metadata": {},
   "outputs": [
    {
     "name": "stdout",
     "output_type": "stream",
     "text": [
      "frame_size= (768, 576)\n"
     ]
    }
   ],
   "source": [
    "import cv2\n",
    "\n",
    "#VideoCapture는 동영상을 처리해주는 클래스\n",
    "cap = cv2.VideoCapture(\"./data/vtest.avi\")\n",
    "#cap = cv2.VideoCapture(0) 로 한다면 디바이스의 카메라로 부터 영상을 받아온다.\n",
    "\n",
    "#비디오의 너비와 높이를 가져온다.\n",
    "frame_size = (int(cap.get(cv2.CAP_PROP_FRAME_WIDTH)), \n",
    "              int(cap.get(cv2.CAP_PROP_FRAME_HEIGHT)))\n",
    "\n",
    "print(\"frame_size=\", frame_size)\n",
    "\n",
    "#비디오의 한 프레인씩 가져온다.\n",
    "while True:\n",
    "    retval, frame = cap.read()\n",
    "    \n",
    "    #retval은 잘 가져왔는지 확인해준다.\n",
    "    if not retval:\n",
    "        break\n",
    "        \n",
    "     #동여상에서 이미지를 가져온다.   \n",
    "    cv2.imshow(\"frame\",frame)\n",
    "    \n",
    "    #waitKey가 있는 이유는 27(ESC)를 가져오면 종료한다.\n",
    "    #waitKey가 25ms 까지 기다렸다가 -1을 반환한다. ()가 없다면 입력받을 때 까지 기다린다.\n",
    "    key = cv2.waitKey(25)\n",
    "    if key == 27:\n",
    "        break\n",
    "\n",
    "#종료하면 영상을 보여준다.\n",
    "if cap.isOpened():\n",
    "    cap.release()\n",
    "\n",
    "cv2.destroyAllWindows()"
   ]
  },
  {
   "cell_type": "code",
   "execution_count": 3,
   "metadata": {},
   "outputs": [
    {
     "name": "stdout",
     "output_type": "stream",
     "text": [
      "title =  [ASMR] 한성 GK868B TICO 68미니배열 타건영상\n",
      "vidoe.rating =  4.8805971\n",
      "video.duration =  00:04:22\n",
      "best.resolution  1280x720\n"
     ]
    }
   ],
   "source": [
    "#유튜브 동영상 가져오기\n",
    "\n",
    "\"\"\"\n",
    "    pip install youbue_dl 과 pip install pafy를 anaconda prompt 에서 다운 받아야지 사용가능 하다\n",
    "\n",
    "\"\"\"\n",
    "\n",
    "import pafy\n",
    "\n",
    "url = \"https://www.youtube.com/watch?v=zeWxScFsBGQ\"\n",
    "\n",
    "video = pafy.new(url)\n",
    "#비디오의 정보를 가져온다.\n",
    "print(\"title = \", video.title)\n",
    "print(\"vidoe.rating = \", video.rating)\n",
    "print(\"video.duration = \", video.duration)\n",
    "\n",
    "#동여상의 형식을 지정해준다.\n",
    "best = video.getbest(preftype = \"mp4\")\n",
    "print(\"best.resolution \", best.resolution)\n",
    "\n",
    "#동영상을 출력해준다.\n",
    "cap = cv2.VideoCapture(best.url)\n",
    "\n",
    "while True:\n",
    "    retval, frame = cap.read()\n",
    "    \n",
    "    if not retval:\n",
    "        break\n",
    "    \n",
    "    cv2.imshow(\"frame\", frame)\n",
    "    \n",
    "    #프레임을 가져와서 회색으로 바꿔서 Canny라는 함수에 넣어주고 edges를 추출해주고\n",
    "    #imshow로 보여준다, => 검정색 화면이 엣지가 나오는 것이다.\n",
    "    gray = cv2.cvtColor(frame, cv2.COLOR_RGB2GRAY)\n",
    "    edges = cv2.Canny(gray, 100 ,200)\n",
    "    cv2.imshow(\"edges\", edges)\n",
    "    \n",
    "    key = cv2.waitKey(25)\n",
    "    if key == 27:\n",
    "        break\n",
    "\n",
    "cv2.destroyAllWindows()"
   ]
  },
  {
   "cell_type": "code",
   "execution_count": null,
   "metadata": {},
   "outputs": [],
   "source": []
  }
 ],
 "metadata": {
  "kernelspec": {
   "display_name": "Python 3",
   "language": "python",
   "name": "python3"
  },
  "language_info": {
   "codemirror_mode": {
    "name": "ipython",
    "version": 3
   },
   "file_extension": ".py",
   "mimetype": "text/x-python",
   "name": "python",
   "nbconvert_exporter": "python",
   "pygments_lexer": "ipython3",
   "version": "3.7.6"
  }
 },
 "nbformat": 4,
 "nbformat_minor": 4
}
