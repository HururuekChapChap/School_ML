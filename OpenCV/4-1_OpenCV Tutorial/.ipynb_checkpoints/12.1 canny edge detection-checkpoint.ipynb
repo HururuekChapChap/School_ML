{
 "cells": [
  {
   "cell_type": "code",
   "execution_count": 1,
   "metadata": {},
   "outputs": [],
   "source": [
    "import cv2\n",
    "import numpy as np\n",
    "import imutils "
   ]
  },
  {
   "cell_type": "code",
   "execution_count": 6,
   "metadata": {},
   "outputs": [],
   "source": [
    "src = cv2.imread(\"./data/Lenna.png\", 0)\n",
    "\n",
    "edges1 = cv2.Canny(src,50,100)  #쓰레홀드를 두개로 지정해준것\n",
    "edges2 = cv2.Canny(src,50,200)\n",
    "cv2.imshow(\"src\", src)\n",
    "cv2.imshow(\"edges1\", edges1)\n",
    "cv2.imshow(\"edges2\", edges2)\n",
    "cv2.waitKey()\n",
    "cv2.destroyAllWindows()\n",
    "\n",
    "# 캐니 안에는 가오시안이 없기 때문에 밑에 부분에서 가오시안 블러를 하고 캐니를 했다."
   ]
  },
  {
   "cell_type": "code",
   "execution_count": 7,
   "metadata": {},
   "outputs": [],
   "source": [
    "gray = cv2.imread(\"./data/coins.png\", 0)\n",
    "blurred = cv2.GaussianBlur(gray,(5,5), 0)\n",
    "\n",
    "wide = cv2.Canny(blurred, 10 , 200) # 높은 것과 낮은 것의 간격의 차\n",
    "mid = cv2.Canny(blurred, 30 , 150)\n",
    "tight = cv2.Canny(blurred, 240 , 250)\n",
    "\n",
    "cv2.imshow(\"Original\", gray)\n",
    "cv2.imshow(\"Blurred\", blurred)\n",
    "cv2.imshow(\"Wide Edge Map\", wide)\n",
    "cv2.imshow(\"Mide Edge Map\", mid)\n",
    "cv2.imshow(\"Tight Edge Map\", tight)\n",
    "cv2.waitKey()\n",
    "cv2.destroyAllWindows()"
   ]
  },
  {
   "cell_type": "code",
   "execution_count": 10,
   "metadata": {},
   "outputs": [],
   "source": [
    "gray = cv2.imread(\"./data/teacup.jpg\", 0)\n",
    "blurred = cv2.GaussianBlur(gray,(3,3), 0)\n",
    "\n",
    "wide = cv2.Canny(blurred, 10 , 200) # 높은 것과 낮은 것의 간격의 차\n",
    "tight = cv2.Canny(blurred, 225 , 250)\n",
    "auto = imutils.auto_canny(blurred) # 쓰레숄드를 자동으로 계산해주는 함수\n",
    "\n",
    "cv2.imshow(\"Original\", gray)\n",
    "cv2.imshow(\"Blurred\", blurred)\n",
    "cv2.imshow(\"Wide Edge Map\", wide)\n",
    "cv2.imshow(\"Tight Edge Map\", tight)\n",
    "cv2.imshow(\"auto Edge Map\", auto)\n",
    "cv2.waitKey()\n",
    "cv2.destroyAllWindows()"
   ]
  },
  {
   "cell_type": "code",
   "execution_count": null,
   "metadata": {},
   "outputs": [],
   "source": []
  }
 ],
 "metadata": {
  "kernelspec": {
   "display_name": "Python 3",
   "language": "python",
   "name": "python3"
  },
  "language_info": {
   "codemirror_mode": {
    "name": "ipython",
    "version": 3
   },
   "file_extension": ".py",
   "mimetype": "text/x-python",
   "name": "python",
   "nbconvert_exporter": "python",
   "pygments_lexer": "ipython3",
   "version": "3.7.6"
  }
 },
 "nbformat": 4,
 "nbformat_minor": 4
}
