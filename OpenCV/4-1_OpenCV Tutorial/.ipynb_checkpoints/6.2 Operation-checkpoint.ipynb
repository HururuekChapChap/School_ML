{
 "cells": [
  {
   "cell_type": "code",
   "execution_count": 2,
   "metadata": {},
   "outputs": [],
   "source": [
    "import cv2\n",
    "import numpy as np"
   ]
  },
  {
   "cell_type": "code",
   "execution_count": 5,
   "metadata": {},
   "outputs": [],
   "source": [
    "src1 = cv2.imread(\"./data/Lenna.png\", 0)\n",
    "src2 = np.zeros(shape=(512,512), dtype = np.uint8) + 100\n",
    "\n",
    "# src2에는 512,512, 크기의 0 값을 같는 영상을 가지고 100(회색)을 더하면 모든 영역에 100을 더하게 된다.\n",
    "# 따라서 색깔이 밝아지는 효과를 가지게 된다.\n",
    "\n",
    "dst1 = src1 + src2\n",
    "\n",
    "# 둘이 값을 더하니 밝기 값이 더 거진다.\n",
    "\n",
    "dst2 = cv2.add(src1,src2)\n",
    "\n",
    "# 예상으로는 결과가 같아야하는데 결고가 다르게 나온다.\n",
    "# dst2가 까맣게 나온이는 오버 플로우가 발생해서 이다.\n",
    "# 우리 uint8 은 0 ~ 255을 가진다. 그런데, 여기에 100을 더하게 된다면 255의 값을 넘게 되어\n",
    "# 깨지게  된것이다. 그런데, 둘다 깨져야하는데, 잘 나오는 이유는 보정이 되서 나온것이다.\n",
    "# 따라서 깨질 위험이 있기 때문에 add 함수를 이용해서 이미지가 깨지지 않도록 해줘야한다.\n",
    "\n",
    "\n",
    "cv2.imshow(\"dst1\", dst1)\n",
    "cv2.imshow(\"dst2\", dst2)\n",
    "cv2.waitKey()\n",
    "cv2.destroyAllWindows()"
   ]
  },
  {
   "cell_type": "code",
   "execution_count": 3,
   "metadata": {},
   "outputs": [],
   "source": [
    "src1 = cv2.imread(\"./data/Lenna.png\")\n",
    "src2 = cv2.imread(\"./data/Baboon.png\")\n",
    "\n",
    "dst = cv2.addWeighted(src1, 0.5, src2, 0.5, 0)\n",
    "\n",
    "# addWdighted는 weight를 줘서 더한다.\n",
    "# 두개를 섞습니다. src1은 0.5 비율 src2도 0.5 비율 \n",
    "# 그리고 두개의 합은 보통 1이 되도록 한다.\n",
    "\n",
    "# 트랙바로 실시간으로 영상을 조절 할 수가 있다.\n",
    "\n",
    "cv2.imshow(\"dst\", dst)\n",
    "cv2.waitKey()\n",
    "cv2.destroyAllWindows()"
   ]
  },
  {
   "cell_type": "code",
   "execution_count": 3,
   "metadata": {},
   "outputs": [],
   "source": [
    "src1 =cv2.imread(\"./data/Lenna.png\")\n",
    "src2 = cv2.imread(\"./data/opencv_logo.png\")\n",
    "rows ,cols,channels = src2.shape\n",
    "roi = src1[0:rows, 0:cols]\n",
    "\n",
    "# roi를 src1의 가로 부터 세로 까지 크기를 정해준다.\n",
    "# 둘의 영상 크기가 다르기 때문에 영상 크기를 합치기 위해서 roi를 설정해줬다.\n",
    "\n",
    "gray = cv2.cvtColor(src2, cv2.COLOR_BGR2GRAY)\n",
    "\n",
    "# 컨버트 컬러: 칼라를 변경한다. opencv이기 때문에 bgr로 읽힌다.\n",
    "\n",
    "ret , mask = cv2.threshold(gray, 160, 255, cv2.THRESH_BINARY)\n",
    "\n",
    "# 쓰레숄드는 세그멘 테이션 할 때 가장 기반이 되는 함수이다.\n",
    "# 밝기 값을 가지고 영상을 특정 영역을 뽑아내는 함수로 한다.\n",
    "# opencv 그레이 영상을 넣어주고 회색값이 160에서 255인 영역만 가지고 온다.\n",
    "# Thresh_Binary로 만드는데, 0 아니면 255로 만든는 것을 만든다. \n",
    "# 따라서 바탕은 255 나머지 영역은 0이 된다.\n",
    "\n",
    "mask_inv = cv2.bitwise_not(mask)\n",
    "\n",
    "# bitwise_not은 0 을 255로 255를 0으로 봐꿔주는 반전 역할을 한다.\n",
    "\n",
    "src1_bg = cv2.bitwise_and(roi, roi, mask = mask)\n",
    "\n",
    "# 같은 영상을 and 했다는 것은 당연히 같은 roi가 나온다.\n",
    "# mask가 나온것은 일부 영역만 한다, 즉 0이 아닌 부분만 한다.\n",
    "# 즉, 0이 였던 부분은 모두 까맣게 된다.\n",
    "\n",
    "src2_fg = cv2.bitwise_and(src2, src2, mask=mask_inv)\n",
    "\n",
    "#쉽게 생각하면 세개의 영역을 모두 and 시켰다고 생각하면 된다.\n",
    "\n",
    "dst = cv2.bitwise_or(src1_bg, src2_fg)\n",
    "\n",
    "# or를 하게 된다면 두개를 합치는 것이다. 그렇게 되면 검정영역이 없어진다.\n",
    "\n",
    "cv2.imshow(\"mask\", mask)\n",
    "cv2.imshow(\"mask_inv\", mask_inv)\n",
    "cv2.imshow(\"src1_bg\", src1_bg)\n",
    "cv2.imshow(\"src2_fg\", src2_fg)\n",
    "cv2.imshow(\"dst\",dst)\n",
    "\n",
    "#이걸 이용하면 일기 예보 같은 기상캐스터 뒤에 날씨 예보가 나오는데\n",
    "#그런것들에 적용할 수가 있다.\n",
    "\n",
    "cv2.waitKey()\n",
    "cv2.destroyAllWindows()"
   ]
  },
  {
   "cell_type": "code",
   "execution_count": null,
   "metadata": {},
   "outputs": [
    {
     "name": "stdout",
     "output_type": "stream",
     "text": [
      "n= 0\n"
     ]
    }
   ],
   "source": [
    "src1 = cv2.imread(\"./data/Lenna.png\", 0)\n",
    "src2 = np.zeros(shape=(512, 512), dtype=np.uint8) + 255\n",
    "\n",
    "dst1 = 255 - src1\n",
    "\n",
    "# #inverse\n",
    "# 왜냐하면 소스가 255라면 0이 되고 0이면 255가 된다.\n",
    "\n",
    "dst2 = cv2.subtract(src2, src1)\n",
    "\n",
    "# 위의 두결과가 같다\n",
    "\n",
    "dst3 = cv2.compare(dst1, dst2, cv2.CMP_NE)\n",
    "\n",
    "# compare을 보면 dst1과 dst2를 비교해라 CMP_NE: 둘이 다른게 있는지 확인해라\n",
    "# 다르다면 0이 아닌 부분만 반환해준다.\n",
    "# 결국 dst3는 0으로 가득한 512 512가 된다.\n",
    "#EQ는 둘이 같은 부분을 찾아라\n",
    "\n",
    "n = cv2.countNonZero(dst3)\n",
    "\n",
    "# dst3가 0이 아닌 곳의 갯수를 찾아준다. 결국 0이 나온다 \n",
    "print(\"n=\",n)\n",
    "\n",
    "cv2.imshow(\"dst1\", dst1)\n",
    "cv2.imshow(\"dst2\", dst2)\n",
    "cv2.imshow(\"dst3\", dst3)\n",
    "\n",
    "cv2.waitKey()\n",
    "cv2.destroyAllWindows()\n"
   ]
  },
  {
   "cell_type": "code",
   "execution_count": null,
   "metadata": {},
   "outputs": [],
   "source": []
  }
 ],
 "metadata": {
  "kernelspec": {
   "display_name": "Python 3",
   "language": "python",
   "name": "python3"
  },
  "language_info": {
   "codemirror_mode": {
    "name": "ipython",
    "version": 3
   },
   "file_extension": ".py",
   "mimetype": "text/x-python",
   "name": "python",
   "nbconvert_exporter": "python",
   "pygments_lexer": "ipython3",
   "version": "3.7.6"
  }
 },
 "nbformat": 4,
 "nbformat_minor": 4
}
