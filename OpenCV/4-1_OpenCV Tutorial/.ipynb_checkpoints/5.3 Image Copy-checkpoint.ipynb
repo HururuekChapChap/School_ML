{
 "cells": [
  {
   "cell_type": "code",
   "execution_count": 1,
   "metadata": {},
   "outputs": [],
   "source": [
    "import cv2\n",
    "import numpy as np"
   ]
  },
  {
   "cell_type": "code",
   "execution_count": 2,
   "metadata": {},
   "outputs": [],
   "source": [
    "src = cv2.imread(\"./data/Lenna.png\", cv2.IMREAD_GRAYSCALE)\n",
    "\n",
    "dst = src.copy() #복사를 했기 때문에 서로에게 영향을 주지 않는다.\n",
    "dst[100:400, 200:300] = 0\n",
    "\n",
    "cv2.imshow(\"scr\", src) \n",
    "cv2.imshow(\"dst\", dst)\n",
    "cv2.waitKey()\n",
    "cv2.destroyAllWindows()"
   ]
  },
  {
   "cell_type": "code",
   "execution_count": 10,
   "metadata": {},
   "outputs": [
    {
     "name": "stdout",
     "output_type": "stream",
     "text": [
      "(512, 512, 3)\n"
     ]
    }
   ],
   "source": [
    "src = cv2.imread(\"./data/Lenna.png\", cv2.IMREAD_GRAYSCALE)\n",
    "\n",
    "shape = src.shape[0], src.shape[1] , 3 #width , height ,컬러3차원\n",
    "dst = np.zeros(shape, dtype=np.uint8)\n",
    "#소스는 그레이영상으로 읽는다. 그런데 채널이 3차원인 컬러영상이 된다.\n",
    "print(dst.shape)\n",
    "\n",
    "dst[:,:,0] = src # B - 채널 이럴경우 DST에 소스의 값을 넣어줬다,\n",
    "dst[:,:,1] = src # G - Channel\n",
    "dst[:,:,2] = src # R- Channel\n",
    "\n",
    "dst[100:400, 200:300, :] = [255,255,255] #이영역에서는 흰색이 들어간다.\n",
    "\n",
    "cv2.imshow(\"scr\", src) \n",
    "cv2.imshow(\"dst\", dst)\n",
    "cv2.waitKey()\n",
    "cv2.destroyAllWindows()"
   ]
  },
  {
   "cell_type": "code",
   "execution_count": null,
   "metadata": {},
   "outputs": [],
   "source": []
  },
  {
   "cell_type": "code",
   "execution_count": null,
   "metadata": {},
   "outputs": [],
   "source": []
  },
  {
   "cell_type": "code",
   "execution_count": null,
   "metadata": {},
   "outputs": [],
   "source": []
  }
 ],
 "metadata": {
  "kernelspec": {
   "display_name": "Python 3",
   "language": "python",
   "name": "python3"
  },
  "language_info": {
   "codemirror_mode": {
    "name": "ipython",
    "version": 3
   },
   "file_extension": ".py",
   "mimetype": "text/x-python",
   "name": "python",
   "nbconvert_exporter": "python",
   "pygments_lexer": "ipython3",
   "version": "3.7.6"
  }
 },
 "nbformat": 4,
 "nbformat_minor": 4
}
