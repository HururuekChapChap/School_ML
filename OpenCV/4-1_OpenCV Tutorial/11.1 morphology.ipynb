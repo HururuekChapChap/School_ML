{
 "cells": [
  {
   "cell_type": "code",
   "execution_count": 1,
   "metadata": {},
   "outputs": [],
   "source": [
    "import cv2\n",
    "import numpy as np"
   ]
  },
  {
   "cell_type": "code",
   "execution_count": 2,
   "metadata": {},
   "outputs": [],
   "source": [
    "src = cv2.imread(\"./data/morphology.jpg\", 0)\n",
    "#구성요소를 지정합니다. 사격형이고 3*3 정방형 지정해준다.\n",
    "kernel = cv2.getStructuringElement(shape=cv2.MORPH_RECT, ksize=(3,3))\n",
    "#그리고 커널과 원본사진 반복횟수를 지정해준다.\n",
    "erode = cv2.erode(src,kernel, iterations = 5)\n",
    "dilate = cv2.dilate(src, kernel, iterations = 5)\n",
    "\n",
    "#팽창에 침식 = CLose\n",
    "erode2 = cv2.erode(dilate, kernel, iterations = 7)\n",
    "#그리고 Close를 다시 팽창한다. 왜냐하면 erode를 통해 겉 부분이 침식이 됐는데\n",
    "#원래의 오프젝트 크기를 탄생시키기 위해서\n",
    "dilate2 = cv2.dilate(erode2, kernel, iterations =  2)\n",
    "\n",
    "cv2.imshow(\"src\", src)\n",
    "cv2.imshow(\"erode\", erode)\n",
    "cv2.imshow(\"dilate\", dilate)\n",
    "cv2.imshow(\"erode2\", erode2)\n",
    "cv2.imshow(\"dilate2\", dilate2)\n",
    "cv2.waitKey()\n",
    "cv2.destroyAllWindows()"
   ]
  },
  {
   "cell_type": "code",
   "execution_count": 3,
   "metadata": {},
   "outputs": [],
   "source": [
    "closing = cv2.morphologyEx(src, cv2.MORPH_CLOSE, kernel, iterations = 5)\n",
    "opening = cv2.morphologyEx(closing, cv2.MORPH_OPEN, kernel, iterations = 5)\n",
    "gradient = cv2.morphologyEx(opening, cv2.MORPH_GRADIENT, kernel)\n",
    "gradient = cv2.morphologyEx(opening, cv2.MORPH_GRADIENT, kernel, iterations = 5)\n",
    "\n",
    "tophat = cv2.morphologyEx(src, cv2.MORPH_TOPHAT, kernel, iterations = 5)\n",
    "blackhat = cv2.morphologyEx(src, cv2.MORPH_BLACKHAT, kernel, iterations = 5)\n",
    "\n",
    "cv2.imshow(\"src\", src)\n",
    "cv2.imshow(\"closing\", closing)\n",
    "cv2.imshow(\"opening\", opening)\n",
    "cv2.imshow(\"gradient\", gradient)\n",
    "cv2.imshow(\"tophat\", tophat)\n",
    "cv2.imshow(\"blackhat\", blackhat)\n",
    "cv2.waitKey()\n",
    "cv2.destroyAllWindows()"
   ]
  },
  {
   "cell_type": "code",
   "execution_count": null,
   "metadata": {},
   "outputs": [],
   "source": []
  }
 ],
 "metadata": {
  "kernelspec": {
   "display_name": "Python 3",
   "language": "python",
   "name": "python3"
  },
  "language_info": {
   "codemirror_mode": {
    "name": "ipython",
    "version": 3
   },
   "file_extension": ".py",
   "mimetype": "text/x-python",
   "name": "python",
   "nbconvert_exporter": "python",
   "pygments_lexer": "ipython3",
   "version": "3.7.6"
  }
 },
 "nbformat": 4,
 "nbformat_minor": 4
}
