{
 "cells": [
  {
   "cell_type": "code",
   "execution_count": 8,
   "metadata": {},
   "outputs": [],
   "source": [
    "import cv2\n",
    "import numpy as np\n",
    "import imutils"
   ]
  },
  {
   "cell_type": "code",
   "execution_count": 15,
   "metadata": {},
   "outputs": [],
   "source": [
    "image = cv2.imread(\"./data/more_shapes.png\")\n",
    "gray = cv2.cvtColor(image, cv2.COLOR_BGR2GRAY)\n",
    "ret, mask = cv2.threshold(gray, 50, 255, cv2.THRESH_BINARY)\n",
    "cv2.imshow(\"mask\", mask)\n",
    "cv2.waitKey()\n",
    "cv2.destroyAllWindows()"
   ]
  },
  {
   "cell_type": "markdown",
   "metadata": {},
   "source": [
    "# Bonding box"
   ]
  },
  {
   "cell_type": "code",
   "execution_count": 16,
   "metadata": {},
   "outputs": [],
   "source": [
    "#find external contours in the image\n",
    "\n",
    "cnts, _ = cv2.findContours(mask, cv2.RETR_EXTERNAL, cv2.CHAIN_APPROX_SIMPLE)\n",
    "\n",
    "#clone the original image\n",
    "clone = image.copy()\n",
    "\n",
    "#loop over the contours\n",
    "for c in cnts:\n",
    "    #fit a bounding box to the contour\n",
    "    (x, y, w, h) = cv2.boundingRect(c)\n",
    "    cv2.rectangle(clone, (x, y), (x + w, y + h), (0,255,0), 2)\n",
    "    \n",
    "# show the cutput image\n",
    "cv2.imshow(\"Bounding Boxes\", clone)\n",
    "cv2.waitKey() \n",
    "cv2.destroyAllWindows()\n",
    "\n",
    "#게임 프로그래밍 요소에 충돌체크 할 때, 이 바운딩 박스를 사용한다\n"
   ]
  },
  {
   "cell_type": "markdown",
   "metadata": {},
   "source": [
    "# Oriented Bounding Box"
   ]
  },
  {
   "cell_type": "code",
   "execution_count": 6,
   "metadata": {},
   "outputs": [],
   "source": [
    "#clone the original image\n",
    "\n",
    "clone = image.copy()\n",
    "\n",
    "#loop over the contours\n",
    "\n",
    "for c in cnts:\n",
    "    #fit a rotated bounding box to the contour and draw a roted bounding box\n",
    "    rect = cv2.minAreaRect(c)\n",
    "    box = cv2.boxPoints(rect)\n",
    "    box = np.int0(box)\n",
    "    cv2.drawContours(clone, [box], -1, (0,255,0), 2)\n",
    "    \n",
    "#show thre cuput image\n",
    "cv2.imshow(\"Oriented Bounding Boxes\", clone)\n",
    "cv2.waitKey()\n",
    "cv2.destroyAllWindows()"
   ]
  },
  {
   "cell_type": "markdown",
   "metadata": {},
   "source": [
    "# Bounding Sphere"
   ]
  },
  {
   "cell_type": "code",
   "execution_count": 13,
   "metadata": {},
   "outputs": [],
   "source": [
    "clone = image.copy()\n",
    "\n",
    "for c in cnts:\n",
    "    (x,y), r = cv2.minEnclosingCircle(c)\n",
    "    center = (int(x), int(y))\n",
    "    r = int(r)\n",
    "    cv2.circle(clone,center,r , (255,0,0), 3)\n",
    "    \n",
    "cv2.imshow(\"Bounding Sphere\", clone)\n",
    "cv2.waitKey()\n",
    "cv2.destroyAllWindows()"
   ]
  },
  {
   "cell_type": "markdown",
   "metadata": {},
   "source": [
    "# Convex Hull"
   ]
  },
  {
   "cell_type": "code",
   "execution_count": 12,
   "metadata": {},
   "outputs": [],
   "source": [
    "clone = image.copy()\n",
    "\n",
    "for c in cnts:\n",
    "    hull = cv2.convexHull(c)\n",
    "    cv2.drawContours(clone, [hull], - 1, (0,0,255), 2)\n",
    "\n",
    "cv2.imshow(\"Convec Hull\", clone)\n",
    "cv2.waitKey()\n",
    "cv2.destroyAllWindows()    \n",
    "\n",
    "#빈 공간 없이 꽉 채워서 사각형을 만들어 주는것"
   ]
  },
  {
   "cell_type": "code",
   "execution_count": null,
   "metadata": {},
   "outputs": [],
   "source": []
  }
 ],
 "metadata": {
  "kernelspec": {
   "display_name": "Python 3",
   "language": "python",
   "name": "python3"
  },
  "language_info": {
   "codemirror_mode": {
    "name": "ipython",
    "version": 3
   },
   "file_extension": ".py",
   "mimetype": "text/x-python",
   "name": "python",
   "nbconvert_exporter": "python",
   "pygments_lexer": "ipython3",
   "version": "3.7.6"
  }
 },
 "nbformat": 4,
 "nbformat_minor": 4
}
