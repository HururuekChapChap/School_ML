{
 "cells": [
  {
   "cell_type": "code",
   "execution_count": 1,
   "metadata": {},
   "outputs": [],
   "source": [
    "import cv2\n",
    "import numpy as np"
   ]
  },
  {
   "cell_type": "code",
   "execution_count": 3,
   "metadata": {},
   "outputs": [
    {
     "name": "stdout",
     "output_type": "stream",
     "text": [
      "ret= 120.0\n"
     ]
    }
   ],
   "source": [
    "src = cv2.imread(\"./data/heart10.jpg\", 0)\n",
    "#쓰레숄드 함수를 실행시켰습니다. \n",
    "# 앞에있는 ret는 쓰레숄드 값을 반환 받고\n",
    "# dst는 쓰레숄드가 적용된 출력 영상이 저장 된다.\n",
    "# 소스를 넣고 \n",
    "#숫자 두개(쓰레숄드가 120으로 하고 120 보다 큰 놈은 255로 해라- maxval)가 \n",
    "# 그리고 THRESH_BINARY(쓰레숄드 보다 큰 놈만 남기도 나머지는 삭제)\n",
    "ret, dst = cv2.threshold(src, 120, 255, cv2.THRESH_BINARY)\n",
    "print(\"ret=\", ret)\n",
    "\n",
    "cv2.imshow(\"src\", src)\n",
    "#120 보다 밝기 값이 큰 것 때문에 하트에 흰색이 들어가 있다\n",
    "cv2.imshow(\"dst\", dst)\n",
    "cv2.waitKey()\n",
    "cv2.destroyAllWindows()"
   ]
  },
  {
   "cell_type": "code",
   "execution_count": 4,
   "metadata": {},
   "outputs": [
    {
     "name": "stdout",
     "output_type": "stream",
     "text": [
      "threshod= 175.0\n"
     ]
    }
   ],
   "source": [
    "src = cv2.imread(\"./data/heart10.jpg\", 0)\n",
    "#오츠로 계산한 큰 놈들만 님기고 바이너리로 출력해라\n",
    "# 근데 이상한 점이 있는데,, 200이 들어가 이유는 아무런 의미가 없다\n",
    "# 왜냐하면 오츠가 들어가 자동으로 쓰레숄드를 계산해준다. = ret 175가 나옴\n",
    "ret2, dst2 = cv2.threshold(src, 200, 255, cv2.THRESH_BINARY + cv2.THRESH_OTSU)\n",
    "print(\"threshod=\", ret2)\n",
    "cv2.imshow(\"ds2t\", dst2)\n",
    "cv2.waitKey()\n",
    "cv2.destroyAllWindows()"
   ]
  },
  {
   "cell_type": "code",
   "execution_count": 3,
   "metadata": {},
   "outputs": [
    {
     "name": "stdout",
     "output_type": "stream",
     "text": [
      "threshold 149.0\n"
     ]
    }
   ],
   "source": [
    "src2 = cv2.imread(\"./data/srcThreshold.png\", cv2.IMREAD_GRAYSCALE)\n",
    "\n",
    "ret, dst3 = cv2.threshold(src2, 128, 255, cv2.THRESH_BINARY)\n",
    "ret4, dst4 = cv2.threshold(src2, 0, 255, cv2.THRESH_BINARY + cv2.THRESH_OTSU)\n",
    "print(\"threshold\", ret4)\n",
    "#지역마다 쓰레숄드가 다르기 때문에 쓰레숄드를 지정해줄 필요가 없다. 51은 적당히 지정해준다\n",
    "#구간 별로 쓰레숄드를 지정해주는데 구간의 크기를 7로 한 것이다. 7 * 7\n",
    "dst5 = cv2.adaptiveThreshold(src2, 255, cv2.ADAPTIVE_THRESH_MEAN_C, cv2.THRESH_BINARY, 51,7 )\n",
    "dst6 = cv2.adaptiveThreshold(src2, 255, cv2.ADAPTIVE_THRESH_GAUSSIAN_C, cv2.THRESH_BINARY, 51,7 )\n",
    "cv2.imshow(\"src2\", src2)\n",
    "cv2.imshow(\"dst3\", dst3)\n",
    "cv2.imshow(\"dst4\", dst4)\n",
    "cv2.imshow(\"dst5\", dst5)\n",
    "cv2.imshow(\"dst6\", dst6)\n",
    "\n",
    "cv2.waitKey()\n",
    "cv2.destroyAllWindows()"
   ]
  },
  {
   "cell_type": "code",
   "execution_count": null,
   "metadata": {},
   "outputs": [],
   "source": []
  }
 ],
 "metadata": {
  "kernelspec": {
   "display_name": "Python 3",
   "language": "python",
   "name": "python3"
  },
  "language_info": {
   "codemirror_mode": {
    "name": "ipython",
    "version": 3
   },
   "file_extension": ".py",
   "mimetype": "text/x-python",
   "name": "python",
   "nbconvert_exporter": "python",
   "pygments_lexer": "ipython3",
   "version": "3.7.6"
  }
 },
 "nbformat": 4,
 "nbformat_minor": 4
}
