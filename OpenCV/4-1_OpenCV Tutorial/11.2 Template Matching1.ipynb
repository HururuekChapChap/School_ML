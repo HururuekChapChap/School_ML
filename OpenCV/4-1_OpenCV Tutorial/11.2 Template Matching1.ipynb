{
 "cells": [
  {
   "cell_type": "code",
   "execution_count": 3,
   "metadata": {},
   "outputs": [],
   "source": [
    "import cv2\n",
    "import numpy as np"
   ]
  },
  {
   "cell_type": "code",
   "execution_count": 4,
   "metadata": {},
   "outputs": [
    {
     "name": "stdout",
     "output_type": "stream",
     "text": [
      "TM_SQDIFF_NORMED:  0.0 (558, 323)\n"
     ]
    }
   ],
   "source": [
    "src = cv2.imread(\"./data/circuit.bmp\", 0)\n",
    "tmp = cv2.imread(\"./data/circuit_tmp.bmp\", 0) #템플렛 영상은 그레이로 해줘야한다.\n",
    "dst = cv2.cvtColor(src, cv2.COLOR_GRAY2BGR)\n",
    "\n",
    "r1 = cv2.matchTemplate(src, tmp, cv2.TM_SQDIFF_NORMED)#마지막은 기능을 담당하는 함수\n",
    "\n",
    "#r1에 각 위치별로 차이값이 들어가 있고 거기서 가장 작은 수를 \n",
    "# 가져와야하기 때문에 minMaxLoc을 가져와서 최소값을 챙겨온다\n",
    "minVal , _ , minLoc, _ = cv2.minMaxLoc(r1)\n",
    "print(\"TM_SQDIFF_NORMED: \", minVal, minLoc) #값이랑 위치가 나온다.\n",
    "\n",
    "#부품의 높이와 너비를 챙겨온다.\n",
    "w, h = tmp.shape[:2]\n",
    "#위치는 minLoc최소 위치에 넣어준다. \n",
    "# 그리고 시작 위치 에서 높이와 너비를 넣어줘서 그려준다.\n",
    "# BGR이니 파랑색으로 그려준다.\n",
    "cv2.rectangle(dst, minLoc, (minLoc[0]+h, minLoc[1]+w), (255,0,0), 2)\n",
    "\n",
    "cv2.imshow(\"dst\", dst)\n",
    "cv2.waitKey()\n",
    "cv2.destroyAllWindows()"
   ]
  },
  {
   "cell_type": "code",
   "execution_count": 6,
   "metadata": {},
   "outputs": [
    {
     "name": "stdout",
     "output_type": "stream",
     "text": [
      "minVal, maxVal, minLoc, maxLoc -0.10344115644693375 0.2853729724884033 (453, 354) (558, 323)\n"
     ]
    }
   ],
   "source": [
    "src = cv2.imread(\"./data/circuit_modified.bmp\", 0)\n",
    "tmp = cv2.imread(\"./data/circuit_tmp.bmp\", 0)\n",
    "dst = cv2.cvtColor(src, cv2.COLOR_GRAY2BGR)\n",
    "\n",
    "#SQDIFF는 값이 작을 수록 일치도가 높은 반면\n",
    "#CCOEFF는 값이 1과 가까울 수록 일치도가 높은 것이다.\n",
    "\n",
    "#R1 = cv2.matchTemplate(src, tmp, cv2.TM_SQDIFF_NORMED)\n",
    "# R1 = cv2.matchTemplate(src, tmp, cv2.TM_CCORR_NORMED)\n",
    "R1 = cv2.matchTemplate(src, tmp, cv2.TM_CCOEFF_NORMED)\n",
    "minVal, maxVal, minLoc, maxLoc = cv2.minMaxLoc(R1)\n",
    "\n",
    "print(\"minVal, maxVal, minLoc, maxLoc\", minVal, maxVal, minLoc, maxLoc)\n",
    "\n",
    "# y, x = minLoc[:2]\n",
    "y, x = maxLoc[:2]\n",
    "w,h = tmp.shape[:2]\n",
    "cv2.rectangle(dst, (y,x), (y+h, x+w), (255, 0,0), 2)\n",
    "\n",
    "cv2.imshow(\"dst\", dst)\n",
    "cv2.waitKey()\n",
    "cv2.destroyAllWindows()"
   ]
  },
  {
   "cell_type": "code",
   "execution_count": null,
   "metadata": {},
   "outputs": [],
   "source": []
  }
 ],
 "metadata": {
  "kernelspec": {
   "display_name": "Python 3",
   "language": "python",
   "name": "python3"
  },
  "language_info": {
   "codemirror_mode": {
    "name": "ipython",
    "version": 3
   },
   "file_extension": ".py",
   "mimetype": "text/x-python",
   "name": "python",
   "nbconvert_exporter": "python",
   "pygments_lexer": "ipython3",
   "version": "3.7.6"
  }
 },
 "nbformat": 4,
 "nbformat_minor": 4
}
