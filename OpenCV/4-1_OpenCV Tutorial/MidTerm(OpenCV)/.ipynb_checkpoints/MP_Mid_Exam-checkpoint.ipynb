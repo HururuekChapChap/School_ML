{
 "cells": [
  {
   "cell_type": "markdown",
   "metadata": {},
   "source": [
    "# - 미디어처리 알고리즘설계 중간고사 -\n",
    "\n",
    "\n",
    "<span style=\"color:red\">\n",
    "    \n",
    "###   - 다음 두 문제를 보고 TODO에 코드를 작성하면 됩니다. \n",
    "\n",
    "###   - 코드를 모두 작성하고 업로드는 학번.ipynb 로 파일을 저장하여 업로드합니다. \n",
    "\n",
    "###       (영상, 동영상은 업로드하지말고 소스코드 하나만 업로드 합니다.) \n",
    "\n",
    "###   - 업로드하는 파일은 html이 아니라 주피터 코드 자체 ipynb 파일을 업로드하기 바랍니다. \n",
    "\n",
    "###       (opencv의 경우 html로 결과를 확인 할 수 없기 때문에 꼭 ipynb 파일을 올리기 바랍니다.) \n",
    "    \n",
    "</span>"
   ]
  },
  {
   "cell_type": "markdown",
   "metadata": {},
   "source": [
    "### 1. data/vtest.avi 동영상을 로딩하고 이 동영상을 플레이 하는 윈도우와 gray 영상으로 플레이 하는\n",
    "### 윈도우를 생성하여 동시에 띄워라. "
   ]
  },
  {
   "cell_type": "code",
   "execution_count": 54,
   "metadata": {},
   "outputs": [],
   "source": [
    "import cv2\n",
    "\n",
    "# TODO\n",
    "\n",
    "cap = cv2.VideoCapture(\"./data/vtest.avi\")\n",
    "\n",
    "while True:\n",
    "    retval, frame = cap.read()\n",
    "    \n",
    "    #retval은 잘 가져왔는지 확인해준다.\n",
    "    if not retval:\n",
    "        break\n",
    "        \n",
    "     #동여상에서 이미지를 가져온다.  \n",
    "    cv2.imshow(\"frame\",frame)\n",
    "    gray = cv2.cvtColor(frame, cv2.COLOR_RGB2GRAY)\n",
    "    cv2.imshow(\"frame2\",gray)\n",
    "    key = cv2.waitKey(25)\n",
    "    if key == 27:\n",
    "        break\n",
    "\n",
    "#종료하면 영상을 보여준다.\n",
    "if cap.isOpened():\n",
    "    cap.release()\n",
    "\n",
    "cv2.destroyAllWindows()"
   ]
  },
  {
   "cell_type": "markdown",
   "metadata": {},
   "source": [
    "### 2. data/baboon.jpg 파일을 gray로 로딩하고 마우스로 ROI를 설정하면 ROI로 설정 된 영역이 다른 윈도우에 \n",
    "### 출력이 되도록 하되 이 새로운 윈도우에 밝기값을 조절할 수 있는 트랙바를 생성하라.\n",
    "### (트랙바의 범위는 0 ~ 100 이고,  출력되는 밝기 값은 (트랙바 값/100)*원 밝기값 으로 하라.)"
   ]
  },
  {
   "cell_type": "code",
   "execution_count": 49,
   "metadata": {},
   "outputs": [],
   "source": [
    "import cv2\n",
    "import numpy as np\n",
    "\n",
    "# TODO\n",
    "def onChange(pos): #pos라는 변수를 통해서 넘어온다.\n",
    "    global image \n",
    "    r = cv2.getTrackbarPos(\"bright\", \"img\")\n",
    "    temp = np.uint8((r/100) * image) #img값을 바꿔준다.\n",
    "    cv2.imshow(\"img\", temp)\n",
    "\n",
    "src = cv2.imread(\"./data/baboon.jpg\", 0)\n",
    "roi = cv2.selectROI(src)\n",
    "image = src[roi[1]:roi[1] + roi[3], roi[0]:roi[0] + roi[2]]\n",
    "cv2.imshow(\"img\", image )\n",
    "\n",
    "#트랙바 생성\n",
    "cv2.createTrackbar(\"bright\", \"img\", 0, 100, onChange)\n",
    "\n",
    "cv2.setTrackbarPos(\"bright\",\"img\",100)\n",
    "\n",
    "cv2.waitKey()\n",
    "cv2.destroyAllWindows()"
   ]
  },
  {
   "cell_type": "code",
   "execution_count": 45,
   "metadata": {},
   "outputs": [],
   "source": []
  },
  {
   "cell_type": "code",
   "execution_count": null,
   "metadata": {},
   "outputs": [],
   "source": []
  },
  {
   "cell_type": "code",
   "execution_count": null,
   "metadata": {},
   "outputs": [],
   "source": []
  }
 ],
 "metadata": {
  "kernelspec": {
   "display_name": "Python 3",
   "language": "python",
   "name": "python3"
  },
  "language_info": {
   "codemirror_mode": {
    "name": "ipython",
    "version": 3
   },
   "file_extension": ".py",
   "mimetype": "text/x-python",
   "name": "python",
   "nbconvert_exporter": "python",
   "pygments_lexer": "ipython3",
   "version": "3.7.6"
  }
 },
 "nbformat": 4,
 "nbformat_minor": 4
}
