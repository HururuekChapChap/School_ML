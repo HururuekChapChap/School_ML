{
 "cells": [
  {
   "cell_type": "code",
   "execution_count": 7,
   "metadata": {},
   "outputs": [],
   "source": [
    "import numpy as np\n",
    "import cv2\n",
    "\n",
    "Lenna = \"./data/Lenna.png\"\n",
    "Baboon = \"./data/Baboon.png\"\n",
    "\n",
    "img1 = 0\n",
    "img2 = 0\n",
    "img3 = 0"
   ]
  },
  {
   "cell_type": "code",
   "execution_count": 17,
   "metadata": {},
   "outputs": [],
   "source": [
    "def onChange(pos):\n",
    "    n = cv2.getTrackbarPos(\"alpha\", \"image\") #알파라는 트랙바에 이미지라는 윈도우에 있다.\n",
    "    print(n)\n",
    "    alpha = n/100\n",
    "    img3 = np.uint8((alpha*img2 + (1-alpha)*img1)) #알바블랜딩 두 영상을 섞는다.\n",
    "    cv2.imshow(\"image\", img3)"
   ]
  },
  {
   "cell_type": "code",
   "execution_count": 18,
   "metadata": {},
   "outputs": [
    {
     "name": "stdout",
     "output_type": "stream",
     "text": [
      "1\n",
      "2\n",
      "3\n",
      "7\n",
      "13\n",
      "19\n",
      "25\n",
      "27\n",
      "28\n",
      "8\n",
      "28\n",
      "48\n"
     ]
    }
   ],
   "source": [
    "img1 = cv2.imread(Lenna)\n",
    "img2 = cv2.imread(Baboon)\n",
    "img3 = img1.copy()\n",
    "\n",
    "cv2.imshow(\"image\", img3) #처음에 이미지라는 윈도우를 만들고\n",
    "cv2.createTrackbar(\"alpha\", \"image\", 0, 100, onChange)\n",
    "#트랙바를 만들고 첫 값은 0 그리고 100 까지 \n",
    "\n",
    "cv2.waitKey()\n",
    "cv2.destroyAllWindows()\n"
   ]
  },
  {
   "cell_type": "code",
   "execution_count": null,
   "metadata": {},
   "outputs": [],
   "source": []
  }
 ],
 "metadata": {
  "kernelspec": {
   "display_name": "Python 3",
   "language": "python",
   "name": "python3"
  },
  "language_info": {
   "codemirror_mode": {
    "name": "ipython",
    "version": 3
   },
   "file_extension": ".py",
   "mimetype": "text/x-python",
   "name": "python",
   "nbconvert_exporter": "python",
   "pygments_lexer": "ipython3",
   "version": "3.7.6"
  }
 },
 "nbformat": 4,
 "nbformat_minor": 4
}
