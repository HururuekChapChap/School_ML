{
 "cells": [
  {
   "cell_type": "code",
   "execution_count": 1,
   "metadata": {},
   "outputs": [],
   "source": [
    "import numpy as np\n",
    "import cv2\n",
    "\n",
    "width, height = 512,512 # 512,512 크기의 영상을 만든다\n",
    "x, y , R = 256,256, 50 #반지름이 50인 원을 256,256 위치에 둔다.\n",
    "direction = 0 #right\n",
    "\n",
    "while True:\n",
    "    key = cv2.waitKeyEx(30) \n",
    "    #waitKeyEx를 만나면 키 입력이 있을 때 까지 계속 기다림, 아무것도 없다면\n",
    "    # 계속 멈춰 있게 된다. 30이라는 숫자를 넣어주면 30 까지 기다렸다가 키 입력이 없다면 그냥 빠져나간다.                        \n",
    "    if key == 0x1B: #ESC는 0x1B을 의미한다.\n",
    "        break\n",
    "\n",
    "#방향키 방향 전환\n",
    "    elif key == 0x270000: \n",
    "        direction = 0 \n",
    "    elif key == 0x280000:\n",
    "        direction = 1 \n",
    "    elif key == 0x250000:\n",
    "        direction =2\n",
    "    elif key == 0x260000:\n",
    "        direction =3\n",
    "\n",
    "#방향으로 이동\n",
    "    if direction == 0: # right\n",
    "        x += 10\n",
    "    elif direction == 1: # down\n",
    "        y += 10\n",
    "    elif direction == 2: # left\n",
    "        x -= 10\n",
    "    else: # 3, up\n",
    "        y -= 10\n",
    "\n",
    "# 경계확인\n",
    "    if x < R : # x가 중심좌표 보다 작아 졌을 경우  작지 않게 하고 방향을 변경시켜준다.\n",
    "        x = R\n",
    "        direction  = 0\n",
    "    \n",
    "    if x > width - R:\n",
    "        x = width - R\n",
    "        direction = 2\n",
    "    if y < R:\n",
    "        y = R\n",
    "        direction = 1\n",
    "    if y > height - R:\n",
    "        y = height - R\n",
    "        direction = 3\n",
    "        \n",
    "#지우고 다시 그리기\n",
    "    img = np.zeros((width, height,3), np.uint8) + 255 #칼라이기 때문에 3 차원이여어 햔다.\n",
    "    cv2.circle(img, (x,y), R, (0,0,255),-1) #x, y 위치에 반지름이 R인 것을 그린다. 빨간색으로\n",
    "    cv2.imshow(\"img\", img)\n",
    "\n",
    "cv2.destroyAllWindows() #끝낸다"
   ]
  },
  {
   "cell_type": "code",
   "execution_count": null,
   "metadata": {},
   "outputs": [],
   "source": []
  }
 ],
 "metadata": {
  "kernelspec": {
   "display_name": "Python 3",
   "language": "python",
   "name": "python3"
  },
  "language_info": {
   "codemirror_mode": {
    "name": "ipython",
    "version": 3
   },
   "file_extension": ".py",
   "mimetype": "text/x-python",
   "name": "python",
   "nbconvert_exporter": "python",
   "pygments_lexer": "ipython3",
   "version": "3.7.6"
  }
 },
 "nbformat": 4,
 "nbformat_minor": 4
}
